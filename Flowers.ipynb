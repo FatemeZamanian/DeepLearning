{
  "nbformat": 4,
  "nbformat_minor": 0,
  "metadata": {
    "colab": {
      "name": "Flowers.ipynb",
      "provenance": [],
      "collapsed_sections": [],
      "authorship_tag": "ABX9TyO4/YxUG9Hf9HLCNWjOOKBx",
      "include_colab_link": true
    },
    "kernelspec": {
      "name": "python3",
      "display_name": "Python 3"
    },
    "language_info": {
      "name": "python"
    },
    "accelerator": "GPU"
  },
  "cells": [
    {
      "cell_type": "markdown",
      "metadata": {
        "id": "view-in-github",
        "colab_type": "text"
      },
      "source": [
        "<a href=\"https://colab.research.google.com/github/FatemeZamanian/DeepLearning/blob/main/Flowers.ipynb\" target=\"_parent\"><img src=\"https://colab.research.google.com/assets/colab-badge.svg\" alt=\"Open In Colab\"/></a>"
      ]
    },
    {
      "cell_type": "code",
      "metadata": {
        "colab": {
          "base_uri": "https://localhost:8080/"
        },
        "id": "nVtuBvHWSuR0",
        "outputId": "11b075c2-a861-4915-f7cc-b34132ab6f10"
      },
      "source": [
        "from google.colab import drive\n",
        "drive.mount('/content/drive')"
      ],
      "execution_count": 1,
      "outputs": [
        {
          "output_type": "stream",
          "name": "stdout",
          "text": [
            "Mounted at /content/drive\n"
          ]
        }
      ]
    },
    {
      "cell_type": "code",
      "metadata": {
        "id": "21024cvgS52Y"
      },
      "source": [
        "import tensorflow as tf\n",
        "from tensorflow.keras import layers\n",
        "from tensorflow.keras.preprocessing.image import ImageDataGenerator\n",
        "import numpy as np\n",
        "import os"
      ],
      "execution_count": 2,
      "outputs": []
    },
    {
      "cell_type": "code",
      "metadata": {
        "id": "ZhqIFHwXTnC8"
      },
      "source": [
        "dataset_path=\"/content/drive/MyDrive/Flowers\"\n",
        "width=height=224\n",
        "batch_size=32\n",
        "data_generator=ImageDataGenerator(\n",
        "    rescale=1./255,\n",
        "    horizontal_flip=True,\n",
        "    rotation_range=10,\n",
        "    zoom_range=0.1,\n",
        "    validation_split=0.1\n",
        ")"
      ],
      "execution_count": 4,
      "outputs": []
    },
    {
      "cell_type": "code",
      "metadata": {
        "colab": {
          "base_uri": "https://localhost:8080/"
        },
        "id": "-kBpBcORXBx5",
        "outputId": "a0f6248d-9dca-4d22-d86c-434f713fd3ae"
      },
      "source": [
        "train_data=data_generator.flow_from_directory(\n",
        "    os.path.join(dataset_path,'Train'),\n",
        "    target_size=(width,height),\n",
        "    class_mode='categorical',\n",
        "    batch_size=batch_size,\n",
        "    shuffle=True,\n",
        "    subset='training',\n",
        "\n",
        ")\n",
        "\n",
        "val_data=data_generator.flow_from_directory(\n",
        "    os.path.join(dataset_path,'Train'),\n",
        "    target_size=(width,height),\n",
        "    class_mode='categorical',\n",
        "    batch_size=batch_size,\n",
        "    shuffle=True,\n",
        "    subset='validation',\n",
        "\n",
        ")\n",
        "\n",
        "test_data=data_generator.flow_from_directory(\n",
        "    os.path.join(dataset_path,'Test'),\n",
        "    target_size=(width,height),\n",
        "    class_mode='categorical',\n",
        "    batch_size=batch_size,\n",
        "    shuffle=True,\n",
        "\n",
        ")"
      ],
      "execution_count": 6,
      "outputs": [
        {
          "output_type": "stream",
          "name": "stdout",
          "text": [
            "Found 986 images belonging to 17 classes.\n",
            "Found 102 images belonging to 17 classes.\n",
            "Found 272 images belonging to 17 classes.\n"
          ]
        }
      ]
    },
    {
      "cell_type": "code",
      "metadata": {
        "id": "VKdi9WoMZjGQ"
      },
      "source": [
        "model_v=tf.keras.applications.VGG16(\n",
        "    input_shape=(width,height,3),\n",
        "    include_top=False,\n",
        "    weights='imagenet'\n",
        ")"
      ],
      "execution_count": null,
      "outputs": []
    },
    {
      "cell_type": "code",
      "metadata": {
        "id": "PFsnryCJiLCg"
      },
      "source": [
        "for layer in model_v.layers:\n",
        "  layer.trainable=False"
      ],
      "execution_count": 8,
      "outputs": []
    },
    {
      "cell_type": "code",
      "metadata": {
        "id": "X1E9jxTfPR-Q"
      },
      "source": [
        "model=tf.keras.Sequential([\n",
        "        model_v,\n",
        "        layers.Flatten(),\n",
        "        layers.Dense(1024,activation='relu'),\n",
        "        layers.Dense(128,activation='relu'),\n",
        "        layers.Dense(17,activation='softmax'),\n",
        "])"
      ],
      "execution_count": 9,
      "outputs": []
    },
    {
      "cell_type": "code",
      "metadata": {
        "id": "QI7VkmZaS1g6"
      },
      "source": [
        "!pip install wandb\n",
        "import wandb\n",
        "from wandb.keras import WandbCallback"
      ],
      "execution_count": null,
      "outputs": []
    },
    {
      "cell_type": "code",
      "metadata": {
        "id": "mDxtUZR7TInH"
      },
      "source": [
        "wandb.init(project=\"Flowers\")\n",
        "config = wandb.config\n",
        "config.learning_rate = 0.001"
      ],
      "execution_count": null,
      "outputs": []
    },
    {
      "cell_type": "code",
      "metadata": {
        "id": "5EsUhKv_aiN2"
      },
      "source": [
        "\n",
        "model.compile(optimizer=tf.keras.optimizers.Adam(learning_rate= config.learning_rate ),\n",
        "              loss=tf.keras.losses.categorical_crossentropy,\n",
        "              metrics=['accuracy'],)"
      ],
      "execution_count": 12,
      "outputs": []
    },
    {
      "cell_type": "code",
      "metadata": {
        "colab": {
          "base_uri": "https://localhost:8080/"
        },
        "id": "uYcj06r7L3yg",
        "outputId": "0165de35-9ffb-4a50-9868-559c919396ce"
      },
      "source": [
        "model.fit(train_data,\n",
        "          steps_per_epoch=train_data.samples//batch_size,\n",
        "          validation_data=val_data,\n",
        "          validation_steps=val_data.samples/batch_size,\n",
        "          epochs=10,\n",
        "          callbacks=[WandbCallback()]\n",
        "\n",
        "    \n",
        ")"
      ],
      "execution_count": 13,
      "outputs": [
        {
          "output_type": "stream",
          "name": "stdout",
          "text": [
            "Epoch 1/10\n",
            "30/30 [==============================] - 582s 18s/step - loss: 4.0150 - accuracy: 0.2799 - val_loss: 1.3576 - val_accuracy: 0.5980\n",
            "Epoch 2/10\n",
            "30/30 [==============================] - 22s 722ms/step - loss: 0.8729 - accuracy: 0.7484 - val_loss: 0.7389 - val_accuracy: 0.7549\n",
            "Epoch 3/10\n",
            "30/30 [==============================] - 22s 716ms/step - loss: 0.4826 - accuracy: 0.8606 - val_loss: 0.7936 - val_accuracy: 0.7941\n",
            "Epoch 4/10\n",
            "30/30 [==============================] - 22s 721ms/step - loss: 0.2764 - accuracy: 0.9287 - val_loss: 0.4438 - val_accuracy: 0.8529\n",
            "Epoch 5/10\n",
            "30/30 [==============================] - 22s 719ms/step - loss: 0.1603 - accuracy: 0.9633 - val_loss: 0.5155 - val_accuracy: 0.8627\n",
            "Epoch 6/10\n",
            "30/30 [==============================] - 21s 714ms/step - loss: 0.1059 - accuracy: 0.9822 - val_loss: 0.4505 - val_accuracy: 0.8627\n",
            "Epoch 7/10\n",
            "30/30 [==============================] - 21s 713ms/step - loss: 0.0757 - accuracy: 0.9864 - val_loss: 0.3457 - val_accuracy: 0.9118\n",
            "Epoch 8/10\n",
            "30/30 [==============================] - 21s 713ms/step - loss: 0.0454 - accuracy: 0.9958 - val_loss: 0.3726 - val_accuracy: 0.9020\n",
            "Epoch 9/10\n",
            "30/30 [==============================] - 22s 722ms/step - loss: 0.0378 - accuracy: 0.9979 - val_loss: 0.3271 - val_accuracy: 0.9020\n",
            "Epoch 10/10\n",
            "30/30 [==============================] - 22s 718ms/step - loss: 0.0307 - accuracy: 0.9969 - val_loss: 0.4120 - val_accuracy: 0.8431\n"
          ]
        },
        {
          "output_type": "execute_result",
          "data": {
            "text/plain": [
              "<keras.callbacks.History at 0x7f20f2f69f10>"
            ]
          },
          "metadata": {},
          "execution_count": 13
        }
      ]
    },
    {
      "cell_type": "code",
      "metadata": {
        "colab": {
          "base_uri": "https://localhost:8080/"
        },
        "id": "k8T_QWnBnhKk",
        "outputId": "be10c317-cdb6-4fe8-afe3-b28fa65e5ca9"
      },
      "source": [
        "model.evaluate(test_data)"
      ],
      "execution_count": 14,
      "outputs": [
        {
          "output_type": "stream",
          "name": "stdout",
          "text": [
            "9/9 [==============================] - 131s 16s/step - loss: 1.3397 - accuracy: 0.6838\n"
          ]
        },
        {
          "output_type": "execute_result",
          "data": {
            "text/plain": [
              "[1.339702844619751, 0.6838235259056091]"
            ]
          },
          "metadata": {},
          "execution_count": 14
        }
      ]
    }
  ]
}