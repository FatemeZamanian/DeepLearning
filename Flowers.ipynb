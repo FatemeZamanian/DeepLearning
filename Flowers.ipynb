{
  "nbformat": 4,
  "nbformat_minor": 0,
  "metadata": {
    "colab": {
      "name": "Flowers.ipynb",
      "provenance": [],
      "collapsed_sections": [],
      "authorship_tag": "ABX9TyMrsZhq4qB6xXbcF9+GO1UY",
      "include_colab_link": true
    },
    "kernelspec": {
      "name": "python3",
      "display_name": "Python 3"
    },
    "language_info": {
      "name": "python"
    },
    "accelerator": "GPU"
  },
  "cells": [
    {
      "cell_type": "markdown",
      "metadata": {
        "id": "view-in-github",
        "colab_type": "text"
      },
      "source": [
        "<a href=\"https://colab.research.google.com/github/FatemeZamanian/DeepLearning/blob/main/Flowers.ipynb\" target=\"_parent\"><img src=\"https://colab.research.google.com/assets/colab-badge.svg\" alt=\"Open In Colab\"/></a>"
      ]
    },
    {
      "cell_type": "code",
      "metadata": {
        "colab": {
          "base_uri": "https://localhost:8080/"
        },
        "id": "nVtuBvHWSuR0",
        "outputId": "9954b2e7-0ae0-4dbd-84ba-c33c6838ab49"
      },
      "source": [
        "from google.colab import drive\n",
        "drive.mount('/content/drive')"
      ],
      "execution_count": 1,
      "outputs": [
        {
          "output_type": "stream",
          "name": "stdout",
          "text": [
            "Mounted at /content/drive\n"
          ]
        }
      ]
    },
    {
      "cell_type": "code",
      "metadata": {
        "id": "21024cvgS52Y"
      },
      "source": [
        "import tensorflow as tf\n",
        "from tensorflow.keras import layers\n",
        "from tensorflow.keras.preprocessing.image import ImageDataGenerator\n",
        "import numpy as np\n",
        "import os"
      ],
      "execution_count": 2,
      "outputs": []
    },
    {
      "cell_type": "code",
      "metadata": {
        "id": "ZhqIFHwXTnC8"
      },
      "source": [
        "dataset_path=\"/content/drive/MyDrive/Flowers\"\n",
        "width=height=224\n",
        "batch_size=32\n",
        "data_generator=ImageDataGenerator(\n",
        "    rescale=1./255,\n",
        "    horizontal_flip=True,\n",
        "    rotation_range=10,\n",
        "    zoom_range=0.1,\n",
        "    validation_split=0.1\n",
        ")"
      ],
      "execution_count": 3,
      "outputs": []
    },
    {
      "cell_type": "code",
      "metadata": {
        "colab": {
          "base_uri": "https://localhost:8080/"
        },
        "id": "-kBpBcORXBx5",
        "outputId": "0b6d9aca-3ff8-4b9d-ee1e-ed0802425e7b"
      },
      "source": [
        "train_data=data_generator.flow_from_directory(\n",
        "    os.path.join(dataset_path,'Train'),\n",
        "    target_size=(width,height),\n",
        "    class_mode='categorical',\n",
        "    batch_size=batch_size,\n",
        "    shuffle=True,\n",
        "    subset='training',\n",
        "\n",
        ")\n",
        "\n",
        "val_data=data_generator.flow_from_directory(\n",
        "    os.path.join(dataset_path,'Train'),\n",
        "    target_size=(width,height),\n",
        "    class_mode='categorical',\n",
        "    batch_size=batch_size,\n",
        "    shuffle=True,\n",
        "    subset='validation',\n",
        "\n",
        ")\n",
        "\n",
        "test_data=data_generator.flow_from_directory(\n",
        "    os.path.join(dataset_path,'Test'),\n",
        "    target_size=(width,height),\n",
        "    class_mode='categorical',\n",
        "    batch_size=batch_size,\n",
        "    shuffle=False,\n",
        "\n",
        ")"
      ],
      "execution_count": 46,
      "outputs": [
        {
          "output_type": "stream",
          "name": "stdout",
          "text": [
            "Found 986 images belonging to 17 classes.\n",
            "Found 102 images belonging to 17 classes.\n",
            "Found 272 images belonging to 17 classes.\n"
          ]
        }
      ]
    },
    {
      "cell_type": "code",
      "metadata": {
        "id": "VKdi9WoMZjGQ"
      },
      "source": [
        "# model_v=tf.keras.applications.VGG16(\n",
        "#     input_shape=(width,height,3),\n",
        "#     include_top=False,\n",
        "#     weights='imagenet'\n",
        "# )\n",
        "\n",
        "model_r=tf.keras.applications.ResNet50V2(\n",
        "    input_shape=(width,height,3),\n",
        "    include_top=False,\n",
        "    weights='imagenet',\n",
        "    pooling='max'\n",
        ")"
      ],
      "execution_count": 47,
      "outputs": []
    },
    {
      "cell_type": "code",
      "metadata": {
        "id": "PFsnryCJiLCg"
      },
      "source": [
        "# for layer in model_v.layers:\n",
        "#   layer.trainable=False\n",
        "\n",
        "for layer in model_r.layers[:-2]:\n",
        "  layer.trainable=False"
      ],
      "execution_count": 48,
      "outputs": []
    },
    {
      "cell_type": "code",
      "metadata": {
        "id": "X1E9jxTfPR-Q"
      },
      "source": [
        "# model=tf.keras.Sequential([\n",
        "#         model_v,\n",
        "#         layers.Flatten(),\n",
        "#         layers.Dense(1024,activation='relu'),\n",
        "#         layers.Dense(128,activation='relu'),\n",
        "#         layers.Dense(17,activation='softmax'),\n",
        "# ])\n",
        "\n",
        "model=tf.keras.Sequential([\n",
        "        model_r,\n",
        "        layers.Dense(2048,activation='relu'),\n",
        "        layers.Dense(1024,activation='relu'),\n",
        "        layers.Dense(128,activation='relu'),\n",
        "        layers.Dense(17,activation='softmax'),\n",
        "])"
      ],
      "execution_count": 49,
      "outputs": []
    },
    {
      "cell_type": "code",
      "metadata": {
        "id": "QI7VkmZaS1g6"
      },
      "source": [
        "!pip install wandb\n",
        "import wandb\n",
        "from wandb.keras import WandbCallback"
      ],
      "execution_count": null,
      "outputs": []
    },
    {
      "cell_type": "code",
      "metadata": {
        "id": "mDxtUZR7TInH"
      },
      "source": [
        "wandb.init(project=\"Flowers\")\n",
        "config = wandb.config\n",
        "config.learning_rate = 0.001"
      ],
      "execution_count": null,
      "outputs": []
    },
    {
      "cell_type": "code",
      "metadata": {
        "id": "5EsUhKv_aiN2"
      },
      "source": [
        "model.compile(optimizer=tf.keras.optimizers.Adam(learning_rate= config.learning_rate ),\n",
        "              loss=tf.keras.losses.categorical_crossentropy,\n",
        "              metrics=['accuracy'],)"
      ],
      "execution_count": 51,
      "outputs": []
    },
    {
      "cell_type": "code",
      "metadata": {
        "colab": {
          "base_uri": "https://localhost:8080/"
        },
        "id": "uYcj06r7L3yg",
        "outputId": "a1f72aee-6016-4318-f275-52e945987660"
      },
      "source": [
        "model.fit(train_data,\n",
        "          steps_per_epoch=train_data.samples//batch_size,\n",
        "          validation_data=val_data,\n",
        "          validation_steps=val_data.samples//batch_size,\n",
        "          epochs=15,\n",
        "          # callbacks=[WandbCallback()]\n",
        "\n",
        "    \n",
        ")"
      ],
      "execution_count": 52,
      "outputs": [
        {
          "output_type": "stream",
          "name": "stdout",
          "text": [
            "Epoch 1/15\n",
            "30/30 [==============================] - 25s 721ms/step - loss: 7.3697 - accuracy: 0.3229 - val_loss: 1.0614 - val_accuracy: 0.6250\n",
            "Epoch 2/15\n",
            "30/30 [==============================] - 20s 669ms/step - loss: 0.6551 - accuracy: 0.8008 - val_loss: 0.3838 - val_accuracy: 0.8750\n",
            "Epoch 3/15\n",
            "30/30 [==============================] - 20s 665ms/step - loss: 0.3029 - accuracy: 0.9088 - val_loss: 0.2428 - val_accuracy: 0.8854\n",
            "Epoch 4/15\n",
            "30/30 [==============================] - 20s 670ms/step - loss: 0.1675 - accuracy: 0.9403 - val_loss: 0.2881 - val_accuracy: 0.9062\n",
            "Epoch 5/15\n",
            "30/30 [==============================] - 20s 671ms/step - loss: 0.0904 - accuracy: 0.9717 - val_loss: 0.2329 - val_accuracy: 0.9271\n",
            "Epoch 6/15\n",
            "30/30 [==============================] - 20s 668ms/step - loss: 0.0899 - accuracy: 0.9717 - val_loss: 0.5635 - val_accuracy: 0.8229\n",
            "Epoch 7/15\n",
            "30/30 [==============================] - 20s 665ms/step - loss: 0.1657 - accuracy: 0.9350 - val_loss: 0.3521 - val_accuracy: 0.8854\n",
            "Epoch 8/15\n",
            "30/30 [==============================] - 20s 672ms/step - loss: 0.1065 - accuracy: 0.9696 - val_loss: 0.2398 - val_accuracy: 0.9271\n",
            "Epoch 9/15\n",
            "30/30 [==============================] - 20s 676ms/step - loss: 0.1374 - accuracy: 0.9706 - val_loss: 0.3626 - val_accuracy: 0.8958\n",
            "Epoch 10/15\n",
            "30/30 [==============================] - 20s 673ms/step - loss: 0.0784 - accuracy: 0.9727 - val_loss: 0.3770 - val_accuracy: 0.9271\n",
            "Epoch 11/15\n",
            "30/30 [==============================] - 20s 680ms/step - loss: 0.0511 - accuracy: 0.9792 - val_loss: 0.2268 - val_accuracy: 0.9062\n",
            "Epoch 12/15\n",
            "30/30 [==============================] - 20s 666ms/step - loss: 0.0349 - accuracy: 0.9916 - val_loss: 0.4420 - val_accuracy: 0.8854\n",
            "Epoch 13/15\n",
            "30/30 [==============================] - 20s 672ms/step - loss: 0.0274 - accuracy: 0.9927 - val_loss: 0.2395 - val_accuracy: 0.9375\n",
            "Epoch 14/15\n",
            "30/30 [==============================] - 20s 676ms/step - loss: 0.0244 - accuracy: 0.9916 - val_loss: 0.4277 - val_accuracy: 0.8854\n",
            "Epoch 15/15\n",
            "30/30 [==============================] - 20s 670ms/step - loss: 0.0871 - accuracy: 0.9738 - val_loss: 0.3303 - val_accuracy: 0.9271\n"
          ]
        },
        {
          "output_type": "execute_result",
          "data": {
            "text/plain": [
              "<keras.callbacks.History at 0x7fb1c4c2ea90>"
            ]
          },
          "metadata": {},
          "execution_count": 52
        }
      ]
    },
    {
      "cell_type": "code",
      "metadata": {
        "colab": {
          "base_uri": "https://localhost:8080/"
        },
        "id": "k8T_QWnBnhKk",
        "outputId": "03d3789a-02ee-479c-92d0-e9c43e800255"
      },
      "source": [
        "model.evaluate(test_data)"
      ],
      "execution_count": 53,
      "outputs": [
        {
          "output_type": "stream",
          "name": "stdout",
          "text": [
            "9/9 [==============================] - 5s 576ms/step - loss: 0.7889 - accuracy: 0.8272\n"
          ]
        },
        {
          "output_type": "execute_result",
          "data": {
            "text/plain": [
              "[0.7888979911804199, 0.8272058963775635]"
            ]
          },
          "metadata": {},
          "execution_count": 53
        }
      ]
    }
  ]
}