{
  "nbformat": 4,
  "nbformat_minor": 0,
  "metadata": {
    "colab": {
      "name": "SheikhDetection_train",
      "provenance": [],
      "collapsed_sections": [],
      "mount_file_id": "13QNU3d1bgZ7eGF1IOWnA2RCxDIyr-zJ6",
      "authorship_tag": "ABX9TyNq3dzoYlVZxFIStx2ayPB5",
      "include_colab_link": true
    },
    "kernelspec": {
      "name": "python3",
      "display_name": "Python 3"
    },
    "language_info": {
      "name": "python"
    },
    "accelerator": "GPU"
  },
  "cells": [
    {
      "cell_type": "markdown",
      "metadata": {
        "id": "view-in-github",
        "colab_type": "text"
      },
      "source": [
        "<a href=\"https://colab.research.google.com/github/FatemeZamanian/DeepLearning/blob/main/SheikhDetectionBot/SheikhDetection_train.ipynb\" target=\"_parent\"><img src=\"https://colab.research.google.com/assets/colab-badge.svg\" alt=\"Open In Colab\"/></a>"
      ]
    },
    {
      "cell_type": "code",
      "metadata": {
        "id": "exjWMgeOrohA"
      },
      "source": [
        "!cd /content/drive/MyDrive/Sheykh-Recognition"
      ],
      "execution_count": 1,
      "outputs": []
    },
    {
      "cell_type": "code",
      "metadata": {
        "id": "JDXdmgGs4gvX"
      },
      "source": [
        "import tensorflow as tf\n",
        "import numpy as np\n",
        "from tensorflow.keras.preprocessing.image import ImageDataGenerator\n",
        "from tensorflow.keras.layers import Dense,Conv2D,MaxPool2D,Flatten"
      ],
      "execution_count": 2,
      "outputs": []
    },
    {
      "cell_type": "code",
      "metadata": {
        "id": "FdkV2xZK9eCA"
      },
      "source": [
        "width=height=224"
      ],
      "execution_count": 3,
      "outputs": []
    },
    {
      "cell_type": "code",
      "metadata": {
        "colab": {
          "base_uri": "https://localhost:8080/"
        },
        "id": "lCnij3Dt5Io_",
        "outputId": "62786f23-e213-424f-d895-a32a257a89e5"
      },
      "source": [
        "image_data_generator=ImageDataGenerator(rescale=1./255,\n",
        "                                        validation_split = 0.1,\n",
        "                                        )\n",
        "train_data=image_data_generator.flow_from_directory('/content/drive/MyDrive/Sheykh-Recognition',\n",
        "                                         target_size=(width,height),\n",
        "                                         class_mode='categorical',\n",
        "                                         subset='training')\n",
        "\n",
        "val_data=image_data_generator.flow_from_directory('/content/drive/MyDrive/Sheykh-Recognition',\n",
        "                                         target_size=(width,height),\n",
        "                                         class_mode='categorical',\n",
        "                                         subset='validation')"
      ],
      "execution_count": 29,
      "outputs": [
        {
          "output_type": "stream",
          "name": "stdout",
          "text": [
            "Found 141 images belonging to 2 classes.\n",
            "Found 14 images belonging to 2 classes.\n"
          ]
        }
      ]
    },
    {
      "cell_type": "code",
      "metadata": {
        "id": "fcb00wgO8Wqh"
      },
      "source": [
        "model = tf.keras.models.Sequential([\n",
        "         Conv2D(32, (3, 3), activation='relu', input_shape = (width, height, 3)),\n",
        "         MaxPool2D((2, 2)),\n",
        "         Conv2D(32, (3, 3), activation='relu'),\n",
        "         MaxPool2D((2, 2)),\n",
        "         Conv2D(64, (3, 3), activation='relu'),\n",
        "         MaxPool2D((2, 2)),\n",
        "         Conv2D(64, (3, 3), activation='relu'),\n",
        "         MaxPool2D((2, 2)),\n",
        "         Flatten(),\n",
        "         Dense(64, activation='relu'),\n",
        "         Dense(32, activation='relu'),\n",
        "         Dense(2, activation='softmax')                          \n",
        "])"
      ],
      "execution_count": 30,
      "outputs": []
    },
    {
      "cell_type": "code",
      "metadata": {
        "id": "l51wNMdzpsaI"
      },
      "source": [
        "model.compile(optimizer=tf.keras.optimizers.Adam(),loss=tf.keras.losses.categorical_crossentropy,metrics=['accuracy'])"
      ],
      "execution_count": 31,
      "outputs": []
    },
    {
      "cell_type": "code",
      "metadata": {
        "colab": {
          "base_uri": "https://localhost:8080/"
        },
        "id": "HKQn6KuOttMf",
        "outputId": "53b1ddee-5329-4a15-b4ad-186b5f319213"
      },
      "source": [
        "model.fit(train_data,epochs=15)"
      ],
      "execution_count": 32,
      "outputs": [
        {
          "output_type": "stream",
          "name": "stdout",
          "text": [
            "Epoch 1/15\n",
            "5/5 [==============================] - 2s 336ms/step - loss: 0.7046 - accuracy: 0.4823\n",
            "Epoch 2/15\n",
            "5/5 [==============================] - 2s 290ms/step - loss: 0.6864 - accuracy: 0.5106\n",
            "Epoch 3/15\n",
            "5/5 [==============================] - 2s 373ms/step - loss: 0.6748 - accuracy: 0.6099\n",
            "Epoch 4/15\n",
            "5/5 [==============================] - 2s 306ms/step - loss: 0.6161 - accuracy: 0.6809\n",
            "Epoch 5/15\n",
            "5/5 [==============================] - 2s 320ms/step - loss: 0.4775 - accuracy: 0.7943\n",
            "Epoch 6/15\n",
            "5/5 [==============================] - 2s 376ms/step - loss: 0.5228 - accuracy: 0.7021\n",
            "Epoch 7/15\n",
            "5/5 [==============================] - 2s 327ms/step - loss: 0.4159 - accuracy: 0.8014\n",
            "Epoch 8/15\n",
            "5/5 [==============================] - 2s 354ms/step - loss: 0.3962 - accuracy: 0.8156\n",
            "Epoch 9/15\n",
            "5/5 [==============================] - 2s 337ms/step - loss: 0.3064 - accuracy: 0.8794\n",
            "Epoch 10/15\n",
            "5/5 [==============================] - 2s 389ms/step - loss: 0.2830 - accuracy: 0.8936\n",
            "Epoch 11/15\n",
            "5/5 [==============================] - 2s 299ms/step - loss: 0.1886 - accuracy: 0.9149\n",
            "Epoch 12/15\n",
            "5/5 [==============================] - 2s 318ms/step - loss: 0.1733 - accuracy: 0.9291\n",
            "Epoch 13/15\n",
            "5/5 [==============================] - 2s 305ms/step - loss: 0.1473 - accuracy: 0.9433\n",
            "Epoch 14/15\n",
            "5/5 [==============================] - 2s 316ms/step - loss: 0.1686 - accuracy: 0.9291\n",
            "Epoch 15/15\n",
            "5/5 [==============================] - 2s 293ms/step - loss: 0.1443 - accuracy: 0.9433\n"
          ]
        },
        {
          "output_type": "execute_result",
          "data": {
            "text/plain": [
              "<keras.callbacks.History at 0x7f810cdaa190>"
            ]
          },
          "metadata": {},
          "execution_count": 32
        }
      ]
    },
    {
      "cell_type": "code",
      "metadata": {
        "id": "xdEPZfgZx3iE"
      },
      "source": [
        "model.save('/content/drive/MyDrive/sheikhs.h5')"
      ],
      "execution_count": 27,
      "outputs": []
    },
    {
      "cell_type": "code",
      "metadata": {
        "colab": {
          "base_uri": "https://localhost:8080/"
        },
        "id": "1ikLTBJ_utyf",
        "outputId": "cadbedce-aad6-49d5-fb0e-392847d633e5"
      },
      "source": [
        "model.evaluate(val_data)"
      ],
      "execution_count": 34,
      "outputs": [
        {
          "output_type": "stream",
          "name": "stdout",
          "text": [
            "1/1 [==============================] - 0s 144ms/step - loss: 0.1283 - accuracy: 0.9286\n"
          ]
        },
        {
          "output_type": "execute_result",
          "data": {
            "text/plain": [
              "[0.12832096219062805, 0.9285714030265808]"
            ]
          },
          "metadata": {},
          "execution_count": 34
        }
      ]
    }
  ]
}