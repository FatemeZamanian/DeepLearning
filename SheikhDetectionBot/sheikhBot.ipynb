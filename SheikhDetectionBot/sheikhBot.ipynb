{
  "nbformat": 4,
  "nbformat_minor": 0,
  "metadata": {
    "colab": {
      "name": "sheikhBot.ipynb",
      "provenance": [],
      "collapsed_sections": [],
      "mount_file_id": "1pT2DQOsqK50WRMRLQJt8BKSya1kP4RPA",
      "authorship_tag": "ABX9TyPQA7qgOwo5QBQQmliaoT7t",
      "include_colab_link": true
    },
    "kernelspec": {
      "display_name": "Python 3",
      "name": "python3"
    },
    "language_info": {
      "name": "python"
    }
  },
  "cells": [
    {
      "cell_type": "markdown",
      "metadata": {
        "id": "view-in-github",
        "colab_type": "text"
      },
      "source": [
        "<a href=\"https://colab.research.google.com/github/FatemeZamanian/DeepLearning/blob/main/SheikhDetectionBot/sheikhBot.ipynb\" target=\"_parent\"><img src=\"https://colab.research.google.com/assets/colab-badge.svg\" alt=\"Open In Colab\"/></a>"
      ]
    },
    {
      "cell_type": "code",
      "metadata": {
        "colab": {
          "base_uri": "https://localhost:8080/"
        },
        "id": "k2MhCsrxtiWE",
        "outputId": "b5b94e97-93d0-49da-ae5c-4a992244e9e7"
      },
      "source": [
        "!pip install pyTelegramBotAPI"
      ],
      "execution_count": 1,
      "outputs": [
        {
          "output_type": "stream",
          "name": "stdout",
          "text": [
            "Collecting pyTelegramBotAPI\n",
            "  Downloading pyTelegramBotAPI-4.0.1.tar.gz (101 kB)\n",
            "\u001b[K     |████████████████████████████████| 101 kB 3.0 MB/s \n",
            "\u001b[?25hRequirement already satisfied: requests in /usr/local/lib/python3.7/dist-packages (from pyTelegramBotAPI) (2.23.0)\n",
            "Requirement already satisfied: idna<3,>=2.5 in /usr/local/lib/python3.7/dist-packages (from requests->pyTelegramBotAPI) (2.10)\n",
            "Requirement already satisfied: certifi>=2017.4.17 in /usr/local/lib/python3.7/dist-packages (from requests->pyTelegramBotAPI) (2021.5.30)\n",
            "Requirement already satisfied: urllib3!=1.25.0,!=1.25.1,<1.26,>=1.21.1 in /usr/local/lib/python3.7/dist-packages (from requests->pyTelegramBotAPI) (1.24.3)\n",
            "Requirement already satisfied: chardet<4,>=3.0.2 in /usr/local/lib/python3.7/dist-packages (from requests->pyTelegramBotAPI) (3.0.4)\n",
            "Building wheels for collected packages: pyTelegramBotAPI\n",
            "  Building wheel for pyTelegramBotAPI (setup.py) ... \u001b[?25l\u001b[?25hdone\n",
            "  Created wheel for pyTelegramBotAPI: filename=pyTelegramBotAPI-4.0.1-py3-none-any.whl size=79552 sha256=a7a2758f850087e9046fd6535ae8b2f9f121497d64a5a67c49a055a6e6ea8d16\n",
            "  Stored in directory: /root/.cache/pip/wheels/2f/c4/5a/7440a72b0ee7aad2d7ba7b2b44a93953183a30b017f604bad3\n",
            "Successfully built pyTelegramBotAPI\n",
            "Installing collected packages: pyTelegramBotAPI\n",
            "Successfully installed pyTelegramBotAPI-4.0.1\n"
          ]
        }
      ]
    },
    {
      "cell_type": "code",
      "metadata": {
        "id": "UlVmwdfivF4T"
      },
      "source": [
        "from tensorflow.keras.models import load_model\n",
        "import telebot\n",
        "from telebot import types\n",
        "import numpy as np\n",
        "import cv2"
      ],
      "execution_count": 4,
      "outputs": []
    },
    {
      "cell_type": "code",
      "metadata": {
        "id": "vBygupWtvdk1"
      },
      "source": [
        "model=load_model('/content/drive/MyDrive/sheikhs.h5')\n",
        "bot=telebot.TeleBot(\"Token\")\n",
        "# btns=telebot.types.ReplyKeyboardMarkup(row_width=1)\n",
        "# btn1=telebot.types.KeyboardButton('Start')\n",
        "# btns.add(btn1)\n",
        "@bot.message_handler(commands=['start'])\n",
        "def wlc(message):\n",
        "    bot.send_message(message.chat.id,'Hi 👋🏻 please send me a picture👀',\n",
        "    #reply_markup=btns\n",
        "     )\n",
        "\n",
        "@bot.message_handler(content_types=['photo'])\n",
        "def photo(message):\n",
        "    fileID = message.photo[-1].file_id\n",
        "    file_info = bot.get_file(fileID)\n",
        "    src=file_info.file_path\n",
        "    downloaded_file = bot.download_file(src)\n",
        "    with open(f\"/content/drive/MyDrive/{src}\", 'wb') as new_file:\n",
        "        new_file.write(downloaded_file)\n",
        "\n",
        "    img_org = cv2.imread(f\"/content/drive/MyDrive/{src}\")\n",
        "    img_RGB = cv2.cvtColor(img_org, cv2.COLOR_BGR2RGB)\n",
        "    img_resize = cv2.resize(img_RGB, (224, 224))\n",
        "    \n",
        "    img_numpy = np.array(img_resize)\n",
        "    img = img_numpy / 255.0\n",
        "    final = img.reshape(1, 224, 224, 3)\n",
        "\n",
        "    y_pred = np.argmax(model.predict(final))\n",
        "\n",
        "    if y_pred == 0:\n",
        "        bot.reply_to(message,'normal person')\n",
        "      \n",
        "    else:\n",
        "        bot.reply_to(message,'sheikh')\n",
        "      \n",
        "\n",
        "bot.polling()"
      ],
      "execution_count": null,
      "outputs": []
    }
  ]
}
