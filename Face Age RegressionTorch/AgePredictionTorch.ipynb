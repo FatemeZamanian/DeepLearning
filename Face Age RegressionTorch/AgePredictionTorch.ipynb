{
  "cells": [
    {
      "cell_type": "markdown",
      "metadata": {
        "id": "view-in-github",
        "colab_type": "text"
      },
      "source": [
        "<a href=\"https://colab.research.google.com/github/FatemeZamanian/DeepLearning/blob/main/Face%20Age%20RegressionTorch/AgePredictionTorch.ipynb\" target=\"_parent\"><img src=\"https://colab.research.google.com/assets/colab-badge.svg\" alt=\"Open In Colab\"/></a>"
      ]
    },
    {
      "cell_type": "code",
      "execution_count": 1,
      "metadata": {
        "id": "hUP9BbZpnTFH"
      },
      "outputs": [],
      "source": [
        "!mkdir ~/.kaggle\n",
        "!cp kaggle.json ~/.kaggle"
      ]
    },
    {
      "cell_type": "code",
      "execution_count": 2,
      "metadata": {
        "colab": {
          "base_uri": "https://localhost:8080/"
        },
        "id": "HS47ODW9oRjZ",
        "outputId": "e3066bd3-f65f-4053-8cbe-be05a4f08b95"
      },
      "outputs": [
        {
          "output_type": "stream",
          "name": "stdout",
          "text": [
            "Warning: Your Kaggle API key is readable by other users on this system! To fix this, you can run 'chmod 600 /root/.kaggle/kaggle.json'\n",
            "Downloading utkface-new.zip to /content\n",
            " 93% 309M/331M [00:12<00:00, 24.4MB/s]\n",
            "100% 331M/331M [00:12<00:00, 27.7MB/s]\n"
          ]
        }
      ],
      "source": [
        "!kaggle datasets download -d jangedoo/utkface-new"
      ]
    },
    {
      "cell_type": "code",
      "execution_count": 3,
      "metadata": {
        "id": "yTFKR_vToVvK"
      },
      "outputs": [],
      "source": [
        "!unzip -qq utkface-new.zip"
      ]
    },
    {
      "cell_type": "code",
      "execution_count": 4,
      "metadata": {
        "id": "MfGLZXoYobtj"
      },
      "outputs": [],
      "source": [
        "import os\n",
        "import numpy as np\n",
        "import pandas as pd\n",
        "import cv2"
      ]
    },
    {
      "cell_type": "code",
      "execution_count": 5,
      "metadata": {
        "id": "fQSBZN8XabFI"
      },
      "outputs": [],
      "source": [
        "os.environ['CUDA_LAUNCH_BLOCKING'] = \"1\""
      ]
    },
    {
      "cell_type": "code",
      "execution_count": 6,
      "metadata": {
        "id": "a39dCGC5oLSD"
      },
      "outputs": [],
      "source": [
        "import torch\n",
        "import torch.nn as nn\n",
        "import torch.nn.functional as F\n",
        "import torchvision\n",
        "from torchvision import transforms\n",
        "from tqdm import tqdm"
      ]
    },
    {
      "cell_type": "code",
      "execution_count": 7,
      "metadata": {
        "id": "gQgjYGKQpDkY"
      },
      "outputs": [],
      "source": [
        "images=[]\n",
        "labels=[]\n",
        "for image_name in os.listdir('crop_part1')[0:9000]:\n",
        "  parts=image_name.split('_')\n",
        "  labels.append(int(parts[0]))\n",
        "  img=cv2.imread(f'crop_part1/{image_name}')\n",
        "  img=cv2.cvtColor(img,cv2.COLOR_BGR2RGB)\n",
        "  images.append(img)"
      ]
    },
    {
      "cell_type": "code",
      "source": [
        "print(images[0].shape)"
      ],
      "metadata": {
        "colab": {
          "base_uri": "https://localhost:8080/"
        },
        "id": "JVLGVrXQEFQm",
        "outputId": "ce30010e-6b60-434e-bc36-a855e5f43b0c"
      },
      "execution_count": 8,
      "outputs": [
        {
          "output_type": "stream",
          "name": "stdout",
          "text": [
            "(200, 200, 3)\n"
          ]
        }
      ]
    },
    {
      "cell_type": "code",
      "execution_count": 9,
      "metadata": {
        "colab": {
          "base_uri": "https://localhost:8080/",
          "height": 204
        },
        "id": "SRWyPlYvD_Gi",
        "outputId": "71d12a4f-5e97-4090-8e8d-c99572e6816d"
      },
      "outputs": [
        {
          "output_type": "execute_result",
          "data": {
            "text/plain": [
              "                                              images  ages\n",
              "0  [[[51, 41, 40], [51, 41, 40], [50, 40, 39], [4...    23\n",
              "1  [[[54, 38, 22], [53, 37, 21], [48, 32, 16], [4...    37\n",
              "2  [[[50, 33, 26], [52, 35, 28], [56, 37, 31], [5...     1\n",
              "3  [[[11, 10, 8], [10, 9, 7], [12, 7, 4], [13, 5,...     3\n",
              "4  [[[207, 170, 144], [207, 170, 144], [208, 171,...     1"
            ],
            "text/html": [
              "\n",
              "  <div id=\"df-54e3cfa6-cb7b-4687-bbcd-9778eed05f1a\">\n",
              "    <div class=\"colab-df-container\">\n",
              "      <div>\n",
              "<style scoped>\n",
              "    .dataframe tbody tr th:only-of-type {\n",
              "        vertical-align: middle;\n",
              "    }\n",
              "\n",
              "    .dataframe tbody tr th {\n",
              "        vertical-align: top;\n",
              "    }\n",
              "\n",
              "    .dataframe thead th {\n",
              "        text-align: right;\n",
              "    }\n",
              "</style>\n",
              "<table border=\"1\" class=\"dataframe\">\n",
              "  <thead>\n",
              "    <tr style=\"text-align: right;\">\n",
              "      <th></th>\n",
              "      <th>images</th>\n",
              "      <th>ages</th>\n",
              "    </tr>\n",
              "  </thead>\n",
              "  <tbody>\n",
              "    <tr>\n",
              "      <th>0</th>\n",
              "      <td>[[[51, 41, 40], [51, 41, 40], [50, 40, 39], [4...</td>\n",
              "      <td>23</td>\n",
              "    </tr>\n",
              "    <tr>\n",
              "      <th>1</th>\n",
              "      <td>[[[54, 38, 22], [53, 37, 21], [48, 32, 16], [4...</td>\n",
              "      <td>37</td>\n",
              "    </tr>\n",
              "    <tr>\n",
              "      <th>2</th>\n",
              "      <td>[[[50, 33, 26], [52, 35, 28], [56, 37, 31], [5...</td>\n",
              "      <td>1</td>\n",
              "    </tr>\n",
              "    <tr>\n",
              "      <th>3</th>\n",
              "      <td>[[[11, 10, 8], [10, 9, 7], [12, 7, 4], [13, 5,...</td>\n",
              "      <td>3</td>\n",
              "    </tr>\n",
              "    <tr>\n",
              "      <th>4</th>\n",
              "      <td>[[[207, 170, 144], [207, 170, 144], [208, 171,...</td>\n",
              "      <td>1</td>\n",
              "    </tr>\n",
              "  </tbody>\n",
              "</table>\n",
              "</div>\n",
              "      <button class=\"colab-df-convert\" onclick=\"convertToInteractive('df-54e3cfa6-cb7b-4687-bbcd-9778eed05f1a')\"\n",
              "              title=\"Convert this dataframe to an interactive table.\"\n",
              "              style=\"display:none;\">\n",
              "        \n",
              "  <svg xmlns=\"http://www.w3.org/2000/svg\" height=\"24px\"viewBox=\"0 0 24 24\"\n",
              "       width=\"24px\">\n",
              "    <path d=\"M0 0h24v24H0V0z\" fill=\"none\"/>\n",
              "    <path d=\"M18.56 5.44l.94 2.06.94-2.06 2.06-.94-2.06-.94-.94-2.06-.94 2.06-2.06.94zm-11 1L8.5 8.5l.94-2.06 2.06-.94-2.06-.94L8.5 2.5l-.94 2.06-2.06.94zm10 10l.94 2.06.94-2.06 2.06-.94-2.06-.94-.94-2.06-.94 2.06-2.06.94z\"/><path d=\"M17.41 7.96l-1.37-1.37c-.4-.4-.92-.59-1.43-.59-.52 0-1.04.2-1.43.59L10.3 9.45l-7.72 7.72c-.78.78-.78 2.05 0 2.83L4 21.41c.39.39.9.59 1.41.59.51 0 1.02-.2 1.41-.59l7.78-7.78 2.81-2.81c.8-.78.8-2.07 0-2.86zM5.41 20L4 18.59l7.72-7.72 1.47 1.35L5.41 20z\"/>\n",
              "  </svg>\n",
              "      </button>\n",
              "      \n",
              "  <style>\n",
              "    .colab-df-container {\n",
              "      display:flex;\n",
              "      flex-wrap:wrap;\n",
              "      gap: 12px;\n",
              "    }\n",
              "\n",
              "    .colab-df-convert {\n",
              "      background-color: #E8F0FE;\n",
              "      border: none;\n",
              "      border-radius: 50%;\n",
              "      cursor: pointer;\n",
              "      display: none;\n",
              "      fill: #1967D2;\n",
              "      height: 32px;\n",
              "      padding: 0 0 0 0;\n",
              "      width: 32px;\n",
              "    }\n",
              "\n",
              "    .colab-df-convert:hover {\n",
              "      background-color: #E2EBFA;\n",
              "      box-shadow: 0px 1px 2px rgba(60, 64, 67, 0.3), 0px 1px 3px 1px rgba(60, 64, 67, 0.15);\n",
              "      fill: #174EA6;\n",
              "    }\n",
              "\n",
              "    [theme=dark] .colab-df-convert {\n",
              "      background-color: #3B4455;\n",
              "      fill: #D2E3FC;\n",
              "    }\n",
              "\n",
              "    [theme=dark] .colab-df-convert:hover {\n",
              "      background-color: #434B5C;\n",
              "      box-shadow: 0px 1px 3px 1px rgba(0, 0, 0, 0.15);\n",
              "      filter: drop-shadow(0px 1px 2px rgba(0, 0, 0, 0.3));\n",
              "      fill: #FFFFFF;\n",
              "    }\n",
              "  </style>\n",
              "\n",
              "      <script>\n",
              "        const buttonEl =\n",
              "          document.querySelector('#df-54e3cfa6-cb7b-4687-bbcd-9778eed05f1a button.colab-df-convert');\n",
              "        buttonEl.style.display =\n",
              "          google.colab.kernel.accessAllowed ? 'block' : 'none';\n",
              "\n",
              "        async function convertToInteractive(key) {\n",
              "          const element = document.querySelector('#df-54e3cfa6-cb7b-4687-bbcd-9778eed05f1a');\n",
              "          const dataTable =\n",
              "            await google.colab.kernel.invokeFunction('convertToInteractive',\n",
              "                                                     [key], {});\n",
              "          if (!dataTable) return;\n",
              "\n",
              "          const docLinkHtml = 'Like what you see? Visit the ' +\n",
              "            '<a target=\"_blank\" href=https://colab.research.google.com/notebooks/data_table.ipynb>data table notebook</a>'\n",
              "            + ' to learn more about interactive tables.';\n",
              "          element.innerHTML = '';\n",
              "          dataTable['output_type'] = 'display_data';\n",
              "          await google.colab.output.renderOutput(dataTable, element);\n",
              "          const docLink = document.createElement('div');\n",
              "          docLink.innerHTML = docLinkHtml;\n",
              "          element.appendChild(docLink);\n",
              "        }\n",
              "      </script>\n",
              "    </div>\n",
              "  </div>\n",
              "  "
            ]
          },
          "metadata": {},
          "execution_count": 9
        }
      ],
      "source": [
        "images=pd.Series(images,name='images')\n",
        "ages=pd.Series(labels,name='ages')\n",
        "df=pd.concat([images,ages],axis=1)\n",
        "df.head()"
      ]
    },
    {
      "cell_type": "code",
      "execution_count": 10,
      "metadata": {
        "id": "z2iAvYcYEQRg"
      },
      "outputs": [],
      "source": [
        "under_4=[]\n",
        "for i in range(len(df)):\n",
        "  if df['ages'].iloc[i]<=4:\n",
        "    under_4.append(df.iloc[i])\n",
        "\n",
        "under_4=pd.DataFrame(under_4)\n",
        "under_4=under_4.sample(frac=0.1)\n",
        "\n",
        "up_4=df[df['ages']>4]\n",
        "\n",
        "df=pd.concat([under_4,up_4])\n",
        "\n",
        "df=df[df['ages']<80]"
      ]
    },
    {
      "cell_type": "code",
      "execution_count": 11,
      "metadata": {
        "id": "1UMDaxYYYhcH"
      },
      "outputs": [],
      "source": [
        "!mkdir new"
      ]
    },
    {
      "cell_type": "code",
      "execution_count": 12,
      "metadata": {
        "colab": {
          "base_uri": "https://localhost:8080/"
        },
        "id": "gnOEIInNdI-e",
        "outputId": "6f341412-7412-4712-9737-d9fc982ea620"
      },
      "outputs": [
        {
          "output_type": "stream",
          "name": "stderr",
          "text": [
            "/usr/local/lib/python3.7/dist-packages/pandas/core/indexing.py:1732: SettingWithCopyWarning: \n",
            "A value is trying to be set on a copy of a slice from a DataFrame\n",
            "\n",
            "See the caveats in the documentation: https://pandas.pydata.org/pandas-docs/stable/user_guide/indexing.html#returning-a-view-versus-a-copy\n",
            "  self._setitem_single_block(indexer, value, name)\n"
          ]
        }
      ],
      "source": [
        "from numpy.ma.core import append\n",
        "df=pd.DataFrame(df)\n",
        "new_df=pd.DataFrame(columns=['image','age'])\n",
        "for i in range(len(df)):\n",
        "  new_df.loc[i]={'image':f'{i}.jpg','age':df['ages'].iloc[i]}\n",
        "  df['images'].iloc[i]=cv2.resize(df['images'].iloc[i],(160,160))\n",
        "  cv2.imwrite(f'/content/new/{i}.jpg',df['images'].iloc[i])\n",
        "\n",
        "\n",
        "\n",
        "device = torch.device(\"cuda\" if torch.cuda.is_available() else \"cpu\")\n",
        "# new_df.head(50)"
      ]
    },
    {
      "cell_type": "code",
      "execution_count": 13,
      "metadata": {
        "id": "PjfBxbTmmCdQ"
      },
      "outputs": [],
      "source": [
        "from torchvision.transforms.transforms import Resize\n",
        "from torch.utils.data import Dataset\n",
        "from PIL import Image\n",
        "\n",
        "class PathologyPlantsDataset(Dataset):\n",
        "  \"\"\"\n",
        "  The Class will act as the container for our dataset. It will take your dataframe, the root path, and also the transform function for transforming the dataset.\n",
        "  \"\"\"\n",
        "  def __init__(self, data_frame, root_dir, transform=None):\n",
        "        self.data_frame = data_frame\n",
        "        self.root_dir = root_dir\n",
        "        self.transform = transform\n",
        "    \n",
        "  def __len__(self):\n",
        "        # Return the length of the dataset\n",
        "        return len(self.data_frame)\n",
        "    \n",
        "  def __getitem__(self, idx):\n",
        "        # Return the observation based on an index. Ex. dataset[0] will return the first element from the dataset, in this case the image and the label.\n",
        "        if torch.is_tensor(idx):\n",
        "            idx = idx.tolist()\n",
        "        \n",
        "        img_name = os.path.join(self.root_dir, self.data_frame.iloc[idx, 0])\n",
        "        image = Image.open(img_name)\n",
        "        label = self.data_frame.iloc[idx, -1]\n",
        "        \n",
        "        if self.transform:\n",
        "            image = self.transform(image)\n",
        "    \n",
        "        return image, label\n",
        "\n",
        "\n",
        "transform = transforms.Compose([\n",
        "    # transforms.PILToTensor(),\n",
        "    transforms.Resize((160,160)),\n",
        "    # transforms.RandomRotation(10),\n",
        "    transforms.ToTensor(),\n",
        "    # torchvision.transforms.Normalize((0), (1))\n",
        "])\n",
        "\n",
        "\n",
        "dataset= PathologyPlantsDataset(data_frame=new_df,root_dir='/content/new', transform=transform)"
      ]
    },
    {
      "cell_type": "code",
      "execution_count": 14,
      "metadata": {
        "id": "rzl1h8gQvoOt"
      },
      "outputs": [],
      "source": [
        "train_data_size=int(len(dataset)*0.9)\n",
        "train_set, val_set = torch.utils.data.random_split(dataset, [train_data_size, len(dataset)-train_data_size])"
      ]
    },
    {
      "cell_type": "code",
      "execution_count": 15,
      "metadata": {
        "id": "wI1-mfZunj_z"
      },
      "outputs": [],
      "source": [
        "class Model(nn.Module):\n",
        "  def __init__(self):\n",
        "    super().__init__()\n",
        "    self.conv1=nn.Conv2d(3,160,(3,3),(1,1),(0,0))\n",
        "    self.conv2=nn.Conv2d(160,64,(3,3),(1,1),(0,0))\n",
        "    self.conv3=nn.Conv2d(64,32,(3,3),(1,1),(0,0))\n",
        "    self.conv4=nn.Conv2d(1024,2048,(3,3),(1,1),(0,0))\n",
        "    self.conv5=nn.Conv2d(2048,1024,(3,3),(1,1),(1,1))\n",
        "    self.conv6=nn.Conv2d(1024,128,(3,3),(1,1),(1,1))\n",
        "\n",
        "    self.fc1=nn.Linear(32*18*18,256)\n",
        "    self.fc2=nn.Linear(256,64)\n",
        "    self.fc3=nn.Linear(64,16)\n",
        "    self.fc4=nn.Linear(16,8)\n",
        "    self.fc5=nn.Linear(8,1)\n",
        "\n",
        "    self.norm1=nn.BatchNorm2d(160)\n",
        "    self.norm2=nn.BatchNorm2d(64)\n",
        "    self.norm3=nn.BatchNorm2d(32)\n",
        "  \n",
        "  def forward(self,x):\n",
        "    x=F.relu(self.conv1(x))\n",
        "    x=self.norm1(x)\n",
        "    x=F.avg_pool2d(x,kernel_size=(2,2))\n",
        "  \n",
        "    x=F.relu(self.conv2(x))\n",
        "    x=self.norm2(x)\n",
        "    x=F.avg_pool2d(x,kernel_size=(2,2))\n",
        "\n",
        "    x=F.relu(self.conv3(x))\n",
        "    x=self.norm3(x)\n",
        "    x=F.avg_pool2d(x,kernel_size=(2,2))\n",
        "\n",
        "    # x=F.relu(self.conv4(x))\n",
        "    # x=F.avg_pool2d(x,kernel_size=(2,2))\n",
        "\n",
        "    # x=F.relu(self.conv5(x))\n",
        "    # x=F.max_pool2d(x,kernel_size=(2,2))\n",
        "\n",
        "    # x=F.relu(self.conv6(x))\n",
        "    # x=F.max_pool2d(x,kernel_size=(2,2))\n",
        "\n",
        "    # x=F.relu(self.conv7(x))\n",
        "    # x=F.max_pool2d(x,kernel_size=(2,2))\n",
        "\n",
        "    x=torch.flatten(x,start_dim=1)\n",
        "\n",
        "    x=F.relu(self.fc1(x))\n",
        "    x=F.sigmoid(self.fc2(x))\n",
        "    x=F.relu(self.fc3(x))\n",
        "    x=F.relu(self.fc4(x))\n",
        "    x=self.fc5(x)\n",
        "    return x"
      ]
    },
    {
      "cell_type": "code",
      "execution_count": 16,
      "metadata": {
        "id": "0WLH3OAQ2cDD"
      },
      "outputs": [],
      "source": [
        "model=Model().to(device)"
      ]
    },
    {
      "cell_type": "code",
      "source": [
        "#hyper parameters\n",
        "batch_size=64\n",
        "epochs=5\n",
        "lr=0.001"
      ],
      "metadata": {
        "id": "FAeVwZUSPvDd"
      },
      "execution_count": 17,
      "outputs": []
    },
    {
      "cell_type": "code",
      "execution_count": 18,
      "metadata": {
        "id": "tA_HA3z-2uXo"
      },
      "outputs": [],
      "source": [
        "train_data_loader = torch.utils.data.DataLoader(train_set, shuffle=True, batch_size=batch_size)"
      ]
    },
    {
      "cell_type": "code",
      "execution_count": 19,
      "metadata": {
        "id": "yeADsJ1f250O"
      },
      "outputs": [],
      "source": [
        "#compile \n",
        "optimizer=torch.optim.Adam(model.parameters(),lr=lr)\n",
        "loss_function=nn.L1Loss()"
      ]
    },
    {
      "cell_type": "code",
      "execution_count": 20,
      "metadata": {
        "colab": {
          "base_uri": "https://localhost:8080/"
        },
        "id": "HSWSkCAe2_7h",
        "outputId": "5bc8c545-584e-454a-eba4-117f6ed5ec1a"
      },
      "outputs": [
        {
          "output_type": "stream",
          "name": "stderr",
          "text": [
            "\r  0%|          | 0/97 [00:00<?, ?it/s]/usr/local/lib/python3.7/dist-packages/torch/nn/functional.py:1960: UserWarning: nn.functional.sigmoid is deprecated. Use torch.sigmoid instead.\n",
            "  warnings.warn(\"nn.functional.sigmoid is deprecated. Use torch.sigmoid instead.\")\n",
            "/usr/local/lib/python3.7/dist-packages/torch/nn/modules/loss.py:96: UserWarning: Using a target size (torch.Size([64])) that is different to the input size (torch.Size([64, 1])). This will likely lead to incorrect results due to broadcasting. Please ensure they have the same size.\n",
            "  return F.l1_loss(input, target, reduction=self.reduction)\n",
            " 99%|█████████▉| 96/97 [00:38<00:00,  3.15it/s]/usr/local/lib/python3.7/dist-packages/torch/nn/modules/loss.py:96: UserWarning: Using a target size (torch.Size([5])) that is different to the input size (torch.Size([5, 1])). This will likely lead to incorrect results due to broadcasting. Please ensure they have the same size.\n",
            "  return F.l1_loss(input, target, reduction=self.reduction)\n",
            "100%|██████████| 97/97 [00:38<00:00,  2.54it/s]\n"
          ]
        },
        {
          "output_type": "stream",
          "name": "stdout",
          "text": [
            "epochs: 0 , loss: 32.905494689941406\n"
          ]
        },
        {
          "output_type": "stream",
          "name": "stderr",
          "text": [
            "100%|██████████| 97/97 [00:30<00:00,  3.21it/s]\n"
          ]
        },
        {
          "output_type": "stream",
          "name": "stdout",
          "text": [
            "epochs: 1 , loss: 25.871782302856445\n"
          ]
        },
        {
          "output_type": "stream",
          "name": "stderr",
          "text": [
            "100%|██████████| 97/97 [00:30<00:00,  3.17it/s]\n"
          ]
        },
        {
          "output_type": "stream",
          "name": "stdout",
          "text": [
            "epochs: 2 , loss: 17.2052001953125\n"
          ]
        },
        {
          "output_type": "stream",
          "name": "stderr",
          "text": [
            "100%|██████████| 97/97 [00:30<00:00,  3.19it/s]\n"
          ]
        },
        {
          "output_type": "stream",
          "name": "stdout",
          "text": [
            "epochs: 3 , loss: 17.151866912841797\n"
          ]
        },
        {
          "output_type": "stream",
          "name": "stderr",
          "text": [
            "100%|██████████| 97/97 [00:30<00:00,  3.18it/s]"
          ]
        },
        {
          "output_type": "stream",
          "name": "stdout",
          "text": [
            "epochs: 4 , loss: 17.147132873535156\n"
          ]
        },
        {
          "output_type": "stream",
          "name": "stderr",
          "text": [
            "\n"
          ]
        }
      ],
      "source": [
        "model.train()\n",
        "torch.cuda.empty_cache()\n",
        "for epoch in range(epochs):\n",
        "\n",
        "  train_loss=0.0\n",
        "  for images,labels in tqdm(train_data_loader):\n",
        "    images,labels=images.to(device),labels.to(device)\n",
        "    optimizer.zero_grad()\n",
        "\n",
        "    preds=model(images)\n",
        "    ls=loss_function(preds,labels.float())\n",
        "    ls.backward()\n",
        "    optimizer.step()\n",
        "    train_loss+=ls\n",
        "  \n",
        "  total_loss=train_loss/len(train_data_loader)\n",
        "  print(f\"epochs: {epoch} , loss: {total_loss}\")"
      ]
    },
    {
      "cell_type": "code",
      "execution_count": 21,
      "metadata": {
        "id": "li9BPxgd3KC2"
      },
      "outputs": [],
      "source": [
        "torch.save(model.state_dict(),\"face18.pth\")"
      ]
    }
  ],
  "metadata": {
    "accelerator": "GPU",
    "colab": {
      "collapsed_sections": [],
      "name": "AgePredictionTorch.ipynb",
      "provenance": [],
      "include_colab_link": true
    },
    "kernelspec": {
      "display_name": "Python 3",
      "name": "python3"
    },
    "language_info": {
      "name": "python"
    }
  },
  "nbformat": 4,
  "nbformat_minor": 0
}