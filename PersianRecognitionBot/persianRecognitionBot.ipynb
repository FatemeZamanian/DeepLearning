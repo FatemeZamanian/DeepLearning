{
  "nbformat": 4,
  "nbformat_minor": 0,
  "metadata": {
    "colab": {
      "name": "persianRecognitionBot.ipynb",
      "provenance": [],
      "collapsed_sections": [],
      "mount_file_id": "1_DHVpKdt3pykPuT01J_kUUSgbN2mN7hl",
      "authorship_tag": "ABX9TyOSs8jOztIzXoqnev1MnOLr",
      "include_colab_link": true
    },
    "kernelspec": {
      "name": "python3",
      "display_name": "Python 3"
    },
    "language_info": {
      "name": "python"
    }
  },
  "cells": [
    {
      "cell_type": "markdown",
      "metadata": {
        "id": "view-in-github",
        "colab_type": "text"
      },
      "source": [
        "<a href=\"https://colab.research.google.com/github/FatemeZamanian/DeepLearning/blob/main/PersianRecognitionBot/persianRecognitionBot.ipynb\" target=\"_parent\"><img src=\"https://colab.research.google.com/assets/colab-badge.svg\" alt=\"Open In Colab\"/></a>"
      ]
    },
    {
      "cell_type": "code",
      "metadata": {
        "id": "wn1wrFJ0AW7j"
      },
      "source": [
        "!pip install pyTelegramBotAPI"
      ],
      "execution_count": null,
      "outputs": []
    },
    {
      "cell_type": "code",
      "metadata": {
        "id": "CLMPmIlBDPh_"
      },
      "source": [
        "!pip install retina-face"
      ],
      "execution_count": null,
      "outputs": []
    },
    {
      "cell_type": "code",
      "metadata": {
        "id": "pzXeCXO2BgzJ"
      },
      "source": [
        "from tensorflow.keras.models import load_model\n",
        "import telebot\n",
        "from telebot import types\n",
        "import numpy as np\n",
        "import cv2\n",
        "from retinaface import RetinaFace"
      ],
      "execution_count": 7,
      "outputs": []
    },
    {
      "cell_type": "code",
      "metadata": {
        "id": "N6M7By9PBlrZ"
      },
      "source": [
        "model=load_model('/content/drive/MyDrive/prsianrec.h5')\n",
        "bot=telebot.TeleBot(\"Token\")\n",
        "# btns=telebot.types.ReplyKeyboardMarkup(row_width=1)\n",
        "# btn1=telebot.types.KeyboardButton('Start')\n",
        "# btns.add(btn1)\n",
        "@bot.message_handler(commands=['start'])\n",
        "def wlc(message):\n",
        "    bot.send_message(message.chat.id,'Hi 👋🏻 please send me a picture👀',\n",
        "    #reply_markup=btns\n",
        "     )\n",
        "\n",
        "@bot.message_handler(content_types=['photo'])\n",
        "def photo(message):\n",
        "    fileID = message.photo[-1].file_id\n",
        "    file_info = bot.get_file(fileID)\n",
        "    src=file_info.file_path\n",
        "    downloaded_file = bot.download_file(src)\n",
        "    with open(f\"/content/drive/MyDrive/{src}\", 'wb') as new_file:\n",
        "        new_file.write(downloaded_file)\n",
        "\n",
        "\n",
        "    faces = RetinaFace.extract_faces(img_path =f\"/content/drive/MyDrive/{src}\", align = True)\n",
        "    for face in faces:\n",
        "      img_RGB = cv2.cvtColor(face, cv2.COLOR_BGR2RGB)\n",
        "      img_resize = cv2.resize(img_RGB, (224, 224))\n",
        "      img_numpy = np.array(img_resize)\n",
        "      img = img_numpy / 255.0\n",
        "      final = img.reshape(1, 224, 224, 3)\n",
        "      y_pred = np.argmax(model.predict(final))\n",
        "\n",
        "    if y_pred == 0:\n",
        "        bot.reply_to(message,'Foreign')\n",
        "      \n",
        "    else:\n",
        "        bot.reply_to(message,'Persian')\n",
        "      \n",
        "\n",
        "bot.polling()"
      ],
      "execution_count": null,
      "outputs": []
    }
  ]
}