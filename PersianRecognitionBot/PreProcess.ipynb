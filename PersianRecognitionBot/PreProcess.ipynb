{
  "nbformat": 4,
  "nbformat_minor": 0,
  "metadata": {
    "colab": {
      "name": "Untitled0.ipynb",
      "provenance": [],
      "collapsed_sections": [],
      "authorship_tag": "ABX9TyMj5MKVFJymzWHjujDMT5sX",
      "include_colab_link": true
    },
    "kernelspec": {
      "name": "python3",
      "display_name": "Python 3"
    },
    "language_info": {
      "name": "python"
    }
  },
  "cells": [
    {
      "cell_type": "markdown",
      "metadata": {
        "id": "view-in-github",
        "colab_type": "text"
      },
      "source": [
        "<a href=\"https://colab.research.google.com/github/FatemeZamanian/DeepLearning/blob/main/PersianRecognitionBot/PreProcess.ipynb\" target=\"_parent\"><img src=\"https://colab.research.google.com/assets/colab-badge.svg\" alt=\"Open In Colab\"/></a>"
      ]
    },
    {
      "cell_type": "code",
      "metadata": {
        "id": "nqy9RgHQKz9u"
      },
      "source": [
        "!pip install retina-face"
      ],
      "execution_count": null,
      "outputs": []
    },
    {
      "cell_type": "code",
      "metadata": {
        "colab": {
          "base_uri": "https://localhost:8080/"
        },
        "id": "dHSV65gKLACw",
        "outputId": "1a6cfdaa-b8b1-44bd-fd30-1bab529a7d7d"
      },
      "source": [
        "from google.colab import drive\n",
        "drive.mount('/content/drive')"
      ],
      "execution_count": 29,
      "outputs": [
        {
          "output_type": "stream",
          "name": "stdout",
          "text": [
            "Drive already mounted at /content/drive; to attempt to forcibly remount, call drive.mount(\"/content/drive\", force_remount=True).\n"
          ]
        }
      ]
    },
    {
      "cell_type": "code",
      "metadata": {
        "id": "cMgZLEnwLM7t"
      },
      "source": [
        "!cd /content/drive/MyDrive/faces"
      ],
      "execution_count": 30,
      "outputs": []
    },
    {
      "cell_type": "code",
      "metadata": {
        "id": "eR80FkbaL00X"
      },
      "source": [
        "import matplotlib.pyplot as plt\n",
        "from retinaface import RetinaFace\n",
        "import os\n",
        "import cv2"
      ],
      "execution_count": 32,
      "outputs": []
    },
    {
      "cell_type": "code",
      "metadata": {
        "id": "ZvMOpad3Qbxp"
      },
      "source": [
        "root=\"/content/drive/MyDrive\"\n",
        "readdir=os.path.join(root,\"photos\")\n",
        "writedir=os.path.join(root,\"out_faces\")"
      ],
      "execution_count": 35,
      "outputs": []
    },
    {
      "cell_type": "code",
      "metadata": {
        "id": "YUBqjhIWLq4q"
      },
      "source": [
        "for i in range(1,21):\n",
        "  faces = RetinaFace.extract_faces(img_path =os.path.join(readdir,f\"{i}.jpeg\"), align = True)\n",
        "  for face in faces:\n",
        "    writepath=os.path.join(writedir,f\"{i}.jpg\")\n",
        "    face=cv2.cvtColor(face,cv2.COLOR_BGR2RGB)\n",
        "    cv2.imwrite(writepath,face)\n"
      ],
      "execution_count": 38,
      "outputs": []
    }
  ]
}