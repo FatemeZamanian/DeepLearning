{
  "nbformat": 4,
  "nbformat_minor": 0,
  "metadata": {
    "colab": {
      "name": "persianRecognitionTrain.ipynb",
      "provenance": [],
      "collapsed_sections": [],
      "mount_file_id": "1OH4ImOqQEPW11mQeSaWANt7enH5uAJBR",
      "authorship_tag": "ABX9TyMnSD8bzmlLc/U3FY4pPv9O",
      "include_colab_link": true
    },
    "kernelspec": {
      "name": "python3",
      "display_name": "Python 3"
    },
    "language_info": {
      "name": "python"
    },
    "accelerator": "GPU"
  },
  "cells": [
    {
      "cell_type": "markdown",
      "metadata": {
        "id": "view-in-github",
        "colab_type": "text"
      },
      "source": [
        "<a href=\"https://colab.research.google.com/github/FatemeZamanian/DeepLearning/blob/main/PersianRecognitionBot/persianRecognitionTrain.ipynb\" target=\"_parent\"><img src=\"https://colab.research.google.com/assets/colab-badge.svg\" alt=\"Open In Colab\"/></a>"
      ]
    },
    {
      "cell_type": "code",
      "metadata": {
        "id": "o0Hcq2gRlDnX"
      },
      "source": [
        "import tensorflow as tf\n",
        "from tensorflow.keras import layers\n",
        "from tensorflow.keras.preprocessing.image import ImageDataGenerator\n",
        "import numpy as np\n",
        "import os"
      ],
      "execution_count": 1,
      "outputs": []
    },
    {
      "cell_type": "code",
      "metadata": {
        "colab": {
          "base_uri": "https://localhost:8080/"
        },
        "id": "rLP6JaxcsPUB",
        "outputId": "0c7c6a31-d2f5-42bb-f190-d8c9c4d7e2d9"
      },
      "source": [
        "dataset_path=\"/content/drive/MyDrive/Persian_Recognition\"\n",
        "width=height=224\n",
        "batch_size=32\n",
        "data_generator=ImageDataGenerator(\n",
        "    rescale=1./255,\n",
        "    horizontal_flip=True,\n",
        "    validation_split=0.1\n",
        ")\n",
        "\n",
        "train_data=data_generator.flow_from_directory(\n",
        "    dataset_path,\n",
        "    target_size=(width,height),\n",
        "    class_mode='categorical',\n",
        "    batch_size=batch_size,\n",
        "    shuffle=True,\n",
        "    subset='training',\n",
        "\n",
        ")\n",
        "\n",
        "val_data=data_generator.flow_from_directory(\n",
        "    dataset_path,\n",
        "    target_size=(width,height),\n",
        "    class_mode='categorical',\n",
        "    batch_size=batch_size,\n",
        "    shuffle=True,\n",
        "    subset='validation',\n",
        "\n",
        ")\n"
      ],
      "execution_count": 2,
      "outputs": [
        {
          "output_type": "stream",
          "name": "stdout",
          "text": [
            "Found 2631 images belonging to 2 classes.\n",
            "Found 291 images belonging to 2 classes.\n"
          ]
        }
      ]
    },
    {
      "cell_type": "code",
      "metadata": {
        "colab": {
          "base_uri": "https://localhost:8080/"
        },
        "id": "DglMN1N2uXt_",
        "outputId": "6e1a71d0-b4a9-45c3-c490-3152fafdb0a4"
      },
      "source": [
        "model_r=tf.keras.applications.ResNet50V2(\n",
        "    input_shape=(width,height,3),\n",
        "    include_top=False,\n",
        "    weights='imagenet',\n",
        "    pooling='max'\n",
        ")"
      ],
      "execution_count": 3,
      "outputs": [
        {
          "output_type": "stream",
          "name": "stdout",
          "text": [
            "Downloading data from https://storage.googleapis.com/tensorflow/keras-applications/resnet/resnet50v2_weights_tf_dim_ordering_tf_kernels_notop.h5\n",
            "94674944/94668760 [==============================] - 1s 0us/step\n",
            "94683136/94668760 [==============================] - 1s 0us/step\n"
          ]
        }
      ]
    },
    {
      "cell_type": "code",
      "metadata": {
        "id": "VNFxHITIxGOx"
      },
      "source": [
        "for layer in model_r.layers[:-2]:\n",
        "  layer.trainable=False"
      ],
      "execution_count": 4,
      "outputs": []
    },
    {
      "cell_type": "code",
      "metadata": {
        "id": "y5WY7LGNxTaD"
      },
      "source": [
        "model=tf.keras.Sequential([\n",
        "        model_r,\n",
        "        layers.Dense(2,activation='softmax'),\n",
        "])"
      ],
      "execution_count": 5,
      "outputs": []
    },
    {
      "cell_type": "code",
      "metadata": {
        "id": "IpY_M8oXxToY"
      },
      "source": [
        "!pip install wandb\n",
        "import wandb\n",
        "from wandb.keras import WandbCallback"
      ],
      "execution_count": null,
      "outputs": []
    },
    {
      "cell_type": "code",
      "metadata": {
        "id": "BNDpPKpGymGZ"
      },
      "source": [
        "wandb.init(project=\"PersianDetection\")\n",
        "config = wandb.config\n",
        "config.learning_rate = 0.001"
      ],
      "execution_count": null,
      "outputs": []
    },
    {
      "cell_type": "code",
      "metadata": {
        "id": "g-MtsHjHy30H"
      },
      "source": [
        "model.compile(optimizer=tf.keras.optimizers.Adam(learning_rate= config.learning_rate ),\n",
        "              loss=tf.keras.losses.categorical_crossentropy,\n",
        "              metrics=['accuracy'],)"
      ],
      "execution_count": 8,
      "outputs": []
    },
    {
      "cell_type": "code",
      "metadata": {
        "colab": {
          "base_uri": "https://localhost:8080/"
        },
        "id": "aabEJJCP3Zy3",
        "outputId": "791c215a-f612-4645-cd19-f4e8b2b5fd74"
      },
      "source": [
        "model.fit(train_data,\n",
        "          steps_per_epoch=train_data.samples/batch_size,\n",
        "          validation_data=val_data,\n",
        "          validation_steps=val_data.samples/batch_size,\n",
        "          epochs=20,\n",
        "          class_weight={0:1,1:3},\n",
        "          callbacks=[WandbCallback()],\n",
        "\n",
        ")"
      ],
      "execution_count": 12,
      "outputs": [
        {
          "output_type": "stream",
          "name": "stdout",
          "text": [
            "Epoch 1/20\n",
            "82/82 [==============================] - 632s 7s/step - loss: 0.9193 - accuracy: 0.8510 - val_loss: 0.6450 - val_accuracy: 0.8247\n"
          ]
        },
        {
          "output_type": "stream",
          "name": "stderr",
          "text": [
            "/usr/local/lib/python3.7/dist-packages/keras/utils/generic_utils.py:497: CustomMaskWarning: Custom mask layers require a config and must override get_config. When loading, the custom mask layer must be passed to the custom_objects argument.\n",
            "  category=CustomMaskWarning)\n"
          ]
        },
        {
          "output_type": "stream",
          "name": "stdout",
          "text": [
            "Epoch 2/20\n",
            "82/82 [==============================] - 29s 356ms/step - loss: 0.5663 - accuracy: 0.9023 - val_loss: 0.6385 - val_accuracy: 0.8282\n",
            "Epoch 3/20\n",
            "82/82 [==============================] - 29s 352ms/step - loss: 0.3889 - accuracy: 0.9388 - val_loss: 0.5909 - val_accuracy: 0.8557\n",
            "Epoch 4/20\n",
            "82/82 [==============================] - 29s 354ms/step - loss: 0.2641 - accuracy: 0.9540 - val_loss: 0.4727 - val_accuracy: 0.8935\n",
            "Epoch 5/20\n",
            "82/82 [==============================] - 29s 356ms/step - loss: 0.2296 - accuracy: 0.9521 - val_loss: 0.4700 - val_accuracy: 0.8729\n",
            "Epoch 6/20\n",
            "82/82 [==============================] - 29s 354ms/step - loss: 0.1999 - accuracy: 0.9540 - val_loss: 0.3291 - val_accuracy: 0.9003\n",
            "Epoch 7/20\n",
            "82/82 [==============================] - 29s 354ms/step - loss: 0.1939 - accuracy: 0.9643 - val_loss: 0.8932 - val_accuracy: 0.7904\n",
            "Epoch 8/20\n",
            "82/82 [==============================] - 29s 352ms/step - loss: 0.2321 - accuracy: 0.9491 - val_loss: 0.3132 - val_accuracy: 0.9072\n",
            "Epoch 9/20\n",
            "82/82 [==============================] - 29s 353ms/step - loss: 0.1896 - accuracy: 0.9563 - val_loss: 0.4350 - val_accuracy: 0.8832\n",
            "Epoch 10/20\n",
            "82/82 [==============================] - 29s 354ms/step - loss: 0.1453 - accuracy: 0.9734 - val_loss: 0.3623 - val_accuracy: 0.9072\n",
            "Epoch 11/20\n",
            "82/82 [==============================] - 29s 353ms/step - loss: 0.1495 - accuracy: 0.9696 - val_loss: 0.3891 - val_accuracy: 0.8866\n",
            "Epoch 12/20\n",
            "82/82 [==============================] - 29s 354ms/step - loss: 0.1079 - accuracy: 0.9810 - val_loss: 0.3052 - val_accuracy: 0.9175\n",
            "Epoch 13/20\n",
            "82/82 [==============================] - 29s 357ms/step - loss: 0.1156 - accuracy: 0.9738 - val_loss: 0.5811 - val_accuracy: 0.8729\n",
            "Epoch 14/20\n",
            "82/82 [==============================] - 29s 353ms/step - loss: 0.1870 - accuracy: 0.9574 - val_loss: 0.3835 - val_accuracy: 0.9175\n",
            "Epoch 15/20\n",
            "82/82 [==============================] - 29s 355ms/step - loss: 0.1251 - accuracy: 0.9700 - val_loss: 0.4548 - val_accuracy: 0.8900\n",
            "Epoch 16/20\n",
            "82/82 [==============================] - 29s 351ms/step - loss: 0.0975 - accuracy: 0.9772 - val_loss: 0.4591 - val_accuracy: 0.8866\n",
            "Epoch 17/20\n",
            "82/82 [==============================] - 29s 355ms/step - loss: 0.0810 - accuracy: 0.9829 - val_loss: 0.3783 - val_accuracy: 0.9038\n",
            "Epoch 18/20\n",
            "82/82 [==============================] - 29s 352ms/step - loss: 0.1089 - accuracy: 0.9768 - val_loss: 0.4877 - val_accuracy: 0.8797\n",
            "Epoch 19/20\n",
            "82/82 [==============================] - 29s 355ms/step - loss: 0.1084 - accuracy: 0.9738 - val_loss: 0.4378 - val_accuracy: 0.9210\n",
            "Epoch 20/20\n",
            "82/82 [==============================] - 29s 352ms/step - loss: 0.1232 - accuracy: 0.9726 - val_loss: 0.8976 - val_accuracy: 0.8454\n"
          ]
        },
        {
          "output_type": "execute_result",
          "data": {
            "text/plain": [
              "<keras.callbacks.History at 0x7f121a48e750>"
            ]
          },
          "metadata": {},
          "execution_count": 12
        }
      ]
    },
    {
      "cell_type": "code",
      "metadata": {
        "colab": {
          "base_uri": "https://localhost:8080/"
        },
        "id": "7gjJii_G_wJF",
        "outputId": "7d727a53-d194-4699-c16d-012755d793bc"
      },
      "source": [
        "model.save('prsianrec.h5')"
      ],
      "execution_count": 13,
      "outputs": [
        {
          "output_type": "stream",
          "name": "stderr",
          "text": [
            "/usr/local/lib/python3.7/dist-packages/keras/utils/generic_utils.py:497: CustomMaskWarning: Custom mask layers require a config and must override get_config. When loading, the custom mask layer must be passed to the custom_objects argument.\n",
            "  category=CustomMaskWarning)\n"
          ]
        }
      ]
    }
  ]
}