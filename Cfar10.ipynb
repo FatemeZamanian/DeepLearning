{
  "nbformat": 4,
  "nbformat_minor": 0,
  "metadata": {
    "colab": {
      "name": "Cfar10.ipynb",
      "provenance": [],
      "collapsed_sections": [],
      "authorship_tag": "ABX9TyNT0ex5muVddG+Rmv12DC49",
      "include_colab_link": true
    },
    "kernelspec": {
      "name": "python3",
      "display_name": "Python 3"
    },
    "language_info": {
      "name": "python"
    },
    "accelerator": "GPU"
  },
  "cells": [
    {
      "cell_type": "markdown",
      "metadata": {
        "id": "view-in-github",
        "colab_type": "text"
      },
      "source": [
        "<a href=\"https://colab.research.google.com/github/FatemeZamanian/DeepLearning/blob/main/Cfar10.ipynb\" target=\"_parent\"><img src=\"https://colab.research.google.com/assets/colab-badge.svg\" alt=\"Open In Colab\"/></a>"
      ]
    },
    {
      "cell_type": "code",
      "metadata": {
        "id": "C4IQAYrUg768"
      },
      "source": [
        "import tensorflow as tf\n",
        "import matplotlib.pyplot as plt\n",
        "from tensorflow.keras.layers import Dense"
      ],
      "execution_count": 1,
      "outputs": []
    },
    {
      "cell_type": "markdown",
      "metadata": {
        "id": "cfRZ1Fp94VCG"
      },
      "source": [
        "**MLP**"
      ]
    },
    {
      "cell_type": "code",
      "metadata": {
        "colab": {
          "base_uri": "https://localhost:8080/"
        },
        "id": "9KrbXeCuhCg2",
        "outputId": "b7da47f9-a6df-4587-bace-8aa56b86e4ed"
      },
      "source": [
        "dataset=tf.keras.datasets.cifar10\n",
        "(X_train,Y_train),(X_test,Y_test)=dataset.load_data()"
      ],
      "execution_count": 2,
      "outputs": [
        {
          "output_type": "stream",
          "name": "stdout",
          "text": [
            "Downloading data from https://www.cs.toronto.edu/~kriz/cifar-10-python.tar.gz\n",
            "170500096/170498071 [==============================] - 12s 0us/step\n",
            "170508288/170498071 [==============================] - 12s 0us/step\n"
          ]
        }
      ]
    },
    {
      "cell_type": "code",
      "metadata": {
        "id": "FEWMUqNth7y1"
      },
      "source": [
        "X_train=X_train.reshape(50000,3072)"
      ],
      "execution_count": 3,
      "outputs": []
    },
    {
      "cell_type": "code",
      "metadata": {
        "id": "FhM2MBXKi9qO"
      },
      "source": [
        "model=tf.keras.models.Sequential([\n",
        "             Dense(64,input_dim=3072,activation='relu'),\n",
        "             Dense(32,activation='relu'),\n",
        "             Dense(16,activation='relu'),\n",
        "             Dense(10,activation='softmax')                     \n",
        "])"
      ],
      "execution_count": 4,
      "outputs": []
    },
    {
      "cell_type": "code",
      "metadata": {
        "id": "YgMo8DAejGsc"
      },
      "source": [
        "model.compile(optimizer=tf.keras.optimizers.Adam(),loss=tf.keras.losses.sparse_categorical_crossentropy,metrics=['accuracy'])"
      ],
      "execution_count": 5,
      "outputs": []
    },
    {
      "cell_type": "code",
      "metadata": {
        "colab": {
          "base_uri": "https://localhost:8080/"
        },
        "id": "ASKaPD-4jJVM",
        "outputId": "7fa6f1db-6d96-41f4-e835-664121ab0bba"
      },
      "source": [
        "model.fit(X_train,Y_train,epochs=20)"
      ],
      "execution_count": 6,
      "outputs": [
        {
          "output_type": "stream",
          "name": "stdout",
          "text": [
            "Epoch 1/20\n",
            "1563/1563 [==============================] - 8s 3ms/step - loss: 3.6665 - accuracy: 0.1662\n",
            "Epoch 2/20\n",
            "1563/1563 [==============================] - 5s 3ms/step - loss: 2.1687 - accuracy: 0.2003\n",
            "Epoch 3/20\n",
            "1563/1563 [==============================] - 5s 3ms/step - loss: 2.0217 - accuracy: 0.2457\n",
            "Epoch 4/20\n",
            "1563/1563 [==============================] - 5s 3ms/step - loss: 1.9821 - accuracy: 0.2581\n",
            "Epoch 5/20\n",
            "1563/1563 [==============================] - 5s 3ms/step - loss: 1.9508 - accuracy: 0.2686\n",
            "Epoch 6/20\n",
            "1563/1563 [==============================] - 5s 3ms/step - loss: 1.9378 - accuracy: 0.2750\n",
            "Epoch 7/20\n",
            "1563/1563 [==============================] - 5s 3ms/step - loss: 1.9327 - accuracy: 0.2775\n",
            "Epoch 8/20\n",
            "1563/1563 [==============================] - 5s 3ms/step - loss: 2.0657 - accuracy: 0.1915\n",
            "Epoch 9/20\n",
            "1563/1563 [==============================] - 5s 3ms/step - loss: 2.0341 - accuracy: 0.1905\n",
            "Epoch 10/20\n",
            "1563/1563 [==============================] - 5s 3ms/step - loss: 2.0248 - accuracy: 0.1897\n",
            "Epoch 11/20\n",
            "1563/1563 [==============================] - 5s 3ms/step - loss: 2.0137 - accuracy: 0.1915\n",
            "Epoch 12/20\n",
            "1563/1563 [==============================] - 5s 3ms/step - loss: 2.0019 - accuracy: 0.1954\n",
            "Epoch 13/20\n",
            "1563/1563 [==============================] - 5s 3ms/step - loss: 1.9218 - accuracy: 0.2630\n",
            "Epoch 14/20\n",
            "1563/1563 [==============================] - 5s 3ms/step - loss: 1.8846 - accuracy: 0.2797\n",
            "Epoch 15/20\n",
            "1563/1563 [==============================] - 5s 3ms/step - loss: 1.8734 - accuracy: 0.2777\n",
            "Epoch 16/20\n",
            "1563/1563 [==============================] - 5s 3ms/step - loss: 1.8610 - accuracy: 0.2829\n",
            "Epoch 17/20\n",
            "1563/1563 [==============================] - 5s 3ms/step - loss: 1.8515 - accuracy: 0.2870\n",
            "Epoch 18/20\n",
            "1563/1563 [==============================] - 5s 3ms/step - loss: 1.8499 - accuracy: 0.2867\n",
            "Epoch 19/20\n",
            "1563/1563 [==============================] - 5s 3ms/step - loss: 1.8447 - accuracy: 0.2881\n",
            "Epoch 20/20\n",
            "1563/1563 [==============================] - 5s 3ms/step - loss: 1.8412 - accuracy: 0.2890\n"
          ]
        },
        {
          "output_type": "execute_result",
          "data": {
            "text/plain": [
              "<keras.callbacks.History at 0x7f92202717d0>"
            ]
          },
          "metadata": {},
          "execution_count": 6
        }
      ]
    },
    {
      "cell_type": "code",
      "metadata": {
        "colab": {
          "base_uri": "https://localhost:8080/"
        },
        "id": "jVZMmAtX4bZ4",
        "outputId": "196f6eae-9a13-4522-9791-97269ac5ba18"
      },
      "source": [
        "X_test=X_test.reshape(10000,3072)\n",
        "model.evaluate(X_test,Y_test )"
      ],
      "execution_count": 7,
      "outputs": [
        {
          "output_type": "stream",
          "name": "stdout",
          "text": [
            "313/313 [==============================] - 1s 2ms/step - loss: 1.8424 - accuracy: 0.2884\n"
          ]
        },
        {
          "output_type": "execute_result",
          "data": {
            "text/plain": [
              "[1.8423962593078613, 0.28839999437332153]"
            ]
          },
          "metadata": {},
          "execution_count": 7
        }
      ]
    },
    {
      "cell_type": "code",
      "metadata": {
        "id": "hdmGl-Ve3WSu"
      },
      "source": [
        "dataset=tf.keras.datasets.cifar10\n",
        "(X_train,Y_train),(X_test,Y_test)=dataset.load_data()\n",
        "X_train=X_train/255.0\n",
        "X_test=X_test/255.0"
      ],
      "execution_count": 8,
      "outputs": []
    },
    {
      "cell_type": "code",
      "metadata": {
        "colab": {
          "base_uri": "https://localhost:8080/"
        },
        "id": "A53m7iz56MS2",
        "outputId": "476653c5-d353-4f39-8c17-eda0ad8eb3a5"
      },
      "source": [
        "# X_train.shape\n",
        "X_test.shape"
      ],
      "execution_count": 9,
      "outputs": [
        {
          "output_type": "execute_result",
          "data": {
            "text/plain": [
              "(10000, 32, 32, 3)"
            ]
          },
          "metadata": {},
          "execution_count": 9
        }
      ]
    },
    {
      "cell_type": "code",
      "metadata": {
        "id": "rLk-EYM26bN0"
      },
      "source": [
        "model_c=tf.keras.models.Sequential([\n",
        "            tf.keras.layers.Conv2D(32,(5,5),activation='relu',input_shape=(32,32,3)),\n",
        "            tf.keras.layers.Conv2D(64,(5,5),activation='relu'),\n",
        "            tf.keras.layers.Conv2D(64,(5,5),activation='relu'),\n",
        "            tf.keras.layers.Flatten(),\n",
        "            tf.keras.layers.Dense(64,activation='relu'),\n",
        "            tf.keras.layers.Dense(10,activation='softmax'),\n",
        "\n",
        "])"
      ],
      "execution_count": 10,
      "outputs": []
    },
    {
      "cell_type": "code",
      "metadata": {
        "id": "MQYmKVar6uDn"
      },
      "source": [
        "model_c.compile(optimizer=tf.keras.optimizers.SGD(),loss=tf.keras.losses.sparse_categorical_crossentropy,metrics=['accuracy'])"
      ],
      "execution_count": 11,
      "outputs": []
    },
    {
      "cell_type": "code",
      "metadata": {
        "id": "JbYPWZIk6y6N"
      },
      "source": [
        "X_train = X_train.reshape(X_train.shape[0],X_train.shape[1], X_train.shape[2],3)\n",
        "X_test = X_test.reshape(X_test.shape[0], X_test.shape[1], X_test.shape[2],3)"
      ],
      "execution_count": 16,
      "outputs": []
    },
    {
      "cell_type": "code",
      "metadata": {
        "colab": {
          "base_uri": "https://localhost:8080/"
        },
        "id": "nMHZzSKf66cn",
        "outputId": "5c68bc07-6ffe-4b0f-f21d-9371e5fa4e50"
      },
      "source": [
        "model_c.fit(X_train,Y_train,epochs=15)"
      ],
      "execution_count": 14,
      "outputs": [
        {
          "output_type": "stream",
          "name": "stdout",
          "text": [
            "Epoch 1/15\n",
            "1563/1563 [==============================] - 15s 10ms/step - loss: 0.4964 - accuracy: 0.8282\n",
            "Epoch 2/15\n",
            "1563/1563 [==============================] - 15s 10ms/step - loss: 0.4123 - accuracy: 0.8569\n",
            "Epoch 3/15\n",
            "1563/1563 [==============================] - 15s 9ms/step - loss: 0.3281 - accuracy: 0.8861\n",
            "Epoch 4/15\n",
            "1563/1563 [==============================] - 15s 10ms/step - loss: 0.2568 - accuracy: 0.9097\n",
            "Epoch 5/15\n",
            "1563/1563 [==============================] - 15s 10ms/step - loss: 0.2019 - accuracy: 0.9304\n",
            "Epoch 6/15\n",
            "1563/1563 [==============================] - 15s 10ms/step - loss: 0.1513 - accuracy: 0.9494\n",
            "Epoch 7/15\n",
            "1563/1563 [==============================] - 15s 10ms/step - loss: 0.1159 - accuracy: 0.9603\n",
            "Epoch 8/15\n",
            "1563/1563 [==============================] - 15s 10ms/step - loss: 0.0976 - accuracy: 0.9664\n",
            "Epoch 9/15\n",
            "1563/1563 [==============================] - 15s 10ms/step - loss: 0.0914 - accuracy: 0.9691\n",
            "Epoch 10/15\n",
            "1563/1563 [==============================] - 15s 10ms/step - loss: 0.0693 - accuracy: 0.9765\n",
            "Epoch 11/15\n",
            "1563/1563 [==============================] - 15s 9ms/step - loss: 0.0540 - accuracy: 0.9829\n",
            "Epoch 12/15\n",
            "1563/1563 [==============================] - 15s 10ms/step - loss: 0.0493 - accuracy: 0.9844\n",
            "Epoch 13/15\n",
            "1563/1563 [==============================] - 15s 10ms/step - loss: 0.0461 - accuracy: 0.9851\n",
            "Epoch 14/15\n",
            "1563/1563 [==============================] - 15s 10ms/step - loss: 0.0435 - accuracy: 0.9859\n",
            "Epoch 15/15\n",
            "1563/1563 [==============================] - 15s 10ms/step - loss: 0.0358 - accuracy: 0.9878\n"
          ]
        },
        {
          "output_type": "execute_result",
          "data": {
            "text/plain": [
              "<keras.callbacks.History at 0x7f91e488a250>"
            ]
          },
          "metadata": {},
          "execution_count": 14
        }
      ]
    },
    {
      "cell_type": "code",
      "metadata": {
        "colab": {
          "base_uri": "https://localhost:8080/"
        },
        "id": "MyYVLExdNxbE",
        "outputId": "db2513c7-da06-4366-96ed-8d70bf00b969"
      },
      "source": [
        "model_c.evaluate(X_test,Y_test)"
      ],
      "execution_count": 18,
      "outputs": [
        {
          "output_type": "stream",
          "name": "stdout",
          "text": [
            "313/313 [==============================] - 2s 6ms/step - loss: 2.7355 - accuracy: 0.6348\n"
          ]
        },
        {
          "output_type": "execute_result",
          "data": {
            "text/plain": [
              "[2.7354915142059326, 0.6348000168800354]"
            ]
          },
          "metadata": {},
          "execution_count": 18
        }
      ]
    }
  ]
}