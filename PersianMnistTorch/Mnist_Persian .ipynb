{
  "nbformat": 4,
  "nbformat_minor": 0,
  "metadata": {
    "colab": {
      "name": "Mnist-Persian.ipynb",
      "provenance": []
    },
    "kernelspec": {
      "name": "python3",
      "display_name": "Python 3"
    },
    "language_info": {
      "name": "python"
    },
    "accelerator": "GPU"
  },
  "cells": [
    {
      "cell_type": "code",
      "execution_count": null,
      "metadata": {
        "id": "oO9-fQxz2Bnk"
      },
      "outputs": [],
      "source": [
        "import torch\n",
        "import torch.nn as nn\n",
        "import torch.nn.functional as F\n",
        "import torchvision\n",
        "from torchvision import transforms\n",
        "from tqdm import tqdm"
      ]
    },
    {
      "cell_type": "code",
      "source": [
        "from google.colab import drive\n",
        "drive.mount('/content/drive')"
      ],
      "metadata": {
        "colab": {
          "base_uri": "https://localhost:8080/"
        },
        "id": "TtO3cSkJItPW",
        "outputId": "f43bc64d-400b-402b-9ae0-99d05cdee83b"
      },
      "execution_count": null,
      "outputs": [
        {
          "output_type": "stream",
          "name": "stdout",
          "text": [
            "Drive already mounted at /content/drive; to attempt to forcibly remount, call drive.mount(\"/content/drive\", force_remount=True).\n"
          ]
        }
      ]
    },
    {
      "cell_type": "code",
      "source": [
        "def calc_acc(preds,labels):\n",
        "  _,pred_max=torch.max(preds,1)\n",
        "  acc=torch.sum(pred_max==labels.data,dtype=torch.float64)/len(preds)\n",
        "  return acc"
      ],
      "metadata": {
        "id": "gtPVF5jMUTah"
      },
      "execution_count": null,
      "outputs": []
    },
    {
      "cell_type": "code",
      "source": [
        "\n",
        "class Model(nn.Module):\n",
        "  def __init__(self):\n",
        "    super().__init__()\n",
        "    self.conv1=nn.Conv2d(3,512,(3,3),(1,1),(0,0))\n",
        "    self.conv2=nn.Conv2d(512,128,(3,3),(1,1),(1,1))\n",
        "    self.conv3=nn.Conv2d(128,64,(3,3),(1,1),(1,1))\n",
        "    self.conv4=nn.Conv2d(64,32,(3,3),(1,1),(1,1))\n",
        "    self.conv5=nn.Conv2d(32,16,(3,3),(1,1),(1,1))\n",
        "\n",
        "    self.fc1=nn.Linear(16*1*1,128)\n",
        "    self.fc2=nn.Linear(128,256)\n",
        "    self.fc3=nn.Linear(256,10)\n",
        "  \n",
        "  def forward(self,x):\n",
        "    x=F.relu(self.conv1(x))\n",
        "    x=F.max_pool2d(x,kernel_size=(2,2))\n",
        "\n",
        "    x=F.relu(self.conv2(x))\n",
        "    x=F.max_pool2d(x,kernel_size=(2,2))\n",
        "\n",
        "    x=F.relu(self.conv3(x))\n",
        "    x=F.max_pool2d(x,kernel_size=(2,2))\n",
        "\n",
        "    x=F.relu(self.conv4(x))\n",
        "    x=F.max_pool2d(x,kernel_size=(2,2))\n",
        "\n",
        "    x=F.relu(self.conv5(x))\n",
        "\n",
        "    x=torch.flatten(x,start_dim=1)\n",
        "\n",
        "    x=F.relu(self.fc1(x))\n",
        "    x=F.relu(self.fc2(x))\n",
        "    x=self.fc3(x)\n",
        "    x=torch.softmax(x,dim=1)\n",
        "    return x"
      ],
      "metadata": {
        "id": "5LdbHV1b2UNu"
      },
      "execution_count": null,
      "outputs": []
    },
    {
      "cell_type": "code",
      "source": [
        ""
      ],
      "metadata": {
        "id": "oRZzBMAbJLP_"
      },
      "execution_count": null,
      "outputs": []
    },
    {
      "cell_type": "code",
      "source": [
        "device=torch.device(\"cuda\" if torch.cuda.is_available() else \"cpu\")\n",
        "model=Model().to(device)"
      ],
      "metadata": {
        "id": "9P6Dzvl-BWE0"
      },
      "execution_count": null,
      "outputs": []
    },
    {
      "cell_type": "code",
      "source": [
        "#hyper parameters\n",
        "batch_size=16\n",
        "epochs=40\n",
        "lr=0.0001\n"
      ],
      "metadata": {
        "id": "4Tiuz3BBE1F5"
      },
      "execution_count": null,
      "outputs": []
    },
    {
      "cell_type": "code",
      "source": [
        "transform=transforms.Compose([\n",
        "                                   transforms.RandomRotation(10),\n",
        "                                   transforms.Resize((30,30)),\n",
        "                                   transforms.ToTensor(),\n",
        "                                   transforms.Normalize((0.485,0.456,0.406),(0.229,0.224,0.225))\n",
        "\n",
        "])\n",
        "\n",
        "dataset=torchvision.datasets.ImageFolder(root=\"/content/drive/MyDrive/persian-mnist\",transform=transform)\n",
        "train_data_loader=torch.utils.data.DataLoader(dataset,batch_size=batch_size,shuffle=True)"
      ],
      "metadata": {
        "id": "6ny_-qc-FDp-"
      },
      "execution_count": null,
      "outputs": []
    },
    {
      "cell_type": "code",
      "source": [
        "#compile \n",
        "optimizer=torch.optim.Adam(model.parameters(),lr=lr)\n",
        "loss_function=nn.CrossEntropyLoss()"
      ],
      "metadata": {
        "id": "GFk5ogGVKIXB"
      },
      "execution_count": null,
      "outputs": []
    },
    {
      "cell_type": "code",
      "source": [
        "model.train()\n",
        "for epoch in range(epochs):\n",
        "  train_loss=0.0\n",
        "  train_acc=0.0\n",
        "  for images,labels in tqdm(train_data_loader):\n",
        "    images,labels=images.to(device),labels.to(device)\n",
        "    optimizer.zero_grad()\n",
        "\n",
        "    preds=model(images)\n",
        "    loss=loss_function(preds,labels)\n",
        "    loss.backward()\n",
        "    optimizer.step()\n",
        "    train_loss+=loss\n",
        "    train_acc+=calc_acc(preds,labels)\n",
        "  \n",
        "  total_loss=train_loss/len(train_data_loader)\n",
        "  total_acc=train_acc/len(train_data_loader)\n",
        "  print(f\"epochs: {epoch} , loss: {total_loss}, acc: {total_acc}\")"
      ],
      "metadata": {
        "id": "utUbu3okQeLA",
        "colab": {
          "base_uri": "https://localhost:8080/"
        },
        "outputId": "2f63ecfc-442f-4e9a-e8f7-969586b104d5"
      },
      "execution_count": null,
      "outputs": [
        {
          "output_type": "stream",
          "name": "stderr",
          "text": [
            "100%|██████████| 75/75 [00:03<00:00, 20.56it/s]\n"
          ]
        },
        {
          "output_type": "stream",
          "name": "stdout",
          "text": [
            "epochs: 0 , loss: 2.3027124404907227, acc: 0.08916666666666667\n"
          ]
        },
        {
          "output_type": "stream",
          "name": "stderr",
          "text": [
            "100%|██████████| 75/75 [00:03<00:00, 21.28it/s]\n"
          ]
        },
        {
          "output_type": "stream",
          "name": "stdout",
          "text": [
            "epochs: 1 , loss: 2.3025569915771484, acc: 0.10500000000000001\n"
          ]
        },
        {
          "output_type": "stream",
          "name": "stderr",
          "text": [
            "100%|██████████| 75/75 [00:03<00:00, 21.41it/s]\n"
          ]
        },
        {
          "output_type": "stream",
          "name": "stdout",
          "text": [
            "epochs: 2 , loss: 2.299149513244629, acc: 0.24666666666666667\n"
          ]
        },
        {
          "output_type": "stream",
          "name": "stderr",
          "text": [
            "100%|██████████| 75/75 [00:03<00:00, 21.28it/s]\n"
          ]
        },
        {
          "output_type": "stream",
          "name": "stdout",
          "text": [
            "epochs: 3 , loss: 2.238128423690796, acc: 0.18916666666666668\n"
          ]
        },
        {
          "output_type": "stream",
          "name": "stderr",
          "text": [
            "100%|██████████| 75/75 [00:03<00:00, 21.42it/s]\n"
          ]
        },
        {
          "output_type": "stream",
          "name": "stdout",
          "text": [
            "epochs: 4 , loss: 2.099407911300659, acc: 0.39\n"
          ]
        },
        {
          "output_type": "stream",
          "name": "stderr",
          "text": [
            "100%|██████████| 75/75 [00:03<00:00, 21.45it/s]\n"
          ]
        },
        {
          "output_type": "stream",
          "name": "stdout",
          "text": [
            "epochs: 5 , loss: 1.9515552520751953, acc: 0.5616666666666666\n"
          ]
        },
        {
          "output_type": "stream",
          "name": "stderr",
          "text": [
            "100%|██████████| 75/75 [00:03<00:00, 21.35it/s]\n"
          ]
        },
        {
          "output_type": "stream",
          "name": "stdout",
          "text": [
            "epochs: 6 , loss: 1.850368857383728, acc: 0.6466666666666667\n"
          ]
        },
        {
          "output_type": "stream",
          "name": "stderr",
          "text": [
            "100%|██████████| 75/75 [00:03<00:00, 21.63it/s]\n"
          ]
        },
        {
          "output_type": "stream",
          "name": "stdout",
          "text": [
            "epochs: 7 , loss: 1.8109608888626099, acc: 0.67\n"
          ]
        },
        {
          "output_type": "stream",
          "name": "stderr",
          "text": [
            "100%|██████████| 75/75 [00:03<00:00, 22.06it/s]\n"
          ]
        },
        {
          "output_type": "stream",
          "name": "stdout",
          "text": [
            "epochs: 8 , loss: 1.7867223024368286, acc: 0.6950000000000001\n"
          ]
        },
        {
          "output_type": "stream",
          "name": "stderr",
          "text": [
            "100%|██████████| 75/75 [00:03<00:00, 21.33it/s]\n"
          ]
        },
        {
          "output_type": "stream",
          "name": "stdout",
          "text": [
            "epochs: 9 , loss: 1.7752232551574707, acc: 0.7025\n"
          ]
        },
        {
          "output_type": "stream",
          "name": "stderr",
          "text": [
            "100%|██████████| 75/75 [00:03<00:00, 21.23it/s]\n"
          ]
        },
        {
          "output_type": "stream",
          "name": "stdout",
          "text": [
            "epochs: 10 , loss: 1.7669274806976318, acc: 0.7116666666666667\n"
          ]
        },
        {
          "output_type": "stream",
          "name": "stderr",
          "text": [
            "100%|██████████| 75/75 [00:03<00:00, 21.59it/s]\n"
          ]
        },
        {
          "output_type": "stream",
          "name": "stdout",
          "text": [
            "epochs: 11 , loss: 1.7734137773513794, acc: 0.7025\n"
          ]
        },
        {
          "output_type": "stream",
          "name": "stderr",
          "text": [
            "100%|██████████| 75/75 [00:03<00:00, 21.48it/s]\n"
          ]
        },
        {
          "output_type": "stream",
          "name": "stdout",
          "text": [
            "epochs: 12 , loss: 1.754185438156128, acc: 0.7166666666666667\n"
          ]
        },
        {
          "output_type": "stream",
          "name": "stderr",
          "text": [
            "100%|██████████| 75/75 [00:03<00:00, 21.33it/s]\n"
          ]
        },
        {
          "output_type": "stream",
          "name": "stdout",
          "text": [
            "epochs: 13 , loss: 1.7489073276519775, acc: 0.7200000000000001\n"
          ]
        },
        {
          "output_type": "stream",
          "name": "stderr",
          "text": [
            "100%|██████████| 75/75 [00:03<00:00, 20.91it/s]\n"
          ]
        },
        {
          "output_type": "stream",
          "name": "stdout",
          "text": [
            "epochs: 14 , loss: 1.7420146465301514, acc: 0.7300000000000001\n"
          ]
        },
        {
          "output_type": "stream",
          "name": "stderr",
          "text": [
            "100%|██████████| 75/75 [00:03<00:00, 20.89it/s]\n"
          ]
        },
        {
          "output_type": "stream",
          "name": "stdout",
          "text": [
            "epochs: 15 , loss: 1.739540457725525, acc: 0.7250000000000001\n"
          ]
        },
        {
          "output_type": "stream",
          "name": "stderr",
          "text": [
            "100%|██████████| 75/75 [00:03<00:00, 21.53it/s]\n"
          ]
        },
        {
          "output_type": "stream",
          "name": "stdout",
          "text": [
            "epochs: 16 , loss: 1.7267242670059204, acc: 0.7400000000000001\n"
          ]
        },
        {
          "output_type": "stream",
          "name": "stderr",
          "text": [
            "100%|██████████| 75/75 [00:03<00:00, 21.34it/s]\n"
          ]
        },
        {
          "output_type": "stream",
          "name": "stdout",
          "text": [
            "epochs: 17 , loss: 1.7301024198532104, acc: 0.7400000000000001\n"
          ]
        },
        {
          "output_type": "stream",
          "name": "stderr",
          "text": [
            "100%|██████████| 75/75 [00:03<00:00, 20.71it/s]\n"
          ]
        },
        {
          "output_type": "stream",
          "name": "stdout",
          "text": [
            "epochs: 18 , loss: 1.7244983911514282, acc: 0.7408333333333333\n"
          ]
        },
        {
          "output_type": "stream",
          "name": "stderr",
          "text": [
            "100%|██████████| 75/75 [00:03<00:00, 20.50it/s]\n"
          ]
        },
        {
          "output_type": "stream",
          "name": "stdout",
          "text": [
            "epochs: 19 , loss: 1.7127039432525635, acc: 0.7566666666666667\n"
          ]
        },
        {
          "output_type": "stream",
          "name": "stderr",
          "text": [
            "100%|██████████| 75/75 [00:03<00:00, 20.37it/s]\n"
          ]
        },
        {
          "output_type": "stream",
          "name": "stdout",
          "text": [
            "epochs: 20 , loss: 1.6941473484039307, acc: 0.7708333333333334\n"
          ]
        },
        {
          "output_type": "stream",
          "name": "stderr",
          "text": [
            "100%|██████████| 75/75 [00:03<00:00, 20.03it/s]\n"
          ]
        },
        {
          "output_type": "stream",
          "name": "stdout",
          "text": [
            "epochs: 21 , loss: 1.6938954591751099, acc: 0.7741666666666667\n"
          ]
        },
        {
          "output_type": "stream",
          "name": "stderr",
          "text": [
            "100%|██████████| 75/75 [00:03<00:00, 20.11it/s]\n"
          ]
        },
        {
          "output_type": "stream",
          "name": "stdout",
          "text": [
            "epochs: 22 , loss: 1.6927769184112549, acc: 0.7766666666666667\n"
          ]
        },
        {
          "output_type": "stream",
          "name": "stderr",
          "text": [
            "100%|██████████| 75/75 [00:03<00:00, 21.56it/s]\n"
          ]
        },
        {
          "output_type": "stream",
          "name": "stdout",
          "text": [
            "epochs: 23 , loss: 1.677361011505127, acc: 0.7908333333333334\n"
          ]
        },
        {
          "output_type": "stream",
          "name": "stderr",
          "text": [
            "100%|██████████| 75/75 [00:03<00:00, 21.24it/s]\n"
          ]
        },
        {
          "output_type": "stream",
          "name": "stdout",
          "text": [
            "epochs: 24 , loss: 1.6704503297805786, acc: 0.7975000000000001\n"
          ]
        },
        {
          "output_type": "stream",
          "name": "stderr",
          "text": [
            "100%|██████████| 75/75 [00:03<00:00, 21.52it/s]\n"
          ]
        },
        {
          "output_type": "stream",
          "name": "stdout",
          "text": [
            "epochs: 25 , loss: 1.6753350496292114, acc: 0.7866666666666667\n"
          ]
        },
        {
          "output_type": "stream",
          "name": "stderr",
          "text": [
            "100%|██████████| 75/75 [00:03<00:00, 21.40it/s]\n"
          ]
        },
        {
          "output_type": "stream",
          "name": "stdout",
          "text": [
            "epochs: 26 , loss: 1.6611829996109009, acc: 0.8091666666666667\n"
          ]
        },
        {
          "output_type": "stream",
          "name": "stderr",
          "text": [
            "100%|██████████| 75/75 [00:03<00:00, 19.34it/s]\n"
          ]
        },
        {
          "output_type": "stream",
          "name": "stdout",
          "text": [
            "epochs: 27 , loss: 1.65818452835083, acc: 0.81\n"
          ]
        },
        {
          "output_type": "stream",
          "name": "stderr",
          "text": [
            "100%|██████████| 75/75 [00:03<00:00, 20.33it/s]\n"
          ]
        },
        {
          "output_type": "stream",
          "name": "stdout",
          "text": [
            "epochs: 28 , loss: 1.6571049690246582, acc: 0.8091666666666667\n"
          ]
        },
        {
          "output_type": "stream",
          "name": "stderr",
          "text": [
            "100%|██████████| 75/75 [00:03<00:00, 20.87it/s]\n"
          ]
        },
        {
          "output_type": "stream",
          "name": "stdout",
          "text": [
            "epochs: 29 , loss: 1.6384624242782593, acc: 0.8333333333333334\n"
          ]
        },
        {
          "output_type": "stream",
          "name": "stderr",
          "text": [
            "100%|██████████| 75/75 [00:03<00:00, 20.71it/s]\n"
          ]
        },
        {
          "output_type": "stream",
          "name": "stdout",
          "text": [
            "epochs: 30 , loss: 1.6246086359024048, acc: 0.8466666666666667\n"
          ]
        },
        {
          "output_type": "stream",
          "name": "stderr",
          "text": [
            "100%|██████████| 75/75 [00:03<00:00, 20.47it/s]\n"
          ]
        },
        {
          "output_type": "stream",
          "name": "stdout",
          "text": [
            "epochs: 31 , loss: 1.6148911714553833, acc: 0.8691666666666668\n"
          ]
        },
        {
          "output_type": "stream",
          "name": "stderr",
          "text": [
            "100%|██████████| 75/75 [00:03<00:00, 20.61it/s]\n"
          ]
        },
        {
          "output_type": "stream",
          "name": "stdout",
          "text": [
            "epochs: 32 , loss: 1.5964601039886475, acc: 0.8791666666666668\n"
          ]
        },
        {
          "output_type": "stream",
          "name": "stderr",
          "text": [
            "100%|██████████| 75/75 [00:03<00:00, 20.53it/s]\n"
          ]
        },
        {
          "output_type": "stream",
          "name": "stdout",
          "text": [
            "epochs: 33 , loss: 1.5952109098434448, acc: 0.8825000000000001\n"
          ]
        },
        {
          "output_type": "stream",
          "name": "stderr",
          "text": [
            "100%|██████████| 75/75 [00:03<00:00, 20.93it/s]\n"
          ]
        },
        {
          "output_type": "stream",
          "name": "stdout",
          "text": [
            "epochs: 34 , loss: 1.5865421295166016, acc: 0.8841666666666668\n"
          ]
        },
        {
          "output_type": "stream",
          "name": "stderr",
          "text": [
            "100%|██████████| 75/75 [00:03<00:00, 20.96it/s]\n"
          ]
        },
        {
          "output_type": "stream",
          "name": "stdout",
          "text": [
            "epochs: 35 , loss: 1.581704020500183, acc: 0.8925000000000001\n"
          ]
        },
        {
          "output_type": "stream",
          "name": "stderr",
          "text": [
            "100%|██████████| 75/75 [00:03<00:00, 20.80it/s]\n"
          ]
        },
        {
          "output_type": "stream",
          "name": "stdout",
          "text": [
            "epochs: 36 , loss: 1.5878342390060425, acc: 0.885\n"
          ]
        },
        {
          "output_type": "stream",
          "name": "stderr",
          "text": [
            "100%|██████████| 75/75 [00:03<00:00, 20.78it/s]\n"
          ]
        },
        {
          "output_type": "stream",
          "name": "stdout",
          "text": [
            "epochs: 37 , loss: 1.576040267944336, acc: 0.8958333333333334\n"
          ]
        },
        {
          "output_type": "stream",
          "name": "stderr",
          "text": [
            "100%|██████████| 75/75 [00:03<00:00, 20.54it/s]\n"
          ]
        },
        {
          "output_type": "stream",
          "name": "stdout",
          "text": [
            "epochs: 38 , loss: 1.55534827709198, acc: 0.9208333333333334\n"
          ]
        },
        {
          "output_type": "stream",
          "name": "stderr",
          "text": [
            "100%|██████████| 75/75 [00:03<00:00, 20.58it/s]\n"
          ]
        },
        {
          "output_type": "stream",
          "name": "stdout",
          "text": [
            "epochs: 39 , loss: 1.5610859394073486, acc: 0.915\n"
          ]
        }
      ]
    },
    {
      "cell_type": "code",
      "source": [
        "torch.save(model.state_dict(),\"persian.pth\")"
      ],
      "metadata": {
        "id": "1KA1wGliJM96"
      },
      "execution_count": null,
      "outputs": []
    }
  ]
}