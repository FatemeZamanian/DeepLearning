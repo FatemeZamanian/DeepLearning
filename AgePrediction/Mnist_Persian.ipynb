{
  "nbformat": 4,
  "nbformat_minor": 0,
  "metadata": {
    "colab": {
      "name": "Mnist-Persian.ipynb",
      "provenance": []
    },
    "kernelspec": {
      "name": "python3",
      "display_name": "Python 3"
    },
    "language_info": {
      "name": "python"
    },
    "accelerator": "GPU"
  },
  "cells": [
    {
      "cell_type": "code",
      "execution_count": 32,
      "metadata": {
        "id": "oO9-fQxz2Bnk"
      },
      "outputs": [],
      "source": [
        "import torch\n",
        "import torch.nn as nn\n",
        "import torch.nn.functional as F\n",
        "import torchvision\n",
        "from torchvision import transforms\n",
        "from tqdm import tqdm"
      ]
    },
    {
      "cell_type": "code",
      "source": [
        "from google.colab import drive\n",
        "drive.mount('/content/drive')"
      ],
      "metadata": {
        "colab": {
          "base_uri": "https://localhost:8080/"
        },
        "id": "TtO3cSkJItPW",
        "outputId": "9ffcc01b-ed0f-4cce-c875-08ef855623bf"
      },
      "execution_count": 33,
      "outputs": [
        {
          "output_type": "stream",
          "name": "stdout",
          "text": [
            "Drive already mounted at /content/drive; to attempt to forcibly remount, call drive.mount(\"/content/drive\", force_remount=True).\n"
          ]
        }
      ]
    },
    {
      "cell_type": "code",
      "source": [
        "def calc_acc(preds,labels):\n",
        "  _,pred_max=torch.max(preds,1)\n",
        "  acc=torch.sum(pred_max==labels.data,dtype=torch.float64)/len(preds)\n",
        "  return acc"
      ],
      "metadata": {
        "id": "gtPVF5jMUTah"
      },
      "execution_count": 34,
      "outputs": []
    },
    {
      "cell_type": "code",
      "source": [
        "\n",
        "class Model(nn.Module):\n",
        "  def __init__(self):\n",
        "    super().__init__()\n",
        "    self.conv1=nn.Conv2d(3,512,(3,3),(1,1),(0,0))\n",
        "    self.conv2=nn.Conv2d(512,128,(3,3),(1,1),(0,0))\n",
        "    self.conv3=nn.Conv2d(128,64,(3,3),(1,1),(1,1))\n",
        "    self.conv4=nn.Conv2d(64,32,(3,3),(1,1),(1,1))\n",
        "    self.conv5=nn.Conv2d(32,32,(3,3),(1,1),(1,1))\n",
        "\n",
        "    self.fc1=nn.Linear(32*2*2,256)\n",
        "    self.fc2=nn.Linear(256,512)\n",
        "    self.fc3=nn.Linear(512,10)\n",
        "  \n",
        "  def forward(self,x):\n",
        "    x=F.relu(self.conv1(x))\n",
        "    x=F.max_pool2d(x,kernel_size=(2,2))\n",
        "\n",
        "    x=F.relu(self.conv2(x))\n",
        "    x=F.max_pool2d(x,kernel_size=(2,2))\n",
        "\n",
        "    x=F.relu(self.conv3(x))\n",
        "    x=F.max_pool2d(x,kernel_size=(2,2))\n",
        "\n",
        "    x=F.relu(self.conv4(x))\n",
        "    x=F.max_pool2d(x,kernel_size=(2,2))\n",
        "\n",
        "    x=F.relu(self.conv5(x))\n",
        "\n",
        "    x=torch.flatten(x,start_dim=1)\n",
        "\n",
        "    x=F.relu(self.fc1(x))\n",
        "    x=F.relu(self.fc2(x))\n",
        "    x=self.fc3(x)\n",
        "    x=torch.softmax(x,dim=1)\n",
        "    return x"
      ],
      "metadata": {
        "id": "5LdbHV1b2UNu"
      },
      "execution_count": 35,
      "outputs": []
    },
    {
      "cell_type": "code",
      "source": [
        ""
      ],
      "metadata": {
        "id": "oRZzBMAbJLP_"
      },
      "execution_count": 35,
      "outputs": []
    },
    {
      "cell_type": "code",
      "source": [
        "device=torch.device(\"cuda\" if torch.cuda.is_available() else \"cpu\")\n",
        "model=Model().to(device)"
      ],
      "metadata": {
        "id": "9P6Dzvl-BWE0"
      },
      "execution_count": 36,
      "outputs": []
    },
    {
      "cell_type": "code",
      "source": [
        "#hyper parameters\n",
        "batch_size=16\n",
        "epochs=40\n",
        "lr=0.0001\n"
      ],
      "metadata": {
        "id": "4Tiuz3BBE1F5"
      },
      "execution_count": 37,
      "outputs": []
    },
    {
      "cell_type": "code",
      "source": [
        "transform=transforms.Compose([\n",
        "                                   transforms.RandomRotation(10),\n",
        "                                   transforms.Resize((50,50)),\n",
        "                                   transforms.ToTensor(),\n",
        "                                   transforms.Normalize((0.485,0.456,0.406),(0.229,0.224,0.225))\n",
        "\n",
        "])\n",
        "\n",
        "dataset=torchvision.datasets.ImageFolder(root=\"/content/drive/MyDrive/persian-mnist\",transform=transform)\n",
        "train_data_loader=torch.utils.data.DataLoader(dataset,batch_size=batch_size,shuffle=True)"
      ],
      "metadata": {
        "id": "6ny_-qc-FDp-"
      },
      "execution_count": 38,
      "outputs": []
    },
    {
      "cell_type": "code",
      "source": [
        "#compile \n",
        "optimizer=torch.optim.Adam(model.parameters(),lr=lr)\n",
        "loss_function=nn.CrossEntropyLoss()"
      ],
      "metadata": {
        "id": "GFk5ogGVKIXB"
      },
      "execution_count": 39,
      "outputs": []
    },
    {
      "cell_type": "code",
      "source": [
        "model.train()\n",
        "for epoch in range(epochs):\n",
        "  train_loss=0.0\n",
        "  train_acc=0.0\n",
        "  for images,labels in tqdm(train_data_loader):\n",
        "    images,labels=images.to(device),labels.to(device)\n",
        "    optimizer.zero_grad()\n",
        "\n",
        "    preds=model(images)\n",
        "    loss=loss_function(preds,labels)\n",
        "    loss.backward()\n",
        "    optimizer.step()\n",
        "    train_loss+=loss\n",
        "    train_acc+=calc_acc(preds,labels)\n",
        "  \n",
        "  total_loss=train_loss/len(train_data_loader)\n",
        "  total_acc=train_acc/len(train_data_loader)\n",
        "  print(f\"epochs: {epoch} , loss: {total_loss}, acc: {total_acc}\")"
      ],
      "metadata": {
        "id": "utUbu3okQeLA"
      },
      "execution_count": null,
      "outputs": []
    },
    {
      "cell_type": "code",
      "source": [
        "torch.save(model.state_dict(),\"persian.pth\")"
      ],
      "metadata": {
        "id": "1KA1wGliJM96"
      },
      "execution_count": 41,
      "outputs": []
    }
  ]
}