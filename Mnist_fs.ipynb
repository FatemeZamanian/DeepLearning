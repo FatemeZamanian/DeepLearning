{
  "nbformat": 4,
  "nbformat_minor": 0,
  "metadata": {
    "colab": {
      "name": "Mnist-fs.ipynb",
      "provenance": [],
      "collapsed_sections": [],
      "authorship_tag": "ABX9TyM00e3NqF1aVrt7FhyZGFc2",
      "include_colab_link": true
    },
    "kernelspec": {
      "name": "python3",
      "display_name": "Python 3"
    },
    "language_info": {
      "name": "python"
    },
    "accelerator": "GPU"
  },
  "cells": [
    {
      "cell_type": "markdown",
      "metadata": {
        "id": "view-in-github",
        "colab_type": "text"
      },
      "source": [
        "<a href=\"https://colab.research.google.com/github/FatemeZamanian/DeepLearning/blob/main/Mnist_fs.ipynb\" target=\"_parent\"><img src=\"https://colab.research.google.com/assets/colab-badge.svg\" alt=\"Open In Colab\"/></a>"
      ]
    },
    {
      "cell_type": "markdown",
      "metadata": {
        "id": "wZyOJhVfV6Al"
      },
      "source": [
        "## Prepare dataset\n"
      ]
    },
    {
      "cell_type": "code",
      "metadata": {
        "id": "tI1jm1amAThV"
      },
      "source": [
        "import tensorflow as tf\n",
        "from tensorflow.keras.layers import Dense,Flatten,Conv2D"
      ],
      "execution_count": 1,
      "outputs": []
    },
    {
      "cell_type": "code",
      "metadata": {
        "id": "kIpD55WkDBF8",
        "colab": {
          "base_uri": "https://localhost:8080/"
        },
        "outputId": "1600d0e2-1f4a-435b-969a-c539f1c8ee8a"
      },
      "source": [
        "mnist=tf.keras.datasets.mnist\n",
        "(x_train,y_train),(x_test,y_test)=mnist.load_data()\n",
        "x_train=x_train/255.0\n",
        "x_test=x_test/255.0"
      ],
      "execution_count": 2,
      "outputs": [
        {
          "output_type": "stream",
          "name": "stdout",
          "text": [
            "Downloading data from https://storage.googleapis.com/tensorflow/tf-keras-datasets/mnist.npz\n",
            "11493376/11490434 [==============================] - 0s 0us/step\n",
            "11501568/11490434 [==============================] - 0s 0us/step\n"
          ]
        }
      ]
    },
    {
      "cell_type": "code",
      "metadata": {
        "colab": {
          "base_uri": "https://localhost:8080/"
        },
        "id": "rV7QpgqNEcQ4",
        "outputId": "14865c7a-6265-4037-f078-24191039306d"
      },
      "source": [
        "x_train.shape"
      ],
      "execution_count": 3,
      "outputs": [
        {
          "output_type": "execute_result",
          "data": {
            "text/plain": [
              "(60000, 28, 28)"
            ]
          },
          "metadata": {},
          "execution_count": 3
        }
      ]
    },
    {
      "cell_type": "code",
      "metadata": {
        "colab": {
          "base_uri": "https://localhost:8080/"
        },
        "id": "hfKpnevqGG64",
        "outputId": "7e7a304c-2c0b-4474-a95f-f17ec2402176"
      },
      "source": [
        "x_train=x_train[...,tf.newaxis].astype(\"float32\")\n",
        "x_test=x_test[...,tf.newaxis].astype(\"float32\")\n",
        "x_train.shape"
      ],
      "execution_count": 4,
      "outputs": [
        {
          "output_type": "execute_result",
          "data": {
            "text/plain": [
              "(60000, 28, 28, 1)"
            ]
          },
          "metadata": {},
          "execution_count": 4
        }
      ]
    },
    {
      "cell_type": "code",
      "metadata": {
        "id": "pKPmEdOkG0TZ"
      },
      "source": [
        "train_data=tf.data.Dataset.from_tensor_slices((x_train,y_train)).shuffle(1000).batch(32)\n",
        "test_data=tf.data.Dataset.from_tensor_slices((x_test,y_test)).batch(32)"
      ],
      "execution_count": 5,
      "outputs": []
    },
    {
      "cell_type": "markdown",
      "metadata": {
        "id": "s_oBcyzjZCZ4"
      },
      "source": [
        "## Define Model\n"
      ]
    },
    {
      "cell_type": "code",
      "metadata": {
        "id": "LxX5Z9o1ZBPb"
      },
      "source": [
        "class MyModel(tf.keras.Model):\n",
        "  def __init__(self,number_of_classes):\n",
        "    super().__init__()\n",
        "    self.conv1=Conv2D(32,(3,3),activation='relu')\n",
        "    self.flatten=Flatten()\n",
        "    self.fc1=Dense(128,activation='relu')\n",
        "    self.fc2=Dense(number_of_classes)\n",
        "  \n",
        "  def call(self,x):\n",
        "    y=self.conv1(x)\n",
        "    w=self.flatten(y)\n",
        "    z=self.fc1(w)\n",
        "    out=self.fc2(z)\n",
        "    return out\n",
        "\n",
        "model=MyModel(10)\n",
        "\n"
      ],
      "execution_count": 6,
      "outputs": []
    },
    {
      "cell_type": "code",
      "metadata": {
        "id": "U4RM8C_mVlvu"
      },
      "source": [
        "loss_function=tf.keras.losses.SparseCategoricalCrossentropy(from_logits=True)\n",
        "optimizer=tf.keras.optimizers.Adam()"
      ],
      "execution_count": 7,
      "outputs": []
    },
    {
      "cell_type": "code",
      "metadata": {
        "id": "MI67_0NJV5HE"
      },
      "source": [
        "train_loss=tf.keras.metrics.Mean(name='train_loss')\n",
        "train_acc=tf.keras.metrics.SparseCategoricalAccuracy(name='train_acc')\n",
        "\n",
        "test_loss=tf.keras.metrics.Mean(name='test_loss')\n",
        "test_acc=tf.keras.metrics.SparseCategoricalAccuracy(name='test_acc')"
      ],
      "execution_count": 8,
      "outputs": []
    },
    {
      "cell_type": "code",
      "metadata": {
        "id": "SREpycLQ7Hz1"
      },
      "source": [
        "def train_step(images,y):\n",
        "  with tf.GradientTape() as tape:\n",
        "    y_pred=model(images,training=True)\n",
        "    loss=loss_function(y,y_pred)\n",
        "\n",
        "  gradients=tape.gradient(loss,model.trainable_variables)\n",
        "  optimizer.apply_gradients(zip(gradients,model.trainable_variables))\n",
        "  train_loss(loss)\n",
        "  train_acc(y,y_pred)"
      ],
      "execution_count": 15,
      "outputs": []
    },
    {
      "cell_type": "code",
      "metadata": {
        "id": "NeOPqbFRY-vI"
      },
      "source": [
        "def test_step(images,y):\n",
        "  y_pred=model(images,training=False)\n",
        "  loss=loss_function(y,y_pred)\n",
        "  test_loss(loss)\n",
        "  test_acc(y,y_pred)"
      ],
      "execution_count": 14,
      "outputs": []
    },
    {
      "cell_type": "code",
      "metadata": {
        "id": "yDUYf5A27H-1"
      },
      "source": [
        "from tqdm import tqdm\n",
        "def train():\n",
        "  epochs=5\n",
        "  for epoch in range(epochs):\n",
        "    train_loss.reset_states()\n",
        "    train_acc.reset_states()\n",
        "    test_loss.reset_states()\n",
        "    test_acc.reset_states()\n",
        "    for images,labels in tqdm(train_data):\n",
        "      train_step(images,labels)\n",
        "    for images,labels in tqdm(test_data):\n",
        "      test_step(images,labels)\n",
        "    print('epoch: ',epoch+1)\n",
        "    print('loss: ',train_loss.result())\n",
        "    print('accuracy: ',train_acc.result())\n",
        "    print('val loss: ',test_loss.result())\n",
        "    print('val accuracy: ',test_acc.result())\n"
      ],
      "execution_count": 19,
      "outputs": []
    },
    {
      "cell_type": "code",
      "metadata": {
        "colab": {
          "base_uri": "https://localhost:8080/"
        },
        "id": "5MJPDUr7eLGw",
        "outputId": "b97b491b-ca47-4b43-e9ef-461d22fac670"
      },
      "source": [
        "train()"
      ],
      "execution_count": 20,
      "outputs": [
        {
          "output_type": "stream",
          "name": "stderr",
          "text": [
            "100%|██████████| 1875/1875 [00:41<00:00, 45.61it/s]\n",
            "100%|██████████| 313/313 [00:02<00:00, 121.98it/s]\n"
          ]
        },
        {
          "output_type": "stream",
          "name": "stdout",
          "text": [
            "epoch:  1\n",
            "loss:  tf.Tensor(0.0036108305, shape=(), dtype=float32)\n",
            "accuracy:  tf.Tensor(0.99901664, shape=(), dtype=float32)\n",
            "val loss:  tf.Tensor(0.097044356, shape=(), dtype=float32)\n",
            "val accuracy:  tf.Tensor(0.9834, shape=(), dtype=float32)\n"
          ]
        },
        {
          "output_type": "stream",
          "name": "stderr",
          "text": [
            "100%|██████████| 1875/1875 [00:28<00:00, 65.08it/s]\n",
            "100%|██████████| 313/313 [00:02<00:00, 122.27it/s]\n"
          ]
        },
        {
          "output_type": "stream",
          "name": "stdout",
          "text": [
            "epoch:  2\n",
            "loss:  tf.Tensor(0.0011848571, shape=(), dtype=float32)\n",
            "accuracy:  tf.Tensor(0.9996333, shape=(), dtype=float32)\n",
            "val loss:  tf.Tensor(0.10097188, shape=(), dtype=float32)\n",
            "val accuracy:  tf.Tensor(0.9846, shape=(), dtype=float32)\n"
          ]
        },
        {
          "output_type": "stream",
          "name": "stderr",
          "text": [
            "100%|██████████| 1875/1875 [00:28<00:00, 64.80it/s]\n",
            "100%|██████████| 313/313 [00:02<00:00, 123.52it/s]\n"
          ]
        },
        {
          "output_type": "stream",
          "name": "stdout",
          "text": [
            "epoch:  3\n",
            "loss:  tf.Tensor(0.0028531482, shape=(), dtype=float32)\n",
            "accuracy:  tf.Tensor(0.99913335, shape=(), dtype=float32)\n",
            "val loss:  tf.Tensor(0.09623917, shape=(), dtype=float32)\n",
            "val accuracy:  tf.Tensor(0.9851, shape=(), dtype=float32)\n"
          ]
        },
        {
          "output_type": "stream",
          "name": "stderr",
          "text": [
            "100%|██████████| 1875/1875 [00:28<00:00, 65.11it/s]\n",
            "100%|██████████| 313/313 [00:02<00:00, 122.10it/s]\n"
          ]
        },
        {
          "output_type": "stream",
          "name": "stdout",
          "text": [
            "epoch:  4\n",
            "loss:  tf.Tensor(0.0016837051, shape=(), dtype=float32)\n",
            "accuracy:  tf.Tensor(0.99936664, shape=(), dtype=float32)\n",
            "val loss:  tf.Tensor(0.11682846, shape=(), dtype=float32)\n",
            "val accuracy:  tf.Tensor(0.9844, shape=(), dtype=float32)\n"
          ]
        },
        {
          "output_type": "stream",
          "name": "stderr",
          "text": [
            "100%|██████████| 1875/1875 [00:41<00:00, 45.62it/s]\n",
            "100%|██████████| 313/313 [00:02<00:00, 121.54it/s]\n"
          ]
        },
        {
          "output_type": "stream",
          "name": "stdout",
          "text": [
            "epoch:  5\n",
            "loss:  tf.Tensor(0.0013638069, shape=(), dtype=float32)\n",
            "accuracy:  tf.Tensor(0.99951667, shape=(), dtype=float32)\n",
            "val loss:  tf.Tensor(0.122738786, shape=(), dtype=float32)\n",
            "val accuracy:  tf.Tensor(0.9852, shape=(), dtype=float32)\n"
          ]
        }
      ]
    }
  ]
}