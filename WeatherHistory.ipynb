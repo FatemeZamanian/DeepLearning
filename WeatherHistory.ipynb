{
  "nbformat": 4,
  "nbformat_minor": 0,
  "metadata": {
    "colab": {
      "name": "WeatherHistory.ipynb",
      "provenance": [],
      "collapsed_sections": [],
      "mount_file_id": "1V2QgLoSUunNwFnLJAILdTXNQvN7FsMTJ",
      "authorship_tag": "ABX9TyNBVbr68hkHc8X2PHQ9MQyc",
      "include_colab_link": true
    },
    "kernelspec": {
      "name": "python3",
      "display_name": "Python 3"
    },
    "language_info": {
      "name": "python"
    }
  },
  "cells": [
    {
      "cell_type": "markdown",
      "metadata": {
        "id": "view-in-github",
        "colab_type": "text"
      },
      "source": [
        "<a href=\"https://colab.research.google.com/github/FatemeZamanian/DeepLearning/blob/main/WeatherHistory.ipynb\" target=\"_parent\"><img src=\"https://colab.research.google.com/assets/colab-badge.svg\" alt=\"Open In Colab\"/></a>"
      ]
    },
    {
      "cell_type": "code",
      "metadata": {
        "id": "SaDLsEfbcD1r"
      },
      "source": [
        "import pandas as pd\n",
        "import numpy as np\n",
        "import matplotlib.pyplot as plt \n",
        "from sklearn.model_selection import train_test_split\n",
        "import tensorflow as tf\n",
        "from tensorflow.keras import layers"
      ],
      "execution_count": 1,
      "outputs": []
    },
    {
      "cell_type": "code",
      "metadata": {
        "id": "f-YJzeYMcdQX"
      },
      "source": [
        "data=pd.read_csv('/content/drive/MyDrive/weatherHistory.csv')\n",
        "data_date=data['Formatted Date']\n",
        "data_temperature=data['Temperature (C)']"
      ],
      "execution_count": 2,
      "outputs": []
    },
    {
      "cell_type": "code",
      "metadata": {
        "id": "Y5dJmc6TdJvf"
      },
      "source": [
        "\n",
        "class GenerateData:\n",
        "    def __init__(self,date,temperature):\n",
        "        self.date=date\n",
        "        self.temperature=temperature\n",
        "        \n",
        "    def dayOfYear(self):\n",
        "        new_date=[]\n",
        "        for d in self.date:\n",
        "            period = pd.Period(d, freq='H')\n",
        "            new_date.append(period.dayofyear)\n",
        "        new_date=np.array(new_date)\n",
        "        \n",
        "        day_of_year=[]\n",
        "        for k in range(0,len(new_date),24):\n",
        "            day_of_year.append(new_date[k])\n",
        "        day_of_year=np.array(day_of_year)\n",
        "        day_of_year=day_of_year.reshape(1538,1)\n",
        "        return new_date,day_of_year\n",
        "    \n",
        "    def averageOfTemperature(self):\n",
        "        new_date,day_of_year=self.dayOfYear()\n",
        "        avg=[]\n",
        "        for i in range(0,len(new_date),24):\n",
        "            avg.append(np.mean(self.temperature[i:i+24]))\n",
        "        avg=np.array(avg)\n",
        "        avg=avg.reshape(1538,1)\n",
        "        return avg"
      ],
      "execution_count": 3,
      "outputs": []
    },
    {
      "cell_type": "code",
      "metadata": {
        "id": "JG5eeFeNdUdx"
      },
      "source": [
        "generateData=GenerateData(data_date,data_temperature)\n",
        "_,day_of_year=generateData.dayOfYear()\n",
        "avg=generateData.averageOfTemperature()"
      ],
      "execution_count": 4,
      "outputs": []
    },
    {
      "cell_type": "code",
      "metadata": {
        "id": "9U0_eHR1dkzM"
      },
      "source": [
        "X_train, X_test, Y_train, Y_test = train_test_split(day_of_year, avg, test_size=0.2)\n",
        "X_train=np.array(X_train) \n",
        "X_test=np.array(X_test) \n",
        "Y_train=np.array(Y_train) \n",
        "Y_test=np.array(Y_test)"
      ],
      "execution_count": 8,
      "outputs": []
    },
    {
      "cell_type": "code",
      "metadata": {
        "id": "LdiY1W7tjxs8"
      },
      "source": [
        "model = tf.keras.models.Sequential([\n",
        "    tf.keras.layers.Dense(8,input_dim=1 ,activation='relu'),\n",
        "    tf.keras.layers.Dense(64, activation='relu'),\n",
        "    tf.keras.layers.Dense(2048, activation='relu'),\n",
        "    # tf.keras.layers.Dense(32, activation='relu'),\n",
        "    # tf.keras.layers.Dense(256, activation='relu'),\n",
        "     tf.keras.layers.Dense(1024, activation='relu'),\n",
        "    tf.keras.layers.Dense(256, activation='relu'),\n",
        "    tf.keras.layers.Dense(8, activation='relu'),\n",
        "    #  tf.keras.layers.Dense(64, activation='relu'),\n",
        "    #  tf.keras.layers.Dense(32, activation='relu'),\n",
        "    tf.keras.layers.Dense(1, activation='relu')\n",
        "])"
      ],
      "execution_count": 9,
      "outputs": []
    },
    {
      "cell_type": "code",
      "metadata": {
        "colab": {
          "base_uri": "https://localhost:8080/"
        },
        "id": "rhzpzP9DtWDS",
        "outputId": "8b984041-0fd3-4f9d-a2fb-914be9b7ca24"
      },
      "source": [
        "model.compile(loss=tf.keras.losses.MeanAbsoluteError(),\n",
        "              optimizer=tf.keras.optimizers.Adam(learning_rate=0.0001))\n",
        "model.fit(X_train, Y_train, epochs=50)"
      ],
      "execution_count": 12,
      "outputs": [
        {
          "output_type": "stream",
          "name": "stdout",
          "text": [
            "Epoch 1/50\n",
            "39/39 [==============================] - 2s 27ms/step - loss: 3.0808\n",
            "Epoch 2/50\n",
            "39/39 [==============================] - 1s 27ms/step - loss: 3.0214\n",
            "Epoch 3/50\n",
            "39/39 [==============================] - 1s 28ms/step - loss: 3.0394\n",
            "Epoch 4/50\n",
            "39/39 [==============================] - 1s 27ms/step - loss: 3.0110\n",
            "Epoch 5/50\n",
            "39/39 [==============================] - 1s 28ms/step - loss: 3.0033\n",
            "Epoch 6/50\n",
            "39/39 [==============================] - 1s 28ms/step - loss: 3.0095\n",
            "Epoch 7/50\n",
            "39/39 [==============================] - 1s 27ms/step - loss: 3.0037\n",
            "Epoch 8/50\n",
            "39/39 [==============================] - 1s 27ms/step - loss: 3.0328\n",
            "Epoch 9/50\n",
            "39/39 [==============================] - 1s 28ms/step - loss: 3.0190\n",
            "Epoch 10/50\n",
            "39/39 [==============================] - 1s 28ms/step - loss: 3.0664\n",
            "Epoch 11/50\n",
            "39/39 [==============================] - 1s 28ms/step - loss: 2.9861\n",
            "Epoch 12/50\n",
            "39/39 [==============================] - 1s 28ms/step - loss: 3.0479\n",
            "Epoch 13/50\n",
            "39/39 [==============================] - 1s 28ms/step - loss: 3.1616\n",
            "Epoch 14/50\n",
            "39/39 [==============================] - 1s 28ms/step - loss: 2.9980\n",
            "Epoch 15/50\n",
            "39/39 [==============================] - 1s 27ms/step - loss: 3.0224\n",
            "Epoch 16/50\n",
            "39/39 [==============================] - 1s 27ms/step - loss: 3.0211\n",
            "Epoch 17/50\n",
            "39/39 [==============================] - 1s 28ms/step - loss: 2.9902\n",
            "Epoch 18/50\n",
            "39/39 [==============================] - 1s 28ms/step - loss: 3.0532\n",
            "Epoch 19/50\n",
            "39/39 [==============================] - 1s 27ms/step - loss: 2.9833\n",
            "Epoch 20/50\n",
            "39/39 [==============================] - 1s 28ms/step - loss: 3.0460\n",
            "Epoch 21/50\n",
            "39/39 [==============================] - 1s 28ms/step - loss: 2.9815\n",
            "Epoch 22/50\n",
            "39/39 [==============================] - 1s 28ms/step - loss: 3.0183\n",
            "Epoch 23/50\n",
            "39/39 [==============================] - 1s 28ms/step - loss: 3.0158\n",
            "Epoch 24/50\n",
            "39/39 [==============================] - 1s 28ms/step - loss: 3.0227\n",
            "Epoch 25/50\n",
            "39/39 [==============================] - 1s 27ms/step - loss: 3.0649\n",
            "Epoch 26/50\n",
            "39/39 [==============================] - 1s 27ms/step - loss: 2.9862\n",
            "Epoch 27/50\n",
            "39/39 [==============================] - 1s 27ms/step - loss: 3.0210\n",
            "Epoch 28/50\n",
            "39/39 [==============================] - 1s 28ms/step - loss: 3.0073\n",
            "Epoch 29/50\n",
            "39/39 [==============================] - 1s 28ms/step - loss: 2.9934\n",
            "Epoch 30/50\n",
            "39/39 [==============================] - 1s 29ms/step - loss: 2.9926\n",
            "Epoch 31/50\n",
            "39/39 [==============================] - 1s 27ms/step - loss: 2.9810\n",
            "Epoch 32/50\n",
            "39/39 [==============================] - 1s 27ms/step - loss: 3.0703\n",
            "Epoch 33/50\n",
            "39/39 [==============================] - 1s 27ms/step - loss: 2.9656\n",
            "Epoch 34/50\n",
            "39/39 [==============================] - 1s 27ms/step - loss: 2.9955\n",
            "Epoch 35/50\n",
            "39/39 [==============================] - 1s 27ms/step - loss: 3.0071\n",
            "Epoch 36/50\n",
            "39/39 [==============================] - 1s 27ms/step - loss: 3.0227\n",
            "Epoch 37/50\n",
            "39/39 [==============================] - 1s 27ms/step - loss: 3.0232\n",
            "Epoch 38/50\n",
            "39/39 [==============================] - 1s 28ms/step - loss: 3.0290\n",
            "Epoch 39/50\n",
            "39/39 [==============================] - 1s 28ms/step - loss: 2.9884\n",
            "Epoch 40/50\n",
            "39/39 [==============================] - 1s 28ms/step - loss: 3.0132\n",
            "Epoch 41/50\n",
            "39/39 [==============================] - 1s 28ms/step - loss: 3.0124\n",
            "Epoch 42/50\n",
            "39/39 [==============================] - 1s 27ms/step - loss: 2.9970\n",
            "Epoch 43/50\n",
            "39/39 [==============================] - 1s 27ms/step - loss: 2.9644\n",
            "Epoch 44/50\n",
            "39/39 [==============================] - 1s 28ms/step - loss: 2.9806\n",
            "Epoch 45/50\n",
            "39/39 [==============================] - 1s 28ms/step - loss: 3.0256\n",
            "Epoch 46/50\n",
            "39/39 [==============================] - 1s 29ms/step - loss: 3.0487\n",
            "Epoch 47/50\n",
            "39/39 [==============================] - 1s 28ms/step - loss: 2.9828\n",
            "Epoch 48/50\n",
            "39/39 [==============================] - 1s 28ms/step - loss: 2.9911\n",
            "Epoch 49/50\n",
            "39/39 [==============================] - 1s 28ms/step - loss: 2.9748\n",
            "Epoch 50/50\n",
            "39/39 [==============================] - 1s 27ms/step - loss: 2.9990\n"
          ]
        },
        {
          "output_type": "execute_result",
          "data": {
            "text/plain": [
              "<keras.callbacks.History at 0x7ff923944110>"
            ]
          },
          "metadata": {},
          "execution_count": 12
        }
      ]
    },
    {
      "cell_type": "code",
      "metadata": {
        "colab": {
          "base_uri": "https://localhost:8080/"
        },
        "id": "CtJBgJ1Xp9vo",
        "outputId": "f2ef78af-4fc9-4c06-cf7e-2afbc5e53ef1"
      },
      "source": [
        "model.evaluate(X_test,Y_test)"
      ],
      "execution_count": 13,
      "outputs": [
        {
          "output_type": "stream",
          "name": "stdout",
          "text": [
            "10/10 [==============================] - 0s 7ms/step - loss: 2.7264\n"
          ]
        },
        {
          "output_type": "execute_result",
          "data": {
            "text/plain": [
              "2.7263545989990234"
            ]
          },
          "metadata": {},
          "execution_count": 13
        }
      ]
    }
  ]
}