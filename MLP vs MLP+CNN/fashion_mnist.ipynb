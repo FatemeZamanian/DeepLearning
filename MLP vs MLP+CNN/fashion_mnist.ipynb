{
  "nbformat": 4,
  "nbformat_minor": 0,
  "metadata": {
    "colab": {
      "name": "fashion mnist.ipynb",
      "provenance": [],
      "collapsed_sections": [],
      "authorship_tag": "ABX9TyPP8QdizUsxP0R4gS0FS+q2",
      "include_colab_link": true
    },
    "kernelspec": {
      "name": "python3",
      "display_name": "Python 3"
    },
    "language_info": {
      "name": "python"
    },
    "accelerator": "GPU"
  },
  "cells": [
    {
      "cell_type": "markdown",
      "metadata": {
        "id": "view-in-github",
        "colab_type": "text"
      },
      "source": [
        "<a href=\"https://colab.research.google.com/github/FatemeZamanian/DeepLearning/blob/main/MLP%20vs%20MLP%2BCNN/fashion_mnist.ipynb\" target=\"_parent\"><img src=\"https://colab.research.google.com/assets/colab-badge.svg\" alt=\"Open In Colab\"/></a>"
      ]
    },
    {
      "cell_type": "code",
      "metadata": {
        "id": "SLjlD8cHdah0"
      },
      "source": [
        "import tensorflow as tf\n",
        "import matplotlib.pyplot as plt\n",
        "from tensorflow.keras.layers import Dense"
      ],
      "execution_count": 1,
      "outputs": []
    },
    {
      "cell_type": "markdown",
      "metadata": {
        "id": "Q-dOls5c4Fi_"
      },
      "source": [
        "**MLP**"
      ]
    },
    {
      "cell_type": "code",
      "metadata": {
        "colab": {
          "base_uri": "https://localhost:8080/"
        },
        "id": "mLh8PQS_dpKK",
        "outputId": "875b6b72-0098-48e5-f915-8f04a496ed7e"
      },
      "source": [
        "dataset=tf.keras.datasets.fashion_mnist\n",
        "(X_train,Y_train),(X_test,Y_test)=dataset.load_data()"
      ],
      "execution_count": 2,
      "outputs": [
        {
          "output_type": "stream",
          "name": "stdout",
          "text": [
            "Downloading data from https://storage.googleapis.com/tensorflow/tf-keras-datasets/train-labels-idx1-ubyte.gz\n",
            "32768/29515 [=================================] - 0s 0us/step\n",
            "40960/29515 [=========================================] - 0s 0us/step\n",
            "Downloading data from https://storage.googleapis.com/tensorflow/tf-keras-datasets/train-images-idx3-ubyte.gz\n",
            "26427392/26421880 [==============================] - 0s 0us/step\n",
            "26435584/26421880 [==============================] - 0s 0us/step\n",
            "Downloading data from https://storage.googleapis.com/tensorflow/tf-keras-datasets/t10k-labels-idx1-ubyte.gz\n",
            "16384/5148 [===============================================================================================] - 0s 0us/step\n",
            "Downloading data from https://storage.googleapis.com/tensorflow/tf-keras-datasets/t10k-images-idx3-ubyte.gz\n",
            "4423680/4422102 [==============================] - 0s 0us/step\n",
            "4431872/4422102 [==============================] - 0s 0us/step\n"
          ]
        }
      ]
    },
    {
      "cell_type": "code",
      "metadata": {
        "id": "BkhyxuzddsoP"
      },
      "source": [
        "X_train=X_train.reshape(60000,784)"
      ],
      "execution_count": 3,
      "outputs": []
    },
    {
      "cell_type": "code",
      "metadata": {
        "id": "z0Vs2SCvfpJA"
      },
      "source": [
        "model=tf.keras.models.Sequential([\n",
        "             Dense(64,input_dim=784,activation='relu'),\n",
        "             Dense(32,activation='relu'),\n",
        "             Dense(16,activation='relu'),\n",
        "             Dense(10,activation='softmax')                     \n",
        "])"
      ],
      "execution_count": 4,
      "outputs": []
    },
    {
      "cell_type": "code",
      "metadata": {
        "id": "yLTt_P_0fvQ-"
      },
      "source": [
        "model.compile(optimizer=tf.keras.optimizers.Adam(),loss=tf.keras.losses.sparse_categorical_crossentropy,metrics=['accuracy'])"
      ],
      "execution_count": 5,
      "outputs": []
    },
    {
      "cell_type": "code",
      "metadata": {
        "colab": {
          "base_uri": "https://localhost:8080/"
        },
        "id": "MBX80Saof0XM",
        "outputId": "1a194afc-0911-4053-eb5a-62f9391e83b6"
      },
      "source": [
        "model.fit(X_train,Y_train,epochs=20)"
      ],
      "execution_count": 6,
      "outputs": [
        {
          "output_type": "stream",
          "name": "stdout",
          "text": [
            "Epoch 1/20\n",
            "1875/1875 [==============================] - 8s 2ms/step - loss: 1.4744 - accuracy: 0.5269\n",
            "Epoch 2/20\n",
            "1875/1875 [==============================] - 5s 2ms/step - loss: 0.8738 - accuracy: 0.6547\n",
            "Epoch 3/20\n",
            "1875/1875 [==============================] - 5s 2ms/step - loss: 0.7400 - accuracy: 0.7026\n",
            "Epoch 4/20\n",
            "1875/1875 [==============================] - 5s 2ms/step - loss: 0.6571 - accuracy: 0.7240\n",
            "Epoch 5/20\n",
            "1875/1875 [==============================] - 4s 2ms/step - loss: 0.6107 - accuracy: 0.7444\n",
            "Epoch 6/20\n",
            "1875/1875 [==============================] - 5s 2ms/step - loss: 0.5717 - accuracy: 0.7651\n",
            "Epoch 7/20\n",
            "1875/1875 [==============================] - 5s 2ms/step - loss: 0.5362 - accuracy: 0.7979\n",
            "Epoch 8/20\n",
            "1875/1875 [==============================] - 5s 2ms/step - loss: 0.4747 - accuracy: 0.8362\n",
            "Epoch 9/20\n",
            "1875/1875 [==============================] - 4s 2ms/step - loss: 0.4378 - accuracy: 0.8484\n",
            "Epoch 10/20\n",
            "1875/1875 [==============================] - 5s 2ms/step - loss: 0.4188 - accuracy: 0.8545\n",
            "Epoch 11/20\n",
            "1875/1875 [==============================] - 5s 2ms/step - loss: 0.4044 - accuracy: 0.8590\n",
            "Epoch 12/20\n",
            "1875/1875 [==============================] - 5s 2ms/step - loss: 0.3955 - accuracy: 0.8624\n",
            "Epoch 13/20\n",
            "1875/1875 [==============================] - 5s 2ms/step - loss: 0.3850 - accuracy: 0.8653\n",
            "Epoch 14/20\n",
            "1875/1875 [==============================] - 4s 2ms/step - loss: 0.3836 - accuracy: 0.8653\n",
            "Epoch 15/20\n",
            "1875/1875 [==============================] - 5s 2ms/step - loss: 0.3692 - accuracy: 0.8709\n",
            "Epoch 16/20\n",
            "1875/1875 [==============================] - 5s 2ms/step - loss: 0.3670 - accuracy: 0.8702\n",
            "Epoch 17/20\n",
            "1875/1875 [==============================] - 5s 2ms/step - loss: 0.3670 - accuracy: 0.8713\n",
            "Epoch 18/20\n",
            "1875/1875 [==============================] - 4s 2ms/step - loss: 0.3566 - accuracy: 0.8745\n",
            "Epoch 19/20\n",
            "1875/1875 [==============================] - 4s 2ms/step - loss: 0.3508 - accuracy: 0.8763\n",
            "Epoch 20/20\n",
            "1875/1875 [==============================] - 5s 2ms/step - loss: 0.3644 - accuracy: 0.8727\n"
          ]
        },
        {
          "output_type": "execute_result",
          "data": {
            "text/plain": [
              "<keras.callbacks.History at 0x7f9c205be250>"
            ]
          },
          "metadata": {},
          "execution_count": 6
        }
      ]
    },
    {
      "cell_type": "code",
      "metadata": {
        "colab": {
          "base_uri": "https://localhost:8080/"
        },
        "id": "YgNoLEQwgk1d",
        "outputId": "2891be85-35a4-4693-affb-88f92c377504"
      },
      "source": [
        "X_test=X_test.reshape(10000,784)\n",
        "model.evaluate(X_test,Y_test)"
      ],
      "execution_count": 7,
      "outputs": [
        {
          "output_type": "stream",
          "name": "stdout",
          "text": [
            "313/313 [==============================] - 1s 2ms/step - loss: 0.4702 - accuracy: 0.8389\n"
          ]
        },
        {
          "output_type": "execute_result",
          "data": {
            "text/plain": [
              "[0.4702439308166504, 0.8389000296592712]"
            ]
          },
          "metadata": {},
          "execution_count": 7
        }
      ]
    },
    {
      "cell_type": "markdown",
      "metadata": {
        "id": "F4LCVc_Q4O9T"
      },
      "source": [
        "**MLP + CNN**"
      ]
    },
    {
      "cell_type": "code",
      "metadata": {
        "id": "eD-5WH-R1_dk"
      },
      "source": [
        "dataset=tf.keras.datasets.fashion_mnist\n",
        "(X_train,Y_train),(X_test,Y_test)=dataset.load_data()\n",
        "X_train=X_train/255.0\n",
        "X_test=X_test/255.0"
      ],
      "execution_count": 8,
      "outputs": []
    },
    {
      "cell_type": "code",
      "metadata": {
        "id": "iN8SyUd02Bey"
      },
      "source": [
        "model_c=tf.keras.models.Sequential([\n",
        "            tf.keras.layers.Conv2D(16,(5,5),activation='relu',input_shape=(28,28,1)),\n",
        "            tf.keras.layers.Conv2D(64,(5,5),activation='relu'),\n",
        "            tf.keras.layers.Conv2D(64,(5,5),activation='relu'),\n",
        "            tf.keras.layers.Flatten(),\n",
        "            tf.keras.layers.Dense(64,activation='relu'),\n",
        "            tf.keras.layers.Dense(10,activation='softmax'),\n",
        "\n",
        "])"
      ],
      "execution_count": 13,
      "outputs": []
    },
    {
      "cell_type": "code",
      "metadata": {
        "id": "mBSOS5Py2Fla"
      },
      "source": [
        "model_c.compile(optimizer=tf.keras.optimizers.SGD(),loss=tf.keras.losses.sparse_categorical_crossentropy,metrics=['accuracy'])"
      ],
      "execution_count": 14,
      "outputs": []
    },
    {
      "cell_type": "code",
      "metadata": {
        "id": "wumCCW772LS4"
      },
      "source": [
        "X_train = X_train.reshape(X_train.shape[0],X_train.shape[1], X_train.shape[2],1)\n",
        "X_test = X_test.reshape(X_test.shape[0], X_test.shape[1], X_test.shape[2],1)"
      ],
      "execution_count": 15,
      "outputs": []
    },
    {
      "cell_type": "code",
      "metadata": {
        "colab": {
          "base_uri": "https://localhost:8080/"
        },
        "id": "VsFCAVJC2PpB",
        "outputId": "9f87b3b7-5c6e-44b8-f514-777f31a5cfb1"
      },
      "source": [
        "model_c.fit(X_train,Y_train,epochs=15)"
      ],
      "execution_count": 16,
      "outputs": [
        {
          "output_type": "stream",
          "name": "stdout",
          "text": [
            "Epoch 1/15\n",
            "1875/1875 [==============================] - 16s 8ms/step - loss: 0.6854 - accuracy: 0.7531\n",
            "Epoch 2/15\n",
            "1875/1875 [==============================] - 15s 8ms/step - loss: 0.4351 - accuracy: 0.8425\n",
            "Epoch 3/15\n",
            "1875/1875 [==============================] - 15s 8ms/step - loss: 0.3742 - accuracy: 0.8652\n",
            "Epoch 4/15\n",
            "1875/1875 [==============================] - 15s 8ms/step - loss: 0.3354 - accuracy: 0.8770\n",
            "Epoch 5/15\n",
            "1875/1875 [==============================] - 15s 8ms/step - loss: 0.3074 - accuracy: 0.8878\n",
            "Epoch 6/15\n",
            "1875/1875 [==============================] - 15s 8ms/step - loss: 0.2844 - accuracy: 0.8956\n",
            "Epoch 7/15\n",
            "1875/1875 [==============================] - 15s 8ms/step - loss: 0.2646 - accuracy: 0.9036\n",
            "Epoch 8/15\n",
            "1875/1875 [==============================] - 15s 8ms/step - loss: 0.2481 - accuracy: 0.9089\n",
            "Epoch 9/15\n",
            "1875/1875 [==============================] - 15s 8ms/step - loss: 0.2331 - accuracy: 0.9148\n",
            "Epoch 10/15\n",
            "1875/1875 [==============================] - 15s 8ms/step - loss: 0.2187 - accuracy: 0.9196\n",
            "Epoch 11/15\n",
            "1875/1875 [==============================] - 15s 8ms/step - loss: 0.2048 - accuracy: 0.9241\n",
            "Epoch 12/15\n",
            "1875/1875 [==============================] - 15s 8ms/step - loss: 0.1923 - accuracy: 0.9291\n",
            "Epoch 13/15\n",
            "1875/1875 [==============================] - 15s 8ms/step - loss: 0.1799 - accuracy: 0.9326\n",
            "Epoch 14/15\n",
            "1875/1875 [==============================] - 15s 8ms/step - loss: 0.1670 - accuracy: 0.9387\n",
            "Epoch 15/15\n",
            "1875/1875 [==============================] - 15s 8ms/step - loss: 0.1561 - accuracy: 0.9423\n"
          ]
        },
        {
          "output_type": "execute_result",
          "data": {
            "text/plain": [
              "<keras.callbacks.History at 0x7f9c201d7810>"
            ]
          },
          "metadata": {},
          "execution_count": 16
        }
      ]
    },
    {
      "cell_type": "code",
      "metadata": {
        "colab": {
          "base_uri": "https://localhost:8080/"
        },
        "id": "nNIcnGlqKfK6",
        "outputId": "3c7ef28b-ed2d-40f2-91bf-a951cc8301c9"
      },
      "source": [
        "model_c.evaluate(X_test,Y_test)"
      ],
      "execution_count": 17,
      "outputs": [
        {
          "output_type": "stream",
          "name": "stdout",
          "text": [
            "313/313 [==============================] - 2s 5ms/step - loss: 0.2978 - accuracy: 0.9025\n"
          ]
        },
        {
          "output_type": "execute_result",
          "data": {
            "text/plain": [
              "[0.2978473901748657, 0.9024999737739563]"
            ]
          },
          "metadata": {},
          "execution_count": 17
        }
      ]
    }
  ]
}