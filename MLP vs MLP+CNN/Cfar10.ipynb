{
  "nbformat": 4,
  "nbformat_minor": 0,
  "metadata": {
    "colab": {
      "name": "Cfar10.ipynb",
      "provenance": [],
      "collapsed_sections": [],
      "authorship_tag": "ABX9TyOu4p/UY+HdDMrCzF7zx42P",
      "include_colab_link": true
    },
    "kernelspec": {
      "name": "python3",
      "display_name": "Python 3"
    },
    "language_info": {
      "name": "python"
    },
    "accelerator": "GPU"
  },
  "cells": [
    {
      "cell_type": "markdown",
      "metadata": {
        "id": "view-in-github",
        "colab_type": "text"
      },
      "source": [
        "<a href=\"https://colab.research.google.com/github/FatemeZamanian/DeepLearning/blob/main/MLP%20vs%20MLP%2BCNN/Cfar10.ipynb\" target=\"_parent\"><img src=\"https://colab.research.google.com/assets/colab-badge.svg\" alt=\"Open In Colab\"/></a>"
      ]
    },
    {
      "cell_type": "code",
      "metadata": {
        "id": "C4IQAYrUg768"
      },
      "source": [
        "import tensorflow as tf\n",
        "import matplotlib.pyplot as plt\n",
        "from tensorflow.keras.layers import Dense"
      ],
      "execution_count": 1,
      "outputs": []
    },
    {
      "cell_type": "markdown",
      "metadata": {
        "id": "cfRZ1Fp94VCG"
      },
      "source": [
        "**MLP**"
      ]
    },
    {
      "cell_type": "code",
      "metadata": {
        "colab": {
          "base_uri": "https://localhost:8080/"
        },
        "id": "9KrbXeCuhCg2",
        "outputId": "3c7f51a6-2c39-4681-c2e1-f9e57ea9e49f"
      },
      "source": [
        "dataset=tf.keras.datasets.cifar10\n",
        "(X_train,Y_train),(X_test,Y_test)=dataset.load_data()"
      ],
      "execution_count": 2,
      "outputs": [
        {
          "output_type": "stream",
          "name": "stdout",
          "text": [
            "Downloading data from https://www.cs.toronto.edu/~kriz/cifar-10-python.tar.gz\n",
            "170500096/170498071 [==============================] - 3s 0us/step\n",
            "170508288/170498071 [==============================] - 3s 0us/step\n"
          ]
        }
      ]
    },
    {
      "cell_type": "code",
      "metadata": {
        "id": "FEWMUqNth7y1"
      },
      "source": [
        "X_train=X_train.reshape(50000,3072)"
      ],
      "execution_count": 3,
      "outputs": []
    },
    {
      "cell_type": "code",
      "metadata": {
        "id": "FhM2MBXKi9qO"
      },
      "source": [
        "model=tf.keras.models.Sequential([\n",
        "             Dense(64,input_dim=3072,activation='relu'),\n",
        "             Dense(32,activation='relu'),\n",
        "             Dense(16,activation='relu'),\n",
        "             Dense(10,activation='softmax')                     \n",
        "])"
      ],
      "execution_count": 4,
      "outputs": []
    },
    {
      "cell_type": "code",
      "metadata": {
        "id": "YgMo8DAejGsc"
      },
      "source": [
        "model.compile(optimizer=tf.keras.optimizers.Adam(),loss=tf.keras.losses.sparse_categorical_crossentropy,metrics=['accuracy'])"
      ],
      "execution_count": 5,
      "outputs": []
    },
    {
      "cell_type": "code",
      "metadata": {
        "colab": {
          "base_uri": "https://localhost:8080/"
        },
        "id": "ASKaPD-4jJVM",
        "outputId": "f4fe99f9-303b-4761-f978-a5127df3efa1"
      },
      "source": [
        "model.fit(X_train,Y_train,epochs=20)"
      ],
      "execution_count": 6,
      "outputs": [
        {
          "output_type": "stream",
          "name": "stdout",
          "text": [
            "Epoch 1/20\n",
            "1563/1563 [==============================] - 8s 3ms/step - loss: 3.2360 - accuracy: 0.1000\n",
            "Epoch 2/20\n",
            "1563/1563 [==============================] - 5s 3ms/step - loss: 2.3031 - accuracy: 0.0972\n",
            "Epoch 3/20\n",
            "1563/1563 [==============================] - 5s 3ms/step - loss: 2.3031 - accuracy: 0.0996\n",
            "Epoch 4/20\n",
            "1563/1563 [==============================] - 5s 3ms/step - loss: 2.3028 - accuracy: 0.0986\n",
            "Epoch 5/20\n",
            "1563/1563 [==============================] - 5s 3ms/step - loss: 2.3027 - accuracy: 0.0986\n",
            "Epoch 6/20\n",
            "1563/1563 [==============================] - 5s 3ms/step - loss: 2.3520 - accuracy: 0.0983\n",
            "Epoch 7/20\n",
            "1563/1563 [==============================] - 5s 3ms/step - loss: 2.3028 - accuracy: 0.0969\n",
            "Epoch 8/20\n",
            "1563/1563 [==============================] - 5s 3ms/step - loss: 2.3028 - accuracy: 0.0980\n",
            "Epoch 9/20\n",
            "1563/1563 [==============================] - 5s 3ms/step - loss: 2.3028 - accuracy: 0.0966\n",
            "Epoch 10/20\n",
            "1563/1563 [==============================] - 5s 3ms/step - loss: 2.3028 - accuracy: 0.0976\n",
            "Epoch 11/20\n",
            "1563/1563 [==============================] - 5s 3ms/step - loss: 2.3028 - accuracy: 0.0990\n",
            "Epoch 12/20\n",
            "1563/1563 [==============================] - 5s 3ms/step - loss: 2.3028 - accuracy: 0.0982\n",
            "Epoch 13/20\n",
            "1563/1563 [==============================] - 5s 3ms/step - loss: 2.3028 - accuracy: 0.0965\n",
            "Epoch 14/20\n",
            "1563/1563 [==============================] - 5s 3ms/step - loss: 2.3028 - accuracy: 0.0991\n",
            "Epoch 15/20\n",
            "1563/1563 [==============================] - 5s 3ms/step - loss: 2.3028 - accuracy: 0.0984\n",
            "Epoch 16/20\n",
            "1563/1563 [==============================] - 5s 3ms/step - loss: 2.3028 - accuracy: 0.0981\n",
            "Epoch 17/20\n",
            "1563/1563 [==============================] - 5s 3ms/step - loss: 2.3028 - accuracy: 0.0986\n",
            "Epoch 18/20\n",
            "1563/1563 [==============================] - 5s 3ms/step - loss: 2.3028 - accuracy: 0.0978\n",
            "Epoch 19/20\n",
            "1563/1563 [==============================] - 5s 3ms/step - loss: 2.3028 - accuracy: 0.0966\n",
            "Epoch 20/20\n",
            "1563/1563 [==============================] - 5s 3ms/step - loss: 2.3028 - accuracy: 0.0983\n"
          ]
        },
        {
          "output_type": "execute_result",
          "data": {
            "text/plain": [
              "<keras.callbacks.History at 0x7f5e00263150>"
            ]
          },
          "metadata": {},
          "execution_count": 6
        }
      ]
    },
    {
      "cell_type": "code",
      "metadata": {
        "colab": {
          "base_uri": "https://localhost:8080/"
        },
        "id": "jVZMmAtX4bZ4",
        "outputId": "cdda56fb-b0eb-4710-964a-2683f5c941cf"
      },
      "source": [
        "X_test=X_test.reshape(10000,3072)\n",
        "model.evaluate(X_test,Y_test )"
      ],
      "execution_count": 7,
      "outputs": [
        {
          "output_type": "stream",
          "name": "stdout",
          "text": [
            "313/313 [==============================] - 1s 3ms/step - loss: 2.3026 - accuracy: 0.1000\n"
          ]
        },
        {
          "output_type": "execute_result",
          "data": {
            "text/plain": [
              "[2.3026280403137207, 0.10000000149011612]"
            ]
          },
          "metadata": {},
          "execution_count": 7
        }
      ]
    },
    {
      "cell_type": "code",
      "metadata": {
        "id": "hdmGl-Ve3WSu"
      },
      "source": [
        "dataset=tf.keras.datasets.cifar10\n",
        "(X_train,Y_train),(X_test,Y_test)=dataset.load_data()\n",
        "X_train=X_train/255.0\n",
        "X_test=X_test/255.0"
      ],
      "execution_count": 8,
      "outputs": []
    },
    {
      "cell_type": "code",
      "metadata": {
        "colab": {
          "base_uri": "https://localhost:8080/"
        },
        "id": "A53m7iz56MS2",
        "outputId": "64b85861-1f60-4705-e11b-8405eadee857"
      },
      "source": [
        "# X_train.shape\n",
        "X_test.shape"
      ],
      "execution_count": 9,
      "outputs": [
        {
          "output_type": "execute_result",
          "data": {
            "text/plain": [
              "(10000, 32, 32, 3)"
            ]
          },
          "metadata": {},
          "execution_count": 9
        }
      ]
    },
    {
      "cell_type": "code",
      "metadata": {
        "id": "rLk-EYM26bN0"
      },
      "source": [
        "model_c=tf.keras.models.Sequential([\n",
        "            tf.keras.layers.Conv2D(64,(5,5),activation='relu',input_shape=(32,32,3)),\n",
        "            tf.keras.layers.Conv2D(128,(5,5),activation='relu'),\n",
        "            tf.keras.layers.Conv2D(128,(5,5),activation='relu'),\n",
        "            tf.keras.layers.Flatten(),\n",
        "            tf.keras.layers.Dense(128,activation='relu'),\n",
        "            tf.keras.layers.Dense(10,activation='softmax'),\n",
        "\n",
        "])"
      ],
      "execution_count": 15,
      "outputs": []
    },
    {
      "cell_type": "code",
      "metadata": {
        "id": "MQYmKVar6uDn"
      },
      "source": [
        "model_c.compile(optimizer=tf.keras.optimizers.SGD(),loss=tf.keras.losses.sparse_categorical_crossentropy,metrics=['accuracy'])"
      ],
      "execution_count": 16,
      "outputs": []
    },
    {
      "cell_type": "code",
      "metadata": {
        "id": "JbYPWZIk6y6N"
      },
      "source": [
        "X_train = X_train.reshape(X_train.shape[0],X_train.shape[1], X_train.shape[2],3)\n",
        "X_test = X_test.reshape(X_test.shape[0], X_test.shape[1], X_test.shape[2],3)"
      ],
      "execution_count": 17,
      "outputs": []
    },
    {
      "cell_type": "code",
      "metadata": {
        "colab": {
          "base_uri": "https://localhost:8080/"
        },
        "id": "nMHZzSKf66cn",
        "outputId": "274db53b-bc13-4f69-b2ab-4eb325ffd30d"
      },
      "source": [
        "model_c.fit(X_train,Y_train,epochs=15)"
      ],
      "execution_count": 18,
      "outputs": [
        {
          "output_type": "stream",
          "name": "stdout",
          "text": [
            "Epoch 1/15\n",
            "1563/1563 [==============================] - 34s 21ms/step - loss: 1.7947 - accuracy: 0.3509\n",
            "Epoch 2/15\n",
            "1563/1563 [==============================] - 33s 21ms/step - loss: 1.4119 - accuracy: 0.4949\n",
            "Epoch 3/15\n",
            "1563/1563 [==============================] - 33s 21ms/step - loss: 1.2349 - accuracy: 0.5620\n",
            "Epoch 4/15\n",
            "1563/1563 [==============================] - 33s 21ms/step - loss: 1.0911 - accuracy: 0.6170\n",
            "Epoch 5/15\n",
            "1563/1563 [==============================] - 33s 21ms/step - loss: 0.9699 - accuracy: 0.6603\n",
            "Epoch 6/15\n",
            "1563/1563 [==============================] - 33s 21ms/step - loss: 0.8536 - accuracy: 0.7053\n",
            "Epoch 7/15\n",
            "1563/1563 [==============================] - 33s 21ms/step - loss: 0.7425 - accuracy: 0.7432\n",
            "Epoch 8/15\n",
            "1563/1563 [==============================] - 33s 21ms/step - loss: 0.6176 - accuracy: 0.7853\n",
            "Epoch 9/15\n",
            "1563/1563 [==============================] - 33s 21ms/step - loss: 0.4914 - accuracy: 0.8299\n",
            "Epoch 10/15\n",
            "1563/1563 [==============================] - 33s 21ms/step - loss: 0.3717 - accuracy: 0.8703\n",
            "Epoch 11/15\n",
            "1563/1563 [==============================] - 33s 21ms/step - loss: 0.2614 - accuracy: 0.9102\n",
            "Epoch 12/15\n",
            "1563/1563 [==============================] - 33s 21ms/step - loss: 0.1782 - accuracy: 0.9394\n",
            "Epoch 13/15\n",
            "1563/1563 [==============================] - 33s 21ms/step - loss: 0.1194 - accuracy: 0.9606\n",
            "Epoch 14/15\n",
            "1563/1563 [==============================] - 33s 21ms/step - loss: 0.0751 - accuracy: 0.9765\n",
            "Epoch 15/15\n",
            "1563/1563 [==============================] - 33s 21ms/step - loss: 0.0631 - accuracy: 0.9793\n"
          ]
        },
        {
          "output_type": "execute_result",
          "data": {
            "text/plain": [
              "<keras.callbacks.History at 0x7f5df0017250>"
            ]
          },
          "metadata": {},
          "execution_count": 18
        }
      ]
    },
    {
      "cell_type": "code",
      "metadata": {
        "colab": {
          "base_uri": "https://localhost:8080/"
        },
        "id": "MyYVLExdNxbE",
        "outputId": "6aa584cf-1cde-43b9-da86-9f7ff7a49d5a"
      },
      "source": [
        "model_c.evaluate(X_test,Y_test)"
      ],
      "execution_count": 19,
      "outputs": [
        {
          "output_type": "stream",
          "name": "stdout",
          "text": [
            "313/313 [==============================] - 3s 8ms/step - loss: 1.9462 - accuracy: 0.6465\n"
          ]
        },
        {
          "output_type": "execute_result",
          "data": {
            "text/plain": [
              "[1.9462156295776367, 0.6464999914169312]"
            ]
          },
          "metadata": {},
          "execution_count": 19
        }
      ]
    }
  ]
}