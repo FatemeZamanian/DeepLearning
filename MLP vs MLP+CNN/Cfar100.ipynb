{
  "nbformat": 4,
  "nbformat_minor": 0,
  "metadata": {
    "colab": {
      "name": "Cfar100.ipynb",
      "provenance": [],
      "collapsed_sections": [],
      "authorship_tag": "ABX9TyP/Rubh/Oim9QB+eux1OdPG",
      "include_colab_link": true
    },
    "kernelspec": {
      "name": "python3",
      "display_name": "Python 3"
    },
    "language_info": {
      "name": "python"
    },
    "accelerator": "GPU"
  },
  "cells": [
    {
      "cell_type": "markdown",
      "metadata": {
        "id": "view-in-github",
        "colab_type": "text"
      },
      "source": [
        "<a href=\"https://colab.research.google.com/github/FatemeZamanian/DeepLearning/blob/main/MLP%20vs%20MLP%2BCNN/Cfar100.ipynb\" target=\"_parent\"><img src=\"https://colab.research.google.com/assets/colab-badge.svg\" alt=\"Open In Colab\"/></a>"
      ]
    },
    {
      "cell_type": "code",
      "metadata": {
        "id": "KBcUEJiTkIrp"
      },
      "source": [
        "import tensorflow as tf\n",
        "import matplotlib.pyplot as plt\n",
        "from tensorflow.keras.layers import Dense"
      ],
      "execution_count": 1,
      "outputs": []
    },
    {
      "cell_type": "markdown",
      "metadata": {
        "id": "F2cP0qRJl19s"
      },
      "source": [
        "**MLP**"
      ]
    },
    {
      "cell_type": "code",
      "metadata": {
        "colab": {
          "base_uri": "https://localhost:8080/"
        },
        "id": "VP5sBjNhkT3K",
        "outputId": "40e4c501-0e1a-4d8b-dd80-cad668b95fb7"
      },
      "source": [
        "dataset=tf.keras.datasets.cifar100\n",
        "(X_train,Y_train),(X_test,Y_test)=dataset.load_data()"
      ],
      "execution_count": 2,
      "outputs": [
        {
          "output_type": "stream",
          "name": "stdout",
          "text": [
            "Downloading data from https://www.cs.toronto.edu/~kriz/cifar-100-python.tar.gz\n",
            "169009152/169001437 [==============================] - 2s 0us/step\n",
            "169017344/169001437 [==============================] - 2s 0us/step\n"
          ]
        }
      ]
    },
    {
      "cell_type": "code",
      "metadata": {
        "colab": {
          "base_uri": "https://localhost:8080/"
        },
        "id": "zSqF7JDEkXfK",
        "outputId": "ea6b69bf-8cf8-4c2d-9d57-ac1591f5b01a"
      },
      "source": [
        "X_train=X_train.reshape(50000,3072)\n",
        "X_train.shape"
      ],
      "execution_count": 3,
      "outputs": [
        {
          "output_type": "execute_result",
          "data": {
            "text/plain": [
              "(50000, 3072)"
            ]
          },
          "metadata": {},
          "execution_count": 3
        }
      ]
    },
    {
      "cell_type": "code",
      "metadata": {
        "id": "hs5zzJs0kktg"
      },
      "source": [
        "model=tf.keras.models.Sequential([\n",
        "             Dense(248,input_dim=3072,activation='relu'),\n",
        "             Dense(126,activation='relu'),\n",
        "             Dense(110,activation='relu'),\n",
        "             Dense(100,activation='softmax')                     \n",
        "])"
      ],
      "execution_count": 4,
      "outputs": []
    },
    {
      "cell_type": "code",
      "metadata": {
        "id": "eL_43UVKkqgk"
      },
      "source": [
        "model.compile(optimizer=tf.keras.optimizers.Adam(),loss=tf.keras.losses.sparse_categorical_crossentropy,metrics=['accuracy'])"
      ],
      "execution_count": 5,
      "outputs": []
    },
    {
      "cell_type": "code",
      "metadata": {
        "colab": {
          "base_uri": "https://localhost:8080/"
        },
        "id": "pq1h_S_Bku2n",
        "outputId": "d4f92c0a-25fa-40a1-beaa-6e5dd59b3d0d"
      },
      "source": [
        "model.fit(X_train,Y_train,epochs=15)"
      ],
      "execution_count": 6,
      "outputs": [
        {
          "output_type": "stream",
          "name": "stdout",
          "text": [
            "Epoch 1/15\n",
            "1563/1563 [==============================] - 8s 4ms/step - loss: 8.2335 - accuracy: 0.0091\n",
            "Epoch 2/15\n",
            "1563/1563 [==============================] - 6s 4ms/step - loss: 4.8672 - accuracy: 0.0091\n",
            "Epoch 3/15\n",
            "1563/1563 [==============================] - 6s 4ms/step - loss: 4.6060 - accuracy: 0.0092\n",
            "Epoch 4/15\n",
            "1563/1563 [==============================] - 6s 4ms/step - loss: 4.6059 - accuracy: 0.0086\n",
            "Epoch 5/15\n",
            "1563/1563 [==============================] - 6s 4ms/step - loss: 4.6059 - accuracy: 0.0082\n",
            "Epoch 6/15\n",
            "1563/1563 [==============================] - 6s 4ms/step - loss: 4.6059 - accuracy: 0.0092\n",
            "Epoch 7/15\n",
            "1563/1563 [==============================] - 6s 4ms/step - loss: 4.6059 - accuracy: 0.0084\n",
            "Epoch 8/15\n",
            "1563/1563 [==============================] - 6s 4ms/step - loss: 4.6059 - accuracy: 0.0087\n",
            "Epoch 9/15\n",
            "1563/1563 [==============================] - 6s 4ms/step - loss: 4.6059 - accuracy: 0.0082\n",
            "Epoch 10/15\n",
            "1563/1563 [==============================] - 6s 4ms/step - loss: 4.6059 - accuracy: 0.0090\n",
            "Epoch 11/15\n",
            "1563/1563 [==============================] - 6s 4ms/step - loss: 4.6059 - accuracy: 0.0087\n",
            "Epoch 12/15\n",
            "1563/1563 [==============================] - 6s 4ms/step - loss: 4.6060 - accuracy: 0.0089\n",
            "Epoch 13/15\n",
            "1563/1563 [==============================] - 6s 4ms/step - loss: 4.6059 - accuracy: 0.0093\n",
            "Epoch 14/15\n",
            "1563/1563 [==============================] - 6s 4ms/step - loss: 4.6059 - accuracy: 0.0083\n",
            "Epoch 15/15\n",
            "1563/1563 [==============================] - 6s 4ms/step - loss: 4.6059 - accuracy: 0.0097\n"
          ]
        },
        {
          "output_type": "execute_result",
          "data": {
            "text/plain": [
              "<keras.callbacks.History at 0x7f41e2fbad50>"
            ]
          },
          "metadata": {},
          "execution_count": 6
        }
      ]
    },
    {
      "cell_type": "code",
      "metadata": {
        "colab": {
          "base_uri": "https://localhost:8080/"
        },
        "id": "a9W0uhOF7Pcw",
        "outputId": "cef43d30-ac8e-433f-defc-3f04738af06a"
      },
      "source": [
        "X_test=X_test.reshape(10000,3072)\n",
        "model.evaluate(X_test,Y_test )"
      ],
      "execution_count": 7,
      "outputs": [
        {
          "output_type": "stream",
          "name": "stdout",
          "text": [
            "313/313 [==============================] - 1s 3ms/step - loss: 4.6052 - accuracy: 0.0100\n"
          ]
        },
        {
          "output_type": "execute_result",
          "data": {
            "text/plain": [
              "[4.605193614959717, 0.009999999776482582]"
            ]
          },
          "metadata": {},
          "execution_count": 7
        }
      ]
    },
    {
      "cell_type": "markdown",
      "metadata": {
        "id": "hoQCZRyLmGAP"
      },
      "source": [
        "**MLP+CNN**"
      ]
    },
    {
      "cell_type": "code",
      "metadata": {
        "id": "m6R4YtfN7aMv"
      },
      "source": [
        "dataset=tf.keras.datasets.cifar100\n",
        "(X_train,Y_train),(X_test,Y_test)=dataset.load_data()\n",
        "X_train=X_train/255.0\n",
        "X_test=X_test/255.0"
      ],
      "execution_count": 8,
      "outputs": []
    },
    {
      "cell_type": "code",
      "metadata": {
        "colab": {
          "base_uri": "https://localhost:8080/"
        },
        "id": "sb3iDEra9K2S",
        "outputId": "f0bd215c-bd8c-41cd-cd4c-5627c68be2c5"
      },
      "source": [
        "X_train.shape\n",
        "# X_test.shape"
      ],
      "execution_count": 9,
      "outputs": [
        {
          "output_type": "execute_result",
          "data": {
            "text/plain": [
              "(50000, 32, 32, 3)"
            ]
          },
          "metadata": {},
          "execution_count": 9
        }
      ]
    },
    {
      "cell_type": "code",
      "metadata": {
        "id": "nXMNiEQp9SsN"
      },
      "source": [
        "model_c=tf.keras.models.Sequential([\n",
        "            tf.keras.layers.Conv2D(320,(5,5),activation='relu',input_shape=(32,32,3)),\n",
        "            tf.keras.layers.Conv2D(640,(5,5),activation='relu'),\n",
        "            tf.keras.layers.Conv2D(640,(5,5),activation='relu'),\n",
        "            tf.keras.layers.Flatten(),\n",
        "            tf.keras.layers.Dense(640,activation='relu'),\n",
        "            tf.keras.layers.Dense(100,activation='softmax'),\n",
        "\n",
        "])"
      ],
      "execution_count": 10,
      "outputs": []
    },
    {
      "cell_type": "code",
      "metadata": {
        "id": "NSklV_2a9jzR"
      },
      "source": [
        "model_c.compile(optimizer=tf.keras.optimizers.SGD(),loss=tf.keras.losses.sparse_categorical_crossentropy,metrics=['accuracy'])"
      ],
      "execution_count": 11,
      "outputs": []
    },
    {
      "cell_type": "code",
      "metadata": {
        "id": "LJ3Jdhb_9lG9"
      },
      "source": [
        "X_train = X_train.reshape(X_train.shape[0],X_train.shape[1], X_train.shape[2],3)\n",
        "X_test = X_test.reshape(X_test.shape[0], X_test.shape[1], X_test.shape[2],3)"
      ],
      "execution_count": 12,
      "outputs": []
    },
    {
      "cell_type": "code",
      "metadata": {
        "colab": {
          "base_uri": "https://localhost:8080/"
        },
        "id": "6W_Toio69oVe",
        "outputId": "c00bf79c-cf65-4f40-cf2d-1ff581aab436"
      },
      "source": [
        "model_c.fit(X_train,Y_train,epochs=10)"
      ],
      "execution_count": 13,
      "outputs": [
        {
          "output_type": "stream",
          "name": "stdout",
          "text": [
            "Epoch 1/10\n",
            "1563/1563 [==============================] - 452s 269ms/step - loss: 4.1151 - accuracy: 0.0782\n",
            "Epoch 2/10\n",
            "1563/1563 [==============================] - 416s 266ms/step - loss: 3.4688 - accuracy: 0.1845\n",
            "Epoch 3/10\n",
            "1563/1563 [==============================] - 416s 266ms/step - loss: 3.0645 - accuracy: 0.2583\n",
            "Epoch 4/10\n",
            "1563/1563 [==============================] - 416s 266ms/step - loss: 2.6976 - accuracy: 0.3313\n",
            "Epoch 5/10\n",
            "1563/1563 [==============================] - 416s 266ms/step - loss: 2.3025 - accuracy: 0.4121\n",
            "Epoch 6/10\n",
            "1563/1563 [==============================] - 416s 266ms/step - loss: 1.8171 - accuracy: 0.5179\n",
            "Epoch 7/10\n",
            "1563/1563 [==============================] - 416s 266ms/step - loss: 1.2001 - accuracy: 0.6675\n",
            "Epoch 8/10\n",
            "1563/1563 [==============================] - 416s 266ms/step - loss: 0.5667 - accuracy: 0.8373\n",
            "Epoch 9/10\n",
            "1563/1563 [==============================] - 416s 266ms/step - loss: 0.2402 - accuracy: 0.9311\n",
            "Epoch 10/10\n",
            "1563/1563 [==============================] - 415s 266ms/step - loss: 0.1206 - accuracy: 0.9669\n"
          ]
        },
        {
          "output_type": "execute_result",
          "data": {
            "text/plain": [
              "<keras.callbacks.History at 0x7f41e0353d10>"
            ]
          },
          "metadata": {},
          "execution_count": 13
        }
      ]
    },
    {
      "cell_type": "code",
      "metadata": {
        "colab": {
          "base_uri": "https://localhost:8080/"
        },
        "id": "pEahwv5q0Oy1",
        "outputId": "ba6a60d2-8824-4675-e7c8-58883c436016"
      },
      "source": [
        "model_c.evaluate(X_test,Y_test)"
      ],
      "execution_count": 14,
      "outputs": [
        {
          "output_type": "stream",
          "name": "stdout",
          "text": [
            "313/313 [==============================] - 26s 84ms/step - loss: 5.3422 - accuracy: 0.3126\n"
          ]
        },
        {
          "output_type": "execute_result",
          "data": {
            "text/plain": [
              "[5.342193603515625, 0.3125999867916107]"
            ]
          },
          "metadata": {},
          "execution_count": 14
        }
      ]
    }
  ]
}