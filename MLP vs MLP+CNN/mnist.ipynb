{
  "nbformat": 4,
  "nbformat_minor": 0,
  "metadata": {
    "accelerator": "GPU",
    "colab": {
      "name": "mnist.ipynb",
      "provenance": [],
      "collapsed_sections": [],
      "authorship_tag": "ABX9TyMC9/pkc0U6XtQ9/L8qa7ef",
      "include_colab_link": true
    },
    "kernelspec": {
      "display_name": "Python 3",
      "name": "python3"
    },
    "language_info": {
      "name": "python"
    }
  },
  "cells": [
    {
      "cell_type": "markdown",
      "metadata": {
        "id": "view-in-github",
        "colab_type": "text"
      },
      "source": [
        "<a href=\"https://colab.research.google.com/github/FatemeZamanian/DeepLearning/blob/main/MLP%20vs%20MLP%2BCNN/mnist.ipynb\" target=\"_parent\"><img src=\"https://colab.research.google.com/assets/colab-badge.svg\" alt=\"Open In Colab\"/></a>"
      ]
    },
    {
      "cell_type": "code",
      "metadata": {
        "id": "8l2mXPXtVa4F"
      },
      "source": [
        "import tensorflow as tf\n",
        "import matplotlib.pyplot as plt\n",
        "from tensorflow.keras.layers import Dense"
      ],
      "execution_count": 1,
      "outputs": []
    },
    {
      "cell_type": "markdown",
      "metadata": {
        "id": "Tw_UkOZI3ghk"
      },
      "source": [
        "MLP"
      ]
    },
    {
      "cell_type": "code",
      "metadata": {
        "id": "iWvk2uMQVoFY",
        "colab": {
          "base_uri": "https://localhost:8080/"
        },
        "outputId": "ca66be30-8b35-48da-92cb-b201392961d4"
      },
      "source": [
        "dataset=tf.keras.datasets.mnist\n",
        "(X_train,Y_train),(X_test,Y_test)=dataset.load_data()"
      ],
      "execution_count": 2,
      "outputs": [
        {
          "output_type": "stream",
          "name": "stdout",
          "text": [
            "Downloading data from https://storage.googleapis.com/tensorflow/tf-keras-datasets/mnist.npz\n",
            "11493376/11490434 [==============================] - 0s 0us/step\n",
            "11501568/11490434 [==============================] - 0s 0us/step\n"
          ]
        }
      ]
    },
    {
      "cell_type": "code",
      "metadata": {
        "id": "FM14X8u0YyWL"
      },
      "source": [
        "X_train=X_train.reshape(60000,784)"
      ],
      "execution_count": 3,
      "outputs": []
    },
    {
      "cell_type": "code",
      "metadata": {
        "id": "DVjfD9DjWH6I"
      },
      "source": [
        "model=tf.keras.models.Sequential([\n",
        "             Dense(64,input_dim=784,activation='relu'),\n",
        "             Dense(32,activation='relu'),\n",
        "             Dense(16,activation='relu'),\n",
        "             Dense(10,activation='softmax')                     \n",
        "])"
      ],
      "execution_count": 4,
      "outputs": []
    },
    {
      "cell_type": "code",
      "metadata": {
        "id": "LIWU2fxjYk42"
      },
      "source": [
        "model.compile(optimizer=tf.keras.optimizers.Adam(),loss=tf.keras.losses.sparse_categorical_crossentropy,metrics=['accuracy'])"
      ],
      "execution_count": 5,
      "outputs": []
    },
    {
      "cell_type": "code",
      "metadata": {
        "colab": {
          "base_uri": "https://localhost:8080/"
        },
        "id": "mOtZuA5uZoSs",
        "outputId": "cf299a2f-8a5a-4855-d616-b914764395a9"
      },
      "source": [
        "model.fit(X_train,Y_train,epochs=15)"
      ],
      "execution_count": 6,
      "outputs": [
        {
          "output_type": "stream",
          "name": "stdout",
          "text": [
            "Epoch 1/15\n",
            "1875/1875 [==============================] - 8s 3ms/step - loss: 2.2286 - accuracy: 0.2088\n",
            "Epoch 2/15\n",
            "1875/1875 [==============================] - 5s 3ms/step - loss: 1.3747 - accuracy: 0.4741\n",
            "Epoch 3/15\n",
            "1875/1875 [==============================] - 5s 3ms/step - loss: 0.9424 - accuracy: 0.6271\n",
            "Epoch 4/15\n",
            "1875/1875 [==============================] - 5s 3ms/step - loss: 0.6260 - accuracy: 0.7750\n",
            "Epoch 5/15\n",
            "1875/1875 [==============================] - 5s 3ms/step - loss: 0.2937 - accuracy: 0.9303\n",
            "Epoch 6/15\n",
            "1875/1875 [==============================] - 5s 3ms/step - loss: 0.1945 - accuracy: 0.9508\n",
            "Epoch 7/15\n",
            "1875/1875 [==============================] - 5s 3ms/step - loss: 0.1564 - accuracy: 0.9597\n",
            "Epoch 8/15\n",
            "1875/1875 [==============================] - 5s 3ms/step - loss: 0.1345 - accuracy: 0.9645\n",
            "Epoch 9/15\n",
            "1875/1875 [==============================] - 5s 3ms/step - loss: 0.1143 - accuracy: 0.9697\n",
            "Epoch 10/15\n",
            "1875/1875 [==============================] - 5s 3ms/step - loss: 0.1061 - accuracy: 0.9723\n",
            "Epoch 11/15\n",
            "1875/1875 [==============================] - 5s 3ms/step - loss: 0.0965 - accuracy: 0.9744\n",
            "Epoch 12/15\n",
            "1875/1875 [==============================] - 5s 3ms/step - loss: 0.0894 - accuracy: 0.9761\n",
            "Epoch 13/15\n",
            "1875/1875 [==============================] - 5s 3ms/step - loss: 0.0810 - accuracy: 0.9785\n",
            "Epoch 14/15\n",
            "1875/1875 [==============================] - 5s 3ms/step - loss: 0.0827 - accuracy: 0.9778\n",
            "Epoch 15/15\n",
            "1875/1875 [==============================] - 5s 3ms/step - loss: 0.0722 - accuracy: 0.9803\n"
          ]
        },
        {
          "output_type": "execute_result",
          "data": {
            "text/plain": [
              "<keras.callbacks.History at 0x7ff010297c50>"
            ]
          },
          "metadata": {},
          "execution_count": 6
        }
      ]
    },
    {
      "cell_type": "code",
      "metadata": {
        "colab": {
          "base_uri": "https://localhost:8080/"
        },
        "id": "D2mSySjsd4KZ",
        "outputId": "69ed0b7e-2e77-41e3-ebd0-7b42c0800a99"
      },
      "source": [
        "X_test=X_test.reshape(10000,784)\n",
        "model.evaluate(X_test,Y_test)"
      ],
      "execution_count": 7,
      "outputs": [
        {
          "output_type": "stream",
          "name": "stdout",
          "text": [
            "313/313 [==============================] - 1s 3ms/step - loss: 0.1755 - accuracy: 0.9661\n"
          ]
        },
        {
          "output_type": "execute_result",
          "data": {
            "text/plain": [
              "[0.17547854781150818, 0.9660999774932861]"
            ]
          },
          "metadata": {},
          "execution_count": 7
        }
      ]
    },
    {
      "cell_type": "markdown",
      "metadata": {
        "id": "QTvupu4H3lch"
      },
      "source": [
        "MLP+CNN"
      ]
    },
    {
      "cell_type": "code",
      "metadata": {
        "id": "tGYtLkpPtSky"
      },
      "source": [
        "dataset=tf.keras.datasets.mnist\n",
        "(X_train,Y_train),(X_test,Y_test)=dataset.load_data()\n",
        "X_train=X_train/255.0\n",
        "X_test=X_test/255.0"
      ],
      "execution_count": 8,
      "outputs": []
    },
    {
      "cell_type": "code",
      "metadata": {
        "id": "hAqFVDjCb9A-"
      },
      "source": [
        "model_c=tf.keras.models.Sequential([\n",
        "            tf.keras.layers.Conv2D(32,(5,5),activation='relu',input_shape=(28,28,1)),\n",
        "            tf.keras.layers.Conv2D(64,(5,5),activation='relu'),\n",
        "            tf.keras.layers.Conv2D(64,(5,5),activation='relu'),\n",
        "            tf.keras.layers.Flatten(),\n",
        "            tf.keras.layers.Dense(64,activation='relu'),\n",
        "            tf.keras.layers.Dense(10,activation='softmax'),\n",
        "\n",
        "])"
      ],
      "execution_count": 9,
      "outputs": []
    },
    {
      "cell_type": "code",
      "metadata": {
        "id": "cHW70Z0ctRMs"
      },
      "source": [
        "model_c.compile(optimizer=tf.keras.optimizers.SGD(),loss=tf.keras.losses.sparse_categorical_crossentropy,metrics=['accuracy'])"
      ],
      "execution_count": 10,
      "outputs": []
    },
    {
      "cell_type": "code",
      "metadata": {
        "id": "33HwdgZPxYk6"
      },
      "source": [
        "X_train = X_train.reshape(X_train.shape[0],X_train.shape[1], X_train.shape[2],1)\n",
        "X_test = X_test.reshape(X_test.shape[0], X_test.shape[1], X_test.shape[2],1)"
      ],
      "execution_count": 11,
      "outputs": []
    },
    {
      "cell_type": "code",
      "metadata": {
        "colab": {
          "base_uri": "https://localhost:8080/"
        },
        "id": "AFMhFrTryEzf",
        "outputId": "db487bef-e9f9-4d4e-a63e-53e2e526bdc1"
      },
      "source": [
        "model_c.fit(X_train,Y_train,epochs=15)"
      ],
      "execution_count": 12,
      "outputs": [
        {
          "output_type": "stream",
          "name": "stdout",
          "text": [
            "Epoch 1/15\n",
            "1875/1875 [==============================] - 45s 9ms/step - loss: 0.2873 - accuracy: 0.9143\n",
            "Epoch 2/15\n",
            "1875/1875 [==============================] - 16s 9ms/step - loss: 0.0843 - accuracy: 0.9739\n",
            "Epoch 3/15\n",
            "1875/1875 [==============================] - 16s 9ms/step - loss: 0.0579 - accuracy: 0.9826\n",
            "Epoch 4/15\n",
            "1875/1875 [==============================] - 17s 9ms/step - loss: 0.0447 - accuracy: 0.9860\n",
            "Epoch 5/15\n",
            "1875/1875 [==============================] - 16s 9ms/step - loss: 0.0352 - accuracy: 0.9889\n",
            "Epoch 6/15\n",
            "1875/1875 [==============================] - 16s 9ms/step - loss: 0.0288 - accuracy: 0.9909\n",
            "Epoch 7/15\n",
            "1875/1875 [==============================] - 16s 9ms/step - loss: 0.0233 - accuracy: 0.9930\n",
            "Epoch 8/15\n",
            "1875/1875 [==============================] - 17s 9ms/step - loss: 0.0194 - accuracy: 0.9941\n",
            "Epoch 9/15\n",
            "1875/1875 [==============================] - 16s 9ms/step - loss: 0.0157 - accuracy: 0.9951\n",
            "Epoch 10/15\n",
            "1875/1875 [==============================] - 16s 9ms/step - loss: 0.0130 - accuracy: 0.9961\n",
            "Epoch 11/15\n",
            "1875/1875 [==============================] - 16s 9ms/step - loss: 0.0112 - accuracy: 0.9963\n",
            "Epoch 12/15\n",
            "1875/1875 [==============================] - 16s 9ms/step - loss: 0.0088 - accuracy: 0.9974\n",
            "Epoch 13/15\n",
            "1875/1875 [==============================] - 16s 9ms/step - loss: 0.0069 - accuracy: 0.9979\n",
            "Epoch 14/15\n",
            "1875/1875 [==============================] - 16s 9ms/step - loss: 0.0061 - accuracy: 0.9981\n",
            "Epoch 15/15\n",
            "1875/1875 [==============================] - 16s 9ms/step - loss: 0.0053 - accuracy: 0.9984\n"
          ]
        },
        {
          "output_type": "execute_result",
          "data": {
            "text/plain": [
              "<keras.callbacks.History at 0x7fefa2f23c90>"
            ]
          },
          "metadata": {},
          "execution_count": 12
        }
      ]
    },
    {
      "cell_type": "code",
      "metadata": {
        "colab": {
          "base_uri": "https://localhost:8080/"
        },
        "id": "rxvYVK_TH2Av",
        "outputId": "73ad13b4-67f6-42e3-d673-dd14846b6439"
      },
      "source": [
        "model_c.evaluate(X_test,Y_test)"
      ],
      "execution_count": 13,
      "outputs": [
        {
          "output_type": "stream",
          "name": "stdout",
          "text": [
            "313/313 [==============================] - 2s 6ms/step - loss: 0.0472 - accuracy: 0.9866\n"
          ]
        },
        {
          "output_type": "execute_result",
          "data": {
            "text/plain": [
              "[0.047190047800540924, 0.9865999817848206]"
            ]
          },
          "metadata": {},
          "execution_count": 13
        }
      ]
    }
  ]
}