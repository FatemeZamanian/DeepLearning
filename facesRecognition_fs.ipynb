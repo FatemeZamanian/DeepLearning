{
  "nbformat": 4,
  "nbformat_minor": 0,
  "metadata": {
    "colab": {
      "name": "facesRecognition_fs.ipynb",
      "provenance": [],
      "collapsed_sections": [],
      "mount_file_id": "1aWgGQSr26KBbcgPupTAY2-Q3trCkrjC3",
      "authorship_tag": "ABX9TyOlf9grn6nRas+2Ae/IMnVL",
      "include_colab_link": true
    },
    "kernelspec": {
      "name": "python3",
      "display_name": "Python 3"
    },
    "language_info": {
      "name": "python"
    },
    "accelerator": "GPU"
  },
  "cells": [
    {
      "cell_type": "markdown",
      "metadata": {
        "id": "view-in-github",
        "colab_type": "text"
      },
      "source": [
        "<a href=\"https://colab.research.google.com/github/FatemeZamanian/DeepLearning/blob/main/facesRecognition_fs.ipynb\" target=\"_parent\"><img src=\"https://colab.research.google.com/assets/colab-badge.svg\" alt=\"Open In Colab\"/></a>"
      ]
    },
    {
      "cell_type": "code",
      "metadata": {
        "id": "VnSl-7SCjuCG"
      },
      "source": [
        "import tensorflow as tf\n",
        "from tensorflow.keras.layers import Dense,Flatten,Conv2D,MaxPooling2D,AveragePooling2D,MaxPooling2D\n",
        "from tensorflow.keras.preprocessing.image import ImageDataGenerator"
      ],
      "execution_count": 1,
      "outputs": []
    },
    {
      "cell_type": "code",
      "metadata": {
        "colab": {
          "base_uri": "https://localhost:8080/"
        },
        "id": "NFgezaI0n5BH",
        "outputId": "b432d725-e9cb-4949-8733-8c21a947467a"
      },
      "source": [
        "import cv2\n",
        "img=cv2.imread('/content/drive/MyDrive/7-7 dataset/Ali_Khamenei/Ali-Khamenei-13_01.jpg')\n",
        "print(img.shape)"
      ],
      "execution_count": 2,
      "outputs": [
        {
          "output_type": "stream",
          "name": "stdout",
          "text": [
            "(1024, 1024, 3)\n"
          ]
        }
      ]
    },
    {
      "cell_type": "code",
      "metadata": {
        "id": "gP0lK16JnsRP"
      },
      "source": [
        "batch_size=32\n",
        "width=height=256"
      ],
      "execution_count": 3,
      "outputs": []
    },
    {
      "cell_type": "code",
      "metadata": {
        "colab": {
          "base_uri": "https://localhost:8080/"
        },
        "id": "4KLLSNKvlvOl",
        "outputId": "841675f7-c6cb-4278-f24c-11f6a168e34c"
      },
      "source": [
        "path='/content/drive/MyDrive/7-7 dataset'\n",
        "\n",
        "data_generator=ImageDataGenerator(\n",
        "    rescale=1./255,\n",
        "    validation_split=0.2\n",
        ")\n",
        "\n",
        "train_data=data_generator.flow_from_directory(\n",
        "    path,\n",
        "    target_size=(width,height),\n",
        "    class_mode='categorical',\n",
        "    batch_size=batch_size,\n",
        "    shuffle=True,\n",
        "    subset='training',\n",
        ")\n",
        "\n",
        "val_data=data_generator.flow_from_directory(\n",
        "    path,\n",
        "    target_size=(width,height),\n",
        "    class_mode='categorical',\n",
        "    batch_size=batch_size,\n",
        "    shuffle=False,\n",
        "    subset='validation',\n",
        ")\n",
        "\n",
        "\n"
      ],
      "execution_count": 4,
      "outputs": [
        {
          "output_type": "stream",
          "name": "stdout",
          "text": [
            "Found 1091 images belonging to 14 classes.\n",
            "Found 268 images belonging to 14 classes.\n"
          ]
        }
      ]
    },
    {
      "cell_type": "code",
      "metadata": {
        "id": "FYqMI5GspHjb"
      },
      "source": [
        "class MyModel(tf.keras.Model):\n",
        "  def __init__(self,number_of_classes):\n",
        "    super().__init__()\n",
        "    self.conv1=Conv2D(32,(3,3),activation='relu',input_shape = (width ,height ,3))\n",
        "    self.conv2=Conv2D(64,(3,3),activation='relu')\n",
        "    self.conv3=Conv2D(128,(3,3),activation='relu')\n",
        "    self.conv4=Conv2D(256,(3,3),activation='relu')\n",
        "    self.conv5=Conv2D(512,(3,3),activation='relu')\n",
        "    self.pooling1=MaxPooling2D((3,3))\n",
        "    self.pooling2=AveragePooling2D((2,2))\n",
        "    self.flatten=Flatten()\n",
        "    self.fc0=Dense(1024,activation='relu')\n",
        "    self.fc1=Dense(512,activation='relu')\n",
        "    self.fc2=Dense(256,activation='relu')\n",
        "    self.fc3=Dense(128,activation='relu')\n",
        "    self.fc3=Dense(64,activation='relu')\n",
        "    self.fc4=Dense(number_of_classes,activation='softmax')\n",
        "  \n",
        "  def call(self,x):\n",
        "    y=self.conv1(x)\n",
        "    f=self.pooling1(y)\n",
        "    y=self.conv2(f)\n",
        "    f=self.pooling1(y)\n",
        "    y=self.conv3(f)\n",
        "    # f=self.pooling2(y)\n",
        "    y=self.conv4(y)\n",
        "    y=self.conv5(y)\n",
        "\n",
        "    w=self.flatten(y)\n",
        "    z=self.fc0(w)\n",
        "    z=self.fc1(z)\n",
        "    z=self.fc2(z)\n",
        "    z=self.fc3(z)\n",
        "    out=self.fc4(z)\n",
        "    return out\n",
        "\n",
        "model=MyModel(14)\n"
      ],
      "execution_count": 12,
      "outputs": []
    },
    {
      "cell_type": "code",
      "metadata": {
        "id": "c_EMii2z0CT3"
      },
      "source": [
        "loss_function=tf.keras.losses.CategoricalCrossentropy(from_logits=True)\n",
        "optimizer=tf.keras.optimizers.Adam()"
      ],
      "execution_count": 13,
      "outputs": []
    },
    {
      "cell_type": "code",
      "metadata": {
        "id": "n8Lyj0Po0l8v"
      },
      "source": [
        "train_loss=tf.keras.metrics.Mean(name='train_loss')\n",
        "train_acc=tf.keras.metrics.CategoricalAccuracy(name='train_acc')\n",
        "\n",
        "test_loss=tf.keras.metrics.Mean(name='test_loss')\n",
        "test_acc=tf.keras.metrics.CategoricalAccuracy(name='test_acc')"
      ],
      "execution_count": 14,
      "outputs": []
    },
    {
      "cell_type": "code",
      "metadata": {
        "id": "0nvDH6nL0uP_"
      },
      "source": [
        "def train_step(images,y):\n",
        "  with tf.GradientTape() as tape:\n",
        "    y_pred=model(images,training=True)\n",
        "    loss=loss_function(y,y_pred)\n",
        "\n",
        "  gradients=tape.gradient(loss,model.trainable_variables)\n",
        "  optimizer.apply_gradients(zip(gradients,model.trainable_variables))\n",
        "  train_loss(loss)\n",
        "  train_acc(y,y_pred)"
      ],
      "execution_count": 15,
      "outputs": []
    },
    {
      "cell_type": "code",
      "metadata": {
        "id": "S3OEmRKB0z8V"
      },
      "source": [
        "def test_step(images,y):\n",
        "  y_pred=model(images,training=False)\n",
        "  loss=loss_function(y,y_pred)\n",
        "  test_loss(loss)\n",
        "  test_acc(y,y_pred)"
      ],
      "execution_count": 16,
      "outputs": []
    },
    {
      "cell_type": "code",
      "metadata": {
        "id": "zRQLGo7i05q7"
      },
      "source": [
        "from tqdm import tqdm\n",
        "def train():\n",
        "  epochs=30\n",
        "  tSteps=train_data.samples//batch_size\n",
        "  vSteps=val_data.samples//batch_size\n",
        "  for epoch in range(epochs):\n",
        "    train_loss.reset_states()\n",
        "    train_acc.reset_states()\n",
        "    test_loss.reset_states()\n",
        "    test_acc.reset_states()\n",
        "    for i in tqdm(range(tSteps)):\n",
        "        images, labels = next(train_data)\n",
        "        train_step(images, labels)\n",
        "\n",
        "    for i in tqdm(range(vSteps)):\n",
        "        images, labels = next(val_data)\n",
        "        test_step(images, labels)\n",
        "    print('epoch: ',epoch+1)\n",
        "    print('loss: ',train_loss.result())\n",
        "    print('accuracy: ',train_acc.result())\n",
        "    print('val loss: ',test_loss.result())\n",
        "    print('val accuracy: ',test_acc.result())"
      ],
      "execution_count": 17,
      "outputs": []
    },
    {
      "cell_type": "code",
      "metadata": {
        "colab": {
          "base_uri": "https://localhost:8080/"
        },
        "id": "yRuu0DCw_Qe3",
        "outputId": "70896782-4cba-4275-886a-d8053912cd8d"
      },
      "source": [
        "train()"
      ],
      "execution_count": 18,
      "outputs": [
        {
          "output_type": "stream",
          "name": "stderr",
          "text": [
            "\r  0%|          | 0/34 [00:00<?, ?it/s]/usr/local/lib/python3.7/dist-packages/keras/backend.py:4847: UserWarning: \"`categorical_crossentropy` received `from_logits=True`, but the `output` argument was produced by a sigmoid or softmax activation and thus does not represent logits. Was this intended?\"\n",
            "  '\"`categorical_crossentropy` received `from_logits=True`, but '\n",
            "100%|██████████| 34/34 [00:26<00:00,  1.30it/s]\n",
            "100%|██████████| 8/8 [00:04<00:00,  1.86it/s]\n"
          ]
        },
        {
          "output_type": "stream",
          "name": "stdout",
          "text": [
            "epoch:  1\n",
            "loss:  tf.Tensor(2.7073302, shape=(), dtype=float32)\n",
            "accuracy:  tf.Tensor(0.07176582, shape=(), dtype=float32)\n",
            "val loss:  tf.Tensor(2.6359527, shape=(), dtype=float32)\n",
            "val accuracy:  tf.Tensor(0.11440678, shape=(), dtype=float32)\n"
          ]
        },
        {
          "output_type": "stream",
          "name": "stderr",
          "text": [
            "100%|██████████| 34/34 [00:26<00:00,  1.30it/s]\n",
            "100%|██████████| 8/8 [00:04<00:00,  1.88it/s]\n"
          ]
        },
        {
          "output_type": "stream",
          "name": "stdout",
          "text": [
            "epoch:  2\n",
            "loss:  tf.Tensor(2.5775661, shape=(), dtype=float32)\n",
            "accuracy:  tf.Tensor(0.12181303, shape=(), dtype=float32)\n",
            "val loss:  tf.Tensor(2.43827, shape=(), dtype=float32)\n",
            "val accuracy:  tf.Tensor(0.13983051, shape=(), dtype=float32)\n"
          ]
        },
        {
          "output_type": "stream",
          "name": "stderr",
          "text": [
            "100%|██████████| 34/34 [00:25<00:00,  1.31it/s]\n",
            "100%|██████████| 8/8 [00:04<00:00,  1.86it/s]\n"
          ]
        },
        {
          "output_type": "stream",
          "name": "stdout",
          "text": [
            "epoch:  3\n",
            "loss:  tf.Tensor(2.2091951, shape=(), dtype=float32)\n",
            "accuracy:  tf.Tensor(0.22096318, shape=(), dtype=float32)\n",
            "val loss:  tf.Tensor(2.3686705, shape=(), dtype=float32)\n",
            "val accuracy:  tf.Tensor(0.27118644, shape=(), dtype=float32)\n"
          ]
        },
        {
          "output_type": "stream",
          "name": "stderr",
          "text": [
            "100%|██████████| 34/34 [00:25<00:00,  1.31it/s]\n",
            "100%|██████████| 8/8 [00:04<00:00,  1.85it/s]\n"
          ]
        },
        {
          "output_type": "stream",
          "name": "stdout",
          "text": [
            "epoch:  4\n",
            "loss:  tf.Tensor(1.8299818, shape=(), dtype=float32)\n",
            "accuracy:  tf.Tensor(0.3512748, shape=(), dtype=float32)\n",
            "val loss:  tf.Tensor(1.7450573, shape=(), dtype=float32)\n",
            "val accuracy:  tf.Tensor(0.41949153, shape=(), dtype=float32)\n"
          ]
        },
        {
          "output_type": "stream",
          "name": "stderr",
          "text": [
            "100%|██████████| 34/34 [00:25<00:00,  1.31it/s]\n",
            "100%|██████████| 8/8 [00:04<00:00,  1.88it/s]\n"
          ]
        },
        {
          "output_type": "stream",
          "name": "stdout",
          "text": [
            "epoch:  5\n",
            "loss:  tf.Tensor(1.3278171, shape=(), dtype=float32)\n",
            "accuracy:  tf.Tensor(0.5618508, shape=(), dtype=float32)\n",
            "val loss:  tf.Tensor(1.6585528, shape=(), dtype=float32)\n",
            "val accuracy:  tf.Tensor(0.37711865, shape=(), dtype=float32)\n"
          ]
        },
        {
          "output_type": "stream",
          "name": "stderr",
          "text": [
            "100%|██████████| 34/34 [00:26<00:00,  1.29it/s]\n",
            "100%|██████████| 8/8 [00:04<00:00,  1.90it/s]\n"
          ]
        },
        {
          "output_type": "stream",
          "name": "stdout",
          "text": [
            "epoch:  6\n",
            "loss:  tf.Tensor(1.0282441, shape=(), dtype=float32)\n",
            "accuracy:  tf.Tensor(0.68014705, shape=(), dtype=float32)\n",
            "val loss:  tf.Tensor(1.2188427, shape=(), dtype=float32)\n",
            "val accuracy:  tf.Tensor(0.66101694, shape=(), dtype=float32)\n"
          ]
        },
        {
          "output_type": "stream",
          "name": "stderr",
          "text": [
            "100%|██████████| 34/34 [00:25<00:00,  1.32it/s]\n",
            "100%|██████████| 8/8 [00:04<00:00,  1.72it/s]\n"
          ]
        },
        {
          "output_type": "stream",
          "name": "stdout",
          "text": [
            "epoch:  7\n",
            "loss:  tf.Tensor(0.6791688, shape=(), dtype=float32)\n",
            "accuracy:  tf.Tensor(0.7865911, shape=(), dtype=float32)\n",
            "val loss:  tf.Tensor(1.1762974, shape=(), dtype=float32)\n",
            "val accuracy:  tf.Tensor(0.7265625, shape=(), dtype=float32)\n"
          ]
        },
        {
          "output_type": "stream",
          "name": "stderr",
          "text": [
            "100%|██████████| 34/34 [00:25<00:00,  1.31it/s]\n",
            "100%|██████████| 8/8 [00:04<00:00,  1.89it/s]\n"
          ]
        },
        {
          "output_type": "stream",
          "name": "stdout",
          "text": [
            "epoch:  8\n",
            "loss:  tf.Tensor(0.649393, shape=(), dtype=float32)\n",
            "accuracy:  tf.Tensor(0.79225683, shape=(), dtype=float32)\n",
            "val loss:  tf.Tensor(0.98336744, shape=(), dtype=float32)\n",
            "val accuracy:  tf.Tensor(0.779661, shape=(), dtype=float32)\n"
          ]
        },
        {
          "output_type": "stream",
          "name": "stderr",
          "text": [
            "100%|██████████| 34/34 [00:25<00:00,  1.32it/s]\n",
            "100%|██████████| 8/8 [00:04<00:00,  1.86it/s]\n"
          ]
        },
        {
          "output_type": "stream",
          "name": "stdout",
          "text": [
            "epoch:  9\n",
            "loss:  tf.Tensor(0.44922942, shape=(), dtype=float32)\n",
            "accuracy:  tf.Tensor(0.8677998, shape=(), dtype=float32)\n",
            "val loss:  tf.Tensor(1.3557341, shape=(), dtype=float32)\n",
            "val accuracy:  tf.Tensor(0.7118644, shape=(), dtype=float32)\n"
          ]
        },
        {
          "output_type": "stream",
          "name": "stderr",
          "text": [
            "100%|██████████| 34/34 [00:25<00:00,  1.32it/s]\n",
            "100%|██████████| 8/8 [00:04<00:00,  1.88it/s]\n"
          ]
        },
        {
          "output_type": "stream",
          "name": "stdout",
          "text": [
            "epoch:  10\n",
            "loss:  tf.Tensor(0.20466623, shape=(), dtype=float32)\n",
            "accuracy:  tf.Tensor(0.9348442, shape=(), dtype=float32)\n",
            "val loss:  tf.Tensor(1.2182424, shape=(), dtype=float32)\n",
            "val accuracy:  tf.Tensor(0.720339, shape=(), dtype=float32)\n"
          ]
        },
        {
          "output_type": "stream",
          "name": "stderr",
          "text": [
            "100%|██████████| 34/34 [00:25<00:00,  1.31it/s]\n",
            "100%|██████████| 8/8 [00:04<00:00,  1.85it/s]\n"
          ]
        },
        {
          "output_type": "stream",
          "name": "stdout",
          "text": [
            "epoch:  11\n",
            "loss:  tf.Tensor(0.10080881, shape=(), dtype=float32)\n",
            "accuracy:  tf.Tensor(0.9716714, shape=(), dtype=float32)\n",
            "val loss:  tf.Tensor(1.1131198, shape=(), dtype=float32)\n",
            "val accuracy:  tf.Tensor(0.7542373, shape=(), dtype=float32)\n"
          ]
        },
        {
          "output_type": "stream",
          "name": "stderr",
          "text": [
            "100%|██████████| 34/34 [00:25<00:00,  1.31it/s]\n",
            "100%|██████████| 8/8 [00:04<00:00,  1.88it/s]\n"
          ]
        },
        {
          "output_type": "stream",
          "name": "stdout",
          "text": [
            "epoch:  12\n",
            "loss:  tf.Tensor(0.077875, shape=(), dtype=float32)\n",
            "accuracy:  tf.Tensor(0.9763928, shape=(), dtype=float32)\n",
            "val loss:  tf.Tensor(1.6272293, shape=(), dtype=float32)\n",
            "val accuracy:  tf.Tensor(0.7245763, shape=(), dtype=float32)\n"
          ]
        },
        {
          "output_type": "stream",
          "name": "stderr",
          "text": [
            "100%|██████████| 34/34 [00:25<00:00,  1.32it/s]\n",
            "100%|██████████| 8/8 [00:04<00:00,  1.85it/s]\n"
          ]
        },
        {
          "output_type": "stream",
          "name": "stdout",
          "text": [
            "epoch:  13\n",
            "loss:  tf.Tensor(0.08069799, shape=(), dtype=float32)\n",
            "accuracy:  tf.Tensor(0.97261566, shape=(), dtype=float32)\n",
            "val loss:  tf.Tensor(1.8111057, shape=(), dtype=float32)\n",
            "val accuracy:  tf.Tensor(0.7245763, shape=(), dtype=float32)\n"
          ]
        },
        {
          "output_type": "stream",
          "name": "stderr",
          "text": [
            "100%|██████████| 34/34 [00:25<00:00,  1.31it/s]\n",
            "100%|██████████| 8/8 [00:04<00:00,  1.89it/s]\n"
          ]
        },
        {
          "output_type": "stream",
          "name": "stdout",
          "text": [
            "epoch:  14\n",
            "loss:  tf.Tensor(0.030217068, shape=(), dtype=float32)\n",
            "accuracy:  tf.Tensor(0.98772424, shape=(), dtype=float32)\n",
            "val loss:  tf.Tensor(1.3446612, shape=(), dtype=float32)\n",
            "val accuracy:  tf.Tensor(0.8262712, shape=(), dtype=float32)\n"
          ]
        },
        {
          "output_type": "stream",
          "name": "stderr",
          "text": [
            "100%|██████████| 34/34 [00:25<00:00,  1.32it/s]\n",
            "100%|██████████| 8/8 [00:04<00:00,  1.89it/s]\n"
          ]
        },
        {
          "output_type": "stream",
          "name": "stdout",
          "text": [
            "epoch:  15\n",
            "loss:  tf.Tensor(0.026532037, shape=(), dtype=float32)\n",
            "accuracy:  tf.Tensor(0.99338996, shape=(), dtype=float32)\n",
            "val loss:  tf.Tensor(1.8061068, shape=(), dtype=float32)\n",
            "val accuracy:  tf.Tensor(0.7076271, shape=(), dtype=float32)\n"
          ]
        },
        {
          "output_type": "stream",
          "name": "stderr",
          "text": [
            "100%|██████████| 34/34 [00:25<00:00,  1.33it/s]\n",
            "100%|██████████| 8/8 [00:04<00:00,  1.77it/s]\n"
          ]
        },
        {
          "output_type": "stream",
          "name": "stdout",
          "text": [
            "epoch:  16\n",
            "loss:  tf.Tensor(0.023925249, shape=(), dtype=float32)\n",
            "accuracy:  tf.Tensor(0.9915014, shape=(), dtype=float32)\n",
            "val loss:  tf.Tensor(1.6866026, shape=(), dtype=float32)\n",
            "val accuracy:  tf.Tensor(0.75, shape=(), dtype=float32)\n"
          ]
        },
        {
          "output_type": "stream",
          "name": "stderr",
          "text": [
            "100%|██████████| 34/34 [00:25<00:00,  1.32it/s]\n",
            "100%|██████████| 8/8 [00:04<00:00,  1.88it/s]\n"
          ]
        },
        {
          "output_type": "stream",
          "name": "stdout",
          "text": [
            "epoch:  17\n",
            "loss:  tf.Tensor(0.033549987, shape=(), dtype=float32)\n",
            "accuracy:  tf.Tensor(0.99055713, shape=(), dtype=float32)\n",
            "val loss:  tf.Tensor(1.6738484, shape=(), dtype=float32)\n",
            "val accuracy:  tf.Tensor(0.7542373, shape=(), dtype=float32)\n"
          ]
        },
        {
          "output_type": "stream",
          "name": "stderr",
          "text": [
            "100%|██████████| 34/34 [00:25<00:00,  1.33it/s]\n",
            "100%|██████████| 8/8 [00:04<00:00,  1.88it/s]\n"
          ]
        },
        {
          "output_type": "stream",
          "name": "stdout",
          "text": [
            "epoch:  18\n",
            "loss:  tf.Tensor(0.06523945, shape=(), dtype=float32)\n",
            "accuracy:  tf.Tensor(0.98111427, shape=(), dtype=float32)\n",
            "val loss:  tf.Tensor(1.311678, shape=(), dtype=float32)\n",
            "val accuracy:  tf.Tensor(0.7584746, shape=(), dtype=float32)\n"
          ]
        },
        {
          "output_type": "stream",
          "name": "stderr",
          "text": [
            "100%|██████████| 34/34 [00:25<00:00,  1.32it/s]\n",
            "100%|██████████| 8/8 [00:04<00:00,  1.87it/s]\n"
          ]
        },
        {
          "output_type": "stream",
          "name": "stdout",
          "text": [
            "epoch:  19\n",
            "loss:  tf.Tensor(0.05439896, shape=(), dtype=float32)\n",
            "accuracy:  tf.Tensor(0.98300284, shape=(), dtype=float32)\n",
            "val loss:  tf.Tensor(1.478708, shape=(), dtype=float32)\n",
            "val accuracy:  tf.Tensor(0.7415254, shape=(), dtype=float32)\n"
          ]
        },
        {
          "output_type": "stream",
          "name": "stderr",
          "text": [
            "100%|██████████| 34/34 [00:25<00:00,  1.33it/s]\n",
            "100%|██████████| 8/8 [00:04<00:00,  1.90it/s]\n"
          ]
        },
        {
          "output_type": "stream",
          "name": "stdout",
          "text": [
            "epoch:  20\n",
            "loss:  tf.Tensor(0.03277657, shape=(), dtype=float32)\n",
            "accuracy:  tf.Tensor(0.98866856, shape=(), dtype=float32)\n",
            "val loss:  tf.Tensor(1.7775911, shape=(), dtype=float32)\n",
            "val accuracy:  tf.Tensor(0.7627119, shape=(), dtype=float32)\n"
          ]
        },
        {
          "output_type": "stream",
          "name": "stderr",
          "text": [
            "100%|██████████| 34/34 [00:25<00:00,  1.33it/s]\n",
            "100%|██████████| 8/8 [00:04<00:00,  1.88it/s]\n"
          ]
        },
        {
          "output_type": "stream",
          "name": "stdout",
          "text": [
            "epoch:  21\n",
            "loss:  tf.Tensor(0.07874066, shape=(), dtype=float32)\n",
            "accuracy:  tf.Tensor(0.98016995, shape=(), dtype=float32)\n",
            "val loss:  tf.Tensor(1.7043731, shape=(), dtype=float32)\n",
            "val accuracy:  tf.Tensor(0.7415254, shape=(), dtype=float32)\n"
          ]
        },
        {
          "output_type": "stream",
          "name": "stderr",
          "text": [
            "100%|██████████| 34/34 [00:25<00:00,  1.32it/s]\n",
            "100%|██████████| 8/8 [00:04<00:00,  1.90it/s]\n"
          ]
        },
        {
          "output_type": "stream",
          "name": "stdout",
          "text": [
            "epoch:  22\n",
            "loss:  tf.Tensor(0.04146344, shape=(), dtype=float32)\n",
            "accuracy:  tf.Tensor(0.98772424, shape=(), dtype=float32)\n",
            "val loss:  tf.Tensor(1.7260215, shape=(), dtype=float32)\n",
            "val accuracy:  tf.Tensor(0.7372881, shape=(), dtype=float32)\n"
          ]
        },
        {
          "output_type": "stream",
          "name": "stderr",
          "text": [
            "100%|██████████| 34/34 [00:25<00:00,  1.32it/s]\n",
            "100%|██████████| 8/8 [00:04<00:00,  1.86it/s]\n"
          ]
        },
        {
          "output_type": "stream",
          "name": "stdout",
          "text": [
            "epoch:  23\n",
            "loss:  tf.Tensor(0.013419177, shape=(), dtype=float32)\n",
            "accuracy:  tf.Tensor(0.99527854, shape=(), dtype=float32)\n",
            "val loss:  tf.Tensor(1.4339488, shape=(), dtype=float32)\n",
            "val accuracy:  tf.Tensor(0.8177966, shape=(), dtype=float32)\n"
          ]
        },
        {
          "output_type": "stream",
          "name": "stderr",
          "text": [
            "100%|██████████| 34/34 [00:25<00:00,  1.32it/s]\n",
            "100%|██████████| 8/8 [00:04<00:00,  1.89it/s]\n"
          ]
        },
        {
          "output_type": "stream",
          "name": "stdout",
          "text": [
            "epoch:  24\n",
            "loss:  tf.Tensor(0.03432563, shape=(), dtype=float32)\n",
            "accuracy:  tf.Tensor(0.98866856, shape=(), dtype=float32)\n",
            "val loss:  tf.Tensor(2.060598, shape=(), dtype=float32)\n",
            "val accuracy:  tf.Tensor(0.7330508, shape=(), dtype=float32)\n"
          ]
        },
        {
          "output_type": "stream",
          "name": "stderr",
          "text": [
            "100%|██████████| 34/34 [00:25<00:00,  1.32it/s]\n",
            "100%|██████████| 8/8 [00:04<00:00,  1.74it/s]\n"
          ]
        },
        {
          "output_type": "stream",
          "name": "stdout",
          "text": [
            "epoch:  25\n",
            "loss:  tf.Tensor(0.028159184, shape=(), dtype=float32)\n",
            "accuracy:  tf.Tensor(0.99055713, shape=(), dtype=float32)\n",
            "val loss:  tf.Tensor(1.3554102, shape=(), dtype=float32)\n",
            "val accuracy:  tf.Tensor(0.828125, shape=(), dtype=float32)\n"
          ]
        },
        {
          "output_type": "stream",
          "name": "stderr",
          "text": [
            "100%|██████████| 34/34 [00:25<00:00,  1.32it/s]\n",
            "100%|██████████| 8/8 [00:04<00:00,  1.87it/s]\n"
          ]
        },
        {
          "output_type": "stream",
          "name": "stdout",
          "text": [
            "epoch:  26\n",
            "loss:  tf.Tensor(0.0012865087, shape=(), dtype=float32)\n",
            "accuracy:  tf.Tensor(1.0, shape=(), dtype=float32)\n",
            "val loss:  tf.Tensor(1.3543336, shape=(), dtype=float32)\n",
            "val accuracy:  tf.Tensor(0.8220339, shape=(), dtype=float32)\n"
          ]
        },
        {
          "output_type": "stream",
          "name": "stderr",
          "text": [
            "100%|██████████| 34/34 [00:25<00:00,  1.31it/s]\n",
            "100%|██████████| 8/8 [00:04<00:00,  1.88it/s]\n"
          ]
        },
        {
          "output_type": "stream",
          "name": "stdout",
          "text": [
            "epoch:  27\n",
            "loss:  tf.Tensor(0.0012648893, shape=(), dtype=float32)\n",
            "accuracy:  tf.Tensor(1.0, shape=(), dtype=float32)\n",
            "val loss:  tf.Tensor(1.8521767, shape=(), dtype=float32)\n",
            "val accuracy:  tf.Tensor(0.779661, shape=(), dtype=float32)\n"
          ]
        },
        {
          "output_type": "stream",
          "name": "stderr",
          "text": [
            "100%|██████████| 34/34 [00:25<00:00,  1.33it/s]\n",
            "100%|██████████| 8/8 [00:04<00:00,  1.88it/s]\n"
          ]
        },
        {
          "output_type": "stream",
          "name": "stdout",
          "text": [
            "epoch:  28\n",
            "loss:  tf.Tensor(0.00014471982, shape=(), dtype=float32)\n",
            "accuracy:  tf.Tensor(1.0, shape=(), dtype=float32)\n",
            "val loss:  tf.Tensor(1.7994089, shape=(), dtype=float32)\n",
            "val accuracy:  tf.Tensor(0.7923729, shape=(), dtype=float32)\n"
          ]
        },
        {
          "output_type": "stream",
          "name": "stderr",
          "text": [
            "100%|██████████| 34/34 [00:25<00:00,  1.33it/s]\n",
            "100%|██████████| 8/8 [00:04<00:00,  1.88it/s]\n"
          ]
        },
        {
          "output_type": "stream",
          "name": "stdout",
          "text": [
            "epoch:  29\n",
            "loss:  tf.Tensor(4.826682e-05, shape=(), dtype=float32)\n",
            "accuracy:  tf.Tensor(1.0, shape=(), dtype=float32)\n",
            "val loss:  tf.Tensor(1.6397547, shape=(), dtype=float32)\n",
            "val accuracy:  tf.Tensor(0.7966102, shape=(), dtype=float32)\n"
          ]
        },
        {
          "output_type": "stream",
          "name": "stderr",
          "text": [
            "100%|██████████| 34/34 [00:25<00:00,  1.33it/s]\n",
            "100%|██████████| 8/8 [00:04<00:00,  1.89it/s]"
          ]
        },
        {
          "output_type": "stream",
          "name": "stdout",
          "text": [
            "epoch:  30\n",
            "loss:  tf.Tensor(3.588354e-05, shape=(), dtype=float32)\n",
            "accuracy:  tf.Tensor(1.0, shape=(), dtype=float32)\n",
            "val loss:  tf.Tensor(1.7968082, shape=(), dtype=float32)\n",
            "val accuracy:  tf.Tensor(0.7881356, shape=(), dtype=float32)\n"
          ]
        },
        {
          "output_type": "stream",
          "name": "stderr",
          "text": [
            "\n"
          ]
        }
      ]
    },
    {
      "cell_type": "code",
      "metadata": {
        "id": "8ivo8ohKjBR1"
      },
      "source": [
        "model.save_weights(filepath='checkpoint',save_format='HDF5')\n",
        "# model.save('faces.h5')"
      ],
      "execution_count": 17,
      "outputs": []
    }
  ]
}