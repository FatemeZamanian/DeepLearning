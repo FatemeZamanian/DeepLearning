{
  "nbformat": 4,
  "nbformat_minor": 0,
  "metadata": {
    "colab": {
      "name": "MaskRecognitionTrain.ipynb",
      "provenance": [],
      "authorship_tag": "ABX9TyPJg922mM6cwNXb9zzGmgpY",
      "include_colab_link": true
    },
    "kernelspec": {
      "name": "python3",
      "display_name": "Python 3"
    },
    "language_info": {
      "name": "python"
    },
    "accelerator": "GPU"
  },
  "cells": [
    {
      "cell_type": "markdown",
      "metadata": {
        "id": "view-in-github",
        "colab_type": "text"
      },
      "source": [
        "<a href=\"https://colab.research.google.com/github/FatemeZamanian/DeepLearning/blob/main/MaskRecognition/MaskRecognitionTrain.ipynb\" target=\"_parent\"><img src=\"https://colab.research.google.com/assets/colab-badge.svg\" alt=\"Open In Colab\"/></a>"
      ]
    },
    {
      "cell_type": "code",
      "metadata": {
        "id": "Zh5aBk0Dz49q"
      },
      "source": [
        "!pip install kaggle\n",
        "!mkdir ~/.kaggle\n",
        "!cp kaggle.json ~/.kaggle"
      ],
      "execution_count": null,
      "outputs": []
    },
    {
      "cell_type": "code",
      "metadata": {
        "id": "kfOOfph40A2m"
      },
      "source": [
        "!kaggle datasets download -d ashishjangra27/face-mask-12k-images-dataset"
      ],
      "execution_count": null,
      "outputs": []
    },
    {
      "cell_type": "code",
      "metadata": {
        "id": "W0a_UqOQ0NRD"
      },
      "source": [
        "!unzip -qq face-mask-12k-images-dataset.zip"
      ],
      "execution_count": null,
      "outputs": []
    },
    {
      "cell_type": "code",
      "metadata": {
        "id": "ZpyjtBbP0Y65"
      },
      "source": [
        "from tensorflow.keras import models,layers\n",
        "from tensorflow.keras.preprocessing.image import ImageDataGenerator\n",
        "import tensorflow as tf"
      ],
      "execution_count": null,
      "outputs": []
    },
    {
      "cell_type": "code",
      "metadata": {
        "id": "I4hK08x60zQ9"
      },
      "source": [
        "width=height=224\n",
        "batch_size=32"
      ],
      "execution_count": null,
      "outputs": []
    },
    {
      "cell_type": "code",
      "metadata": {
        "id": "uiohg_BCd8u_",
        "colab": {
          "base_uri": "https://localhost:8080/"
        },
        "outputId": "f54d742e-83cf-400c-cf00-9638b802e81a"
      },
      "source": [
        "data_generator=ImageDataGenerator(\n",
        "    rescale=1./255,\n",
        "    horizontal_flip=True,\n",
        ")\n",
        "train_data=data_generator.flow_from_directory(\n",
        "    \"Face Mask Dataset/Train\",\n",
        "    target_size=(width,height),\n",
        "    class_mode='categorical',\n",
        "    batch_size=batch_size,\n",
        "    shuffle=True,\n",
        ")\n",
        "\n",
        "val_data=data_generator.flow_from_directory(\n",
        "    \"Face Mask Dataset/Validation\",\n",
        "    target_size=(width,height),\n",
        "    class_mode='categorical',\n",
        "    batch_size=batch_size,\n",
        "    shuffle=True,\n",
        ")\n",
        "\n",
        "test_data=data_generator.flow_from_directory(\n",
        "    \"Face Mask Dataset/Test\",\n",
        "    target_size=(width,height),\n",
        "    class_mode='categorical',\n",
        "    batch_size=batch_size,\n",
        "    shuffle=False,\n",
        ")"
      ],
      "execution_count": null,
      "outputs": [
        {
          "output_type": "stream",
          "name": "stdout",
          "text": [
            "Found 10000 images belonging to 2 classes.\n",
            "Found 800 images belonging to 2 classes.\n",
            "Found 992 images belonging to 2 classes.\n"
          ]
        }
      ]
    },
    {
      "cell_type": "code",
      "metadata": {
        "id": "r6uwLukl1MTo"
      },
      "source": [
        "model_r=tf.keras.applications.ResNet50V2(\n",
        "    input_shape=(width,height,3),\n",
        "    include_top=False,\n",
        "    weights='imagenet',\n",
        "    pooling='max'\n",
        ")\n",
        "# model_r.summary()"
      ],
      "execution_count": null,
      "outputs": []
    },
    {
      "cell_type": "code",
      "metadata": {
        "id": "pXoyNngx19x2"
      },
      "source": [
        "for layer in model_r.layers[:-2]:\n",
        "  layer.trainable=False"
      ],
      "execution_count": null,
      "outputs": []
    },
    {
      "cell_type": "code",
      "metadata": {
        "id": "0soXxV6A2ECH"
      },
      "source": [
        "model=tf.keras.Sequential([\n",
        "        model_r,\n",
        "        layers.Dense(2,activation='softmax'),\n",
        "])"
      ],
      "execution_count": null,
      "outputs": []
    },
    {
      "cell_type": "code",
      "metadata": {
        "id": "svdol7e22IUj"
      },
      "source": [
        "model.compile(optimizer=tf.keras.optimizers.Adam(learning_rate=0.001 ),\n",
        "              loss=tf.keras.losses.categorical_crossentropy,\n",
        "              metrics=['accuracy'],)"
      ],
      "execution_count": null,
      "outputs": []
    },
    {
      "cell_type": "code",
      "metadata": {
        "colab": {
          "base_uri": "https://localhost:8080/"
        },
        "id": "a_BjAvsM2StC",
        "outputId": "c8992dcd-a93b-449b-e5dd-f2a50f80eba1"
      },
      "source": [
        "model.fit(train_data,\n",
        "          steps_per_epoch=train_data.samples/batch_size,\n",
        "          validation_data=val_data,\n",
        "          validation_steps=val_data.samples/batch_size,\n",
        "          epochs=5,\n",
        "\n",
        ")"
      ],
      "execution_count": null,
      "outputs": [
        {
          "output_type": "stream",
          "name": "stdout",
          "text": [
            "Epoch 1/5\n",
            "312/312 [==============================] - 104s 223ms/step - loss: 0.1031 - accuracy: 0.9838 - val_loss: 0.0257 - val_accuracy: 0.9962\n",
            "Epoch 2/5\n",
            "312/312 [==============================] - 67s 215ms/step - loss: 0.0288 - accuracy: 0.9962 - val_loss: 0.0166 - val_accuracy: 0.9937\n",
            "Epoch 3/5\n",
            "312/312 [==============================] - 67s 215ms/step - loss: 0.0167 - accuracy: 0.9973 - val_loss: 0.0096 - val_accuracy: 0.9975\n",
            "Epoch 4/5\n",
            "312/312 [==============================] - 67s 215ms/step - loss: 0.0181 - accuracy: 0.9967 - val_loss: 0.0056 - val_accuracy: 0.9987\n",
            "Epoch 5/5\n",
            "312/312 [==============================] - 67s 215ms/step - loss: 0.0035 - accuracy: 0.9991 - val_loss: 9.7532e-06 - val_accuracy: 1.0000\n"
          ]
        },
        {
          "output_type": "execute_result",
          "data": {
            "text/plain": [
              "<keras.callbacks.History at 0x7fa7f1276b10>"
            ]
          },
          "metadata": {},
          "execution_count": 11
        }
      ]
    },
    {
      "cell_type": "code",
      "metadata": {
        "colab": {
          "base_uri": "https://localhost:8080/"
        },
        "id": "MPSbmyHYRn70",
        "outputId": "d2b8df18-7236-413d-fd49-067644bc5084"
      },
      "source": [
        "model.evaluate(test_data)"
      ],
      "execution_count": null,
      "outputs": [
        {
          "output_type": "stream",
          "name": "stdout",
          "text": [
            "31/31 [==============================] - 6s 199ms/step - loss: 2.8885e-05 - accuracy: 1.0000\n"
          ]
        },
        {
          "output_type": "execute_result",
          "data": {
            "text/plain": [
              "[2.8885277060908265e-05, 1.0]"
            ]
          },
          "metadata": {},
          "execution_count": 12
        }
      ]
    },
    {
      "cell_type": "code",
      "metadata": {
        "id": "2HakSw-u3AZ-"
      },
      "source": [
        "model.save('maskrec.h5')"
      ],
      "execution_count": null,
      "outputs": []
    },
    {
      "cell_type": "code",
      "metadata": {
        "colab": {
          "base_uri": "https://localhost:8080/"
        },
        "id": "2-ch_dIiNh8T",
        "outputId": "3649d2b9-bb11-40d1-fe48-9753081e2c36"
      },
      "source": [
        "from sklearn.metrics import classification_report, confusion_matrix\n",
        "import numpy as np\n",
        "Y_pred = model.predict(test_data)\n",
        "y_pred = np.argmax(Y_pred, axis = 1)\n",
        "print('confusion Matrix')\n",
        "print(confusion_matrix(test_data.classes, y_pred))\n",
        "\n",
        "target_names = list(test_data.class_indices.keys())\n",
        "print('Classification Report')\n",
        "print(classification_report(test_data.classes, y_pred, target_names=target_names))"
      ],
      "execution_count": null,
      "outputs": [
        {
          "output_type": "stream",
          "name": "stdout",
          "text": [
            "confusion Matrix\n",
            "[[483   0]\n",
            " [  0 509]]\n",
            "Classification Report\n",
            "              precision    recall  f1-score   support\n",
            "\n",
            "    WithMask       1.00      1.00      1.00       483\n",
            " WithoutMask       1.00      1.00      1.00       509\n",
            "\n",
            "    accuracy                           1.00       992\n",
            "   macro avg       1.00      1.00      1.00       992\n",
            "weighted avg       1.00      1.00      1.00       992\n",
            "\n"
          ]
        }
      ]
    }
  ]
}