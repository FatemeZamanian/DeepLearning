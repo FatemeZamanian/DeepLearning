{
  "nbformat": 4,
  "nbformat_minor": 0,
  "metadata": {
    "colab": {
      "name": "Fashion-Mnist.ipynb",
      "provenance": []
    },
    "kernelspec": {
      "name": "python3",
      "display_name": "Python 3"
    },
    "language_info": {
      "name": "python"
    },
    "accelerator": "GPU",
    "widgets": {
      "application/vnd.jupyter.widget-state+json": {
        "177be94c7ab74afe9ca3119226ff1686": {
          "model_module": "@jupyter-widgets/controls",
          "model_name": "VBoxModel",
          "model_module_version": "1.5.0",
          "state": {
            "_dom_classes": [],
            "_model_module": "@jupyter-widgets/controls",
            "_model_module_version": "1.5.0",
            "_model_name": "VBoxModel",
            "_view_count": null,
            "_view_module": "@jupyter-widgets/controls",
            "_view_module_version": "1.5.0",
            "_view_name": "VBoxView",
            "box_style": "",
            "children": [
              "IPY_MODEL_e27825c5e1a64892bd81bc0f5412f0be",
              "IPY_MODEL_bf83027042d04386883f7f1a7bfa6cf9"
            ],
            "layout": "IPY_MODEL_d24d94eaeec84b63ba39a66fc2107907"
          }
        },
        "e27825c5e1a64892bd81bc0f5412f0be": {
          "model_module": "@jupyter-widgets/controls",
          "model_name": "LabelModel",
          "model_module_version": "1.5.0",
          "state": {
            "_dom_classes": [],
            "_model_module": "@jupyter-widgets/controls",
            "_model_module_version": "1.5.0",
            "_model_name": "LabelModel",
            "_view_count": null,
            "_view_module": "@jupyter-widgets/controls",
            "_view_module_version": "1.5.0",
            "_view_name": "LabelView",
            "description": "",
            "description_tooltip": null,
            "layout": "IPY_MODEL_c929092407fa495aa7a58d66ac637db8",
            "placeholder": "​",
            "style": "IPY_MODEL_f0a4a2836498468c9c1cf89f52ef9a92",
            "value": "0.012 MB of 0.012 MB uploaded (0.000 MB deduped)\r"
          }
        },
        "bf83027042d04386883f7f1a7bfa6cf9": {
          "model_module": "@jupyter-widgets/controls",
          "model_name": "FloatProgressModel",
          "model_module_version": "1.5.0",
          "state": {
            "_dom_classes": [],
            "_model_module": "@jupyter-widgets/controls",
            "_model_module_version": "1.5.0",
            "_model_name": "FloatProgressModel",
            "_view_count": null,
            "_view_module": "@jupyter-widgets/controls",
            "_view_module_version": "1.5.0",
            "_view_name": "ProgressView",
            "bar_style": "",
            "description": "",
            "description_tooltip": null,
            "layout": "IPY_MODEL_7ac04537eee141f6940db10af889de1a",
            "max": 1,
            "min": 0,
            "orientation": "horizontal",
            "style": "IPY_MODEL_ee3873852c57412ca37c0ea4cad9d638",
            "value": 1
          }
        },
        "d24d94eaeec84b63ba39a66fc2107907": {
          "model_module": "@jupyter-widgets/base",
          "model_name": "LayoutModel",
          "model_module_version": "1.2.0",
          "state": {
            "_model_module": "@jupyter-widgets/base",
            "_model_module_version": "1.2.0",
            "_model_name": "LayoutModel",
            "_view_count": null,
            "_view_module": "@jupyter-widgets/base",
            "_view_module_version": "1.2.0",
            "_view_name": "LayoutView",
            "align_content": null,
            "align_items": null,
            "align_self": null,
            "border": null,
            "bottom": null,
            "display": null,
            "flex": null,
            "flex_flow": null,
            "grid_area": null,
            "grid_auto_columns": null,
            "grid_auto_flow": null,
            "grid_auto_rows": null,
            "grid_column": null,
            "grid_gap": null,
            "grid_row": null,
            "grid_template_areas": null,
            "grid_template_columns": null,
            "grid_template_rows": null,
            "height": null,
            "justify_content": null,
            "justify_items": null,
            "left": null,
            "margin": null,
            "max_height": null,
            "max_width": null,
            "min_height": null,
            "min_width": null,
            "object_fit": null,
            "object_position": null,
            "order": null,
            "overflow": null,
            "overflow_x": null,
            "overflow_y": null,
            "padding": null,
            "right": null,
            "top": null,
            "visibility": null,
            "width": null
          }
        },
        "c929092407fa495aa7a58d66ac637db8": {
          "model_module": "@jupyter-widgets/base",
          "model_name": "LayoutModel",
          "model_module_version": "1.2.0",
          "state": {
            "_model_module": "@jupyter-widgets/base",
            "_model_module_version": "1.2.0",
            "_model_name": "LayoutModel",
            "_view_count": null,
            "_view_module": "@jupyter-widgets/base",
            "_view_module_version": "1.2.0",
            "_view_name": "LayoutView",
            "align_content": null,
            "align_items": null,
            "align_self": null,
            "border": null,
            "bottom": null,
            "display": null,
            "flex": null,
            "flex_flow": null,
            "grid_area": null,
            "grid_auto_columns": null,
            "grid_auto_flow": null,
            "grid_auto_rows": null,
            "grid_column": null,
            "grid_gap": null,
            "grid_row": null,
            "grid_template_areas": null,
            "grid_template_columns": null,
            "grid_template_rows": null,
            "height": null,
            "justify_content": null,
            "justify_items": null,
            "left": null,
            "margin": null,
            "max_height": null,
            "max_width": null,
            "min_height": null,
            "min_width": null,
            "object_fit": null,
            "object_position": null,
            "order": null,
            "overflow": null,
            "overflow_x": null,
            "overflow_y": null,
            "padding": null,
            "right": null,
            "top": null,
            "visibility": null,
            "width": null
          }
        },
        "f0a4a2836498468c9c1cf89f52ef9a92": {
          "model_module": "@jupyter-widgets/controls",
          "model_name": "DescriptionStyleModel",
          "model_module_version": "1.5.0",
          "state": {
            "_model_module": "@jupyter-widgets/controls",
            "_model_module_version": "1.5.0",
            "_model_name": "DescriptionStyleModel",
            "_view_count": null,
            "_view_module": "@jupyter-widgets/base",
            "_view_module_version": "1.2.0",
            "_view_name": "StyleView",
            "description_width": ""
          }
        },
        "7ac04537eee141f6940db10af889de1a": {
          "model_module": "@jupyter-widgets/base",
          "model_name": "LayoutModel",
          "model_module_version": "1.2.0",
          "state": {
            "_model_module": "@jupyter-widgets/base",
            "_model_module_version": "1.2.0",
            "_model_name": "LayoutModel",
            "_view_count": null,
            "_view_module": "@jupyter-widgets/base",
            "_view_module_version": "1.2.0",
            "_view_name": "LayoutView",
            "align_content": null,
            "align_items": null,
            "align_self": null,
            "border": null,
            "bottom": null,
            "display": null,
            "flex": null,
            "flex_flow": null,
            "grid_area": null,
            "grid_auto_columns": null,
            "grid_auto_flow": null,
            "grid_auto_rows": null,
            "grid_column": null,
            "grid_gap": null,
            "grid_row": null,
            "grid_template_areas": null,
            "grid_template_columns": null,
            "grid_template_rows": null,
            "height": null,
            "justify_content": null,
            "justify_items": null,
            "left": null,
            "margin": null,
            "max_height": null,
            "max_width": null,
            "min_height": null,
            "min_width": null,
            "object_fit": null,
            "object_position": null,
            "order": null,
            "overflow": null,
            "overflow_x": null,
            "overflow_y": null,
            "padding": null,
            "right": null,
            "top": null,
            "visibility": null,
            "width": null
          }
        },
        "ee3873852c57412ca37c0ea4cad9d638": {
          "model_module": "@jupyter-widgets/controls",
          "model_name": "ProgressStyleModel",
          "model_module_version": "1.5.0",
          "state": {
            "_model_module": "@jupyter-widgets/controls",
            "_model_module_version": "1.5.0",
            "_model_name": "ProgressStyleModel",
            "_view_count": null,
            "_view_module": "@jupyter-widgets/base",
            "_view_module_version": "1.2.0",
            "_view_name": "StyleView",
            "bar_color": null,
            "description_width": ""
          }
        }
      }
    }
  },
  "cells": [
    {
      "cell_type": "code",
      "execution_count": 63,
      "metadata": {
        "id": "28l8R-OXPApk"
      },
      "outputs": [],
      "source": [
        "import torch\n",
        "import torchvision"
      ]
    },
    {
      "cell_type": "code",
      "source": [
        "!pip install wandb"
      ],
      "metadata": {
        "colab": {
          "base_uri": "https://localhost:8080/"
        },
        "id": "EYt4YNHsYA0U",
        "outputId": "61467ae5-a46d-4d79-91be-a3a68781adce"
      },
      "execution_count": 64,
      "outputs": [
        {
          "output_type": "stream",
          "name": "stdout",
          "text": [
            "Requirement already satisfied: wandb in /usr/local/lib/python3.7/dist-packages (0.12.15)\n",
            "Requirement already satisfied: sentry-sdk>=1.0.0 in /usr/local/lib/python3.7/dist-packages (from wandb) (1.5.10)\n",
            "Requirement already satisfied: promise<3,>=2.0 in /usr/local/lib/python3.7/dist-packages (from wandb) (2.3)\n",
            "Requirement already satisfied: requests<3,>=2.0.0 in /usr/local/lib/python3.7/dist-packages (from wandb) (2.23.0)\n",
            "Requirement already satisfied: docker-pycreds>=0.4.0 in /usr/local/lib/python3.7/dist-packages (from wandb) (0.4.0)\n",
            "Requirement already satisfied: PyYAML in /usr/local/lib/python3.7/dist-packages (from wandb) (3.13)\n",
            "Requirement already satisfied: shortuuid>=0.5.0 in /usr/local/lib/python3.7/dist-packages (from wandb) (1.0.8)\n",
            "Requirement already satisfied: pathtools in /usr/local/lib/python3.7/dist-packages (from wandb) (0.1.2)\n",
            "Requirement already satisfied: GitPython>=1.0.0 in /usr/local/lib/python3.7/dist-packages (from wandb) (3.1.27)\n",
            "Requirement already satisfied: psutil>=5.0.0 in /usr/local/lib/python3.7/dist-packages (from wandb) (5.4.8)\n",
            "Requirement already satisfied: six>=1.13.0 in /usr/local/lib/python3.7/dist-packages (from wandb) (1.15.0)\n",
            "Requirement already satisfied: setproctitle in /usr/local/lib/python3.7/dist-packages (from wandb) (1.2.3)\n",
            "Requirement already satisfied: protobuf>=3.12.0 in /usr/local/lib/python3.7/dist-packages (from wandb) (3.17.3)\n",
            "Requirement already satisfied: Click!=8.0.0,>=7.0 in /usr/local/lib/python3.7/dist-packages (from wandb) (7.1.2)\n",
            "Requirement already satisfied: python-dateutil>=2.6.1 in /usr/local/lib/python3.7/dist-packages (from wandb) (2.8.2)\n",
            "Requirement already satisfied: gitdb<5,>=4.0.1 in /usr/local/lib/python3.7/dist-packages (from GitPython>=1.0.0->wandb) (4.0.9)\n",
            "Requirement already satisfied: typing-extensions>=3.7.4.3 in /usr/local/lib/python3.7/dist-packages (from GitPython>=1.0.0->wandb) (4.1.1)\n",
            "Requirement already satisfied: smmap<6,>=3.0.1 in /usr/local/lib/python3.7/dist-packages (from gitdb<5,>=4.0.1->GitPython>=1.0.0->wandb) (5.0.0)\n",
            "Requirement already satisfied: urllib3!=1.25.0,!=1.25.1,<1.26,>=1.21.1 in /usr/local/lib/python3.7/dist-packages (from requests<3,>=2.0.0->wandb) (1.24.3)\n",
            "Requirement already satisfied: certifi>=2017.4.17 in /usr/local/lib/python3.7/dist-packages (from requests<3,>=2.0.0->wandb) (2021.10.8)\n",
            "Requirement already satisfied: idna<3,>=2.5 in /usr/local/lib/python3.7/dist-packages (from requests<3,>=2.0.0->wandb) (2.10)\n",
            "Requirement already satisfied: chardet<4,>=3.0.2 in /usr/local/lib/python3.7/dist-packages (from requests<3,>=2.0.0->wandb) (3.0.4)\n"
          ]
        }
      ]
    },
    {
      "cell_type": "code",
      "source": [
        "import wandb\n",
        "wandb.init(project=\"fashionMnist\")"
      ],
      "metadata": {
        "colab": {
          "base_uri": "https://localhost:8080/",
          "height": 342,
          "referenced_widgets": [
            "177be94c7ab74afe9ca3119226ff1686",
            "e27825c5e1a64892bd81bc0f5412f0be",
            "bf83027042d04386883f7f1a7bfa6cf9",
            "d24d94eaeec84b63ba39a66fc2107907",
            "c929092407fa495aa7a58d66ac637db8",
            "f0a4a2836498468c9c1cf89f52ef9a92",
            "7ac04537eee141f6940db10af889de1a",
            "ee3873852c57412ca37c0ea4cad9d638"
          ]
        },
        "id": "VdUBTaGWYFZP",
        "outputId": "0f70b156-19b2-4f9b-e638-18cfdd5bb265"
      },
      "execution_count": 65,
      "outputs": [
        {
          "output_type": "display_data",
          "data": {
            "text/plain": [
              "<IPython.core.display.HTML object>"
            ],
            "text/html": [
              "Finishing last run (ID:2vs7uaow) before initializing another..."
            ]
          },
          "metadata": {}
        },
        {
          "output_type": "display_data",
          "data": {
            "text/plain": [
              "<IPython.core.display.HTML object>"
            ],
            "text/html": [
              "Waiting for W&B process to finish... <strong style=\"color:green\">(success).</strong>"
            ]
          },
          "metadata": {}
        },
        {
          "output_type": "display_data",
          "data": {
            "text/plain": [
              "VBox(children=(Label(value='0.001 MB of 0.001 MB uploaded (0.000 MB deduped)\\r'), FloatProgress(value=1.0, max…"
            ],
            "application/vnd.jupyter.widget-view+json": {
              "version_major": 2,
              "version_minor": 0,
              "model_id": "177be94c7ab74afe9ca3119226ff1686"
            }
          },
          "metadata": {}
        },
        {
          "output_type": "display_data",
          "data": {
            "text/plain": [
              "<IPython.core.display.HTML object>"
            ],
            "text/html": [
              "<style>\n",
              "    table.wandb td:nth-child(1) { padding: 0 10px; text-align: right }\n",
              "    .wandb-row { display: flex; flex-direction: row; flex-wrap: wrap; width: 100% }\n",
              "    .wandb-col { display: flex; flex-direction: column; flex-basis: 100%; flex: 1; padding: 10px; }\n",
              "    </style>\n",
              "<div class=\"wandb-row\"><div class=\"wandb-col\"><h3>Run history:</h3><br/><table class=\"wandb\"><tr><td>accuracy</td><td>▁▅▆▅▆▆▇▇▇▇▇▇▇▇▇▇████</td></tr><tr><td>epochs</td><td>▁▁▂▂▂▃▃▄▄▄▅▅▅▆▆▇▇▇██</td></tr><tr><td>loss</td><td>█▄▄▃▃▃▃▂▂▂▂▂▂▂▂▂▁▁▁▁</td></tr></table><br/></div><div class=\"wandb-col\"><h3>Run summary:</h3><br/><table class=\"wandb\"><tr><td>accuracy</td><td>0.47801</td></tr><tr><td>epochs</td><td>20</td></tr><tr><td>loss</td><td>1.57186</td></tr></table><br/></div></div>"
            ]
          },
          "metadata": {}
        },
        {
          "output_type": "display_data",
          "data": {
            "text/plain": [
              "<IPython.core.display.HTML object>"
            ],
            "text/html": [
              "Synced <strong style=\"color:#cdcd00\">good-water-4</strong>: <a href=\"https://wandb.ai/fatemezamanian/fashionMnist/runs/2vs7uaow\" target=\"_blank\">https://wandb.ai/fatemezamanian/fashionMnist/runs/2vs7uaow</a><br/>Synced 5 W&B file(s), 0 media file(s), 0 artifact file(s) and 0 other file(s)"
            ]
          },
          "metadata": {}
        },
        {
          "output_type": "display_data",
          "data": {
            "text/plain": [
              "<IPython.core.display.HTML object>"
            ],
            "text/html": [
              "Find logs at: <code>./wandb/run-20220422_235740-2vs7uaow/logs</code>"
            ]
          },
          "metadata": {}
        },
        {
          "output_type": "display_data",
          "data": {
            "text/plain": [
              "<IPython.core.display.HTML object>"
            ],
            "text/html": [
              "Successfully finished last run (ID:2vs7uaow). Initializing new run:<br/>"
            ]
          },
          "metadata": {}
        },
        {
          "output_type": "display_data",
          "data": {
            "text/plain": [
              "<IPython.core.display.HTML object>"
            ],
            "text/html": [
              "Tracking run with wandb version 0.12.15"
            ]
          },
          "metadata": {}
        },
        {
          "output_type": "display_data",
          "data": {
            "text/plain": [
              "<IPython.core.display.HTML object>"
            ],
            "text/html": [
              "Run data is saved locally in <code>/content/wandb/run-20220423_000157-817q2k4o</code>"
            ]
          },
          "metadata": {}
        },
        {
          "output_type": "display_data",
          "data": {
            "text/plain": [
              "<IPython.core.display.HTML object>"
            ],
            "text/html": [
              "Syncing run <strong><a href=\"https://wandb.ai/fatemezamanian/fashionMnist/runs/817q2k4o\" target=\"_blank\">sandy-resonance-5</a></strong> to <a href=\"https://wandb.ai/fatemezamanian/fashionMnist\" target=\"_blank\">Weights & Biases</a> (<a href=\"https://wandb.me/run\" target=\"_blank\">docs</a>)<br/>"
            ]
          },
          "metadata": {}
        },
        {
          "output_type": "execute_result",
          "data": {
            "text/html": [
              "<button onClick=\"this.nextSibling.style.display='block';this.style.display='none';\">Display W&B run</button><iframe src=\"https://wandb.ai/fatemezamanian/fashionMnist/runs/817q2k4o?jupyter=true\" style=\"border:none;width:100%;height:420px;display:none;\"></iframe>"
            ],
            "text/plain": [
              "<wandb.sdk.wandb_run.Run at 0x7f2b231e4cd0>"
            ]
          },
          "metadata": {},
          "execution_count": 65
        }
      ]
    },
    {
      "cell_type": "code",
      "source": [
        "def calc_acc(preds,labels):\n",
        "  _,pred_max=torch.max(preds,1)\n",
        "  acc=torch.sum(pred_max==labels.data,dtype=torch.float64)/len(preds)\n",
        "  return acc"
      ],
      "metadata": {
        "id": "Rc1qoUW454JT"
      },
      "execution_count": 76,
      "outputs": []
    },
    {
      "cell_type": "code",
      "source": [
        "class MyModel(torch.nn.Module):\n",
        "  def __init__(self):\n",
        "    super().__init__()\n",
        "    self.fc1=torch.nn.Linear(784,256)\n",
        "    self.fc2=torch.nn.Linear(256,64)\n",
        "    self.fc3=torch.nn.Linear(64,32)\n",
        "    self.fc4=torch.nn.Linear(32,16)\n",
        "    self.fc5=torch.nn.Linear(16,10)\n",
        "  def forward(self,x):\n",
        "    x=x.reshape((x.shape[0],784))\n",
        "    x=self.fc1(x)\n",
        "    x=torch.relu(x)\n",
        "    x=self.fc2(x)\n",
        "    x=torch.relu(x)\n",
        "    x=self.fc3(x)\n",
        "    x=torch.relu(x)\n",
        "    x=self.fc4(x)\n",
        "    x=torch.relu(x)\n",
        "    x=self.fc5(x)\n",
        "    x=torch.relu(x)\n",
        "    return x\n"
      ],
      "metadata": {
        "id": "RaCdFgyfTV5Y"
      },
      "execution_count": 77,
      "outputs": []
    },
    {
      "cell_type": "code",
      "source": [
        "device=torch.device(\"cuda\")\n",
        "model=MyModel()\n",
        "model=model.to(device)\n",
        "model.train(True)"
      ],
      "metadata": {
        "colab": {
          "base_uri": "https://localhost:8080/"
        },
        "id": "BHhQhXrPgPFj",
        "outputId": "4de7b8cf-f28b-49eb-eb3d-4225c735ba0c"
      },
      "execution_count": 78,
      "outputs": [
        {
          "output_type": "execute_result",
          "data": {
            "text/plain": [
              "MyModel(\n",
              "  (fc1): Linear(in_features=784, out_features=256, bias=True)\n",
              "  (fc2): Linear(in_features=256, out_features=64, bias=True)\n",
              "  (fc3): Linear(in_features=64, out_features=32, bias=True)\n",
              "  (fc4): Linear(in_features=32, out_features=16, bias=True)\n",
              "  (fc5): Linear(in_features=16, out_features=10, bias=True)\n",
              ")"
            ]
          },
          "metadata": {},
          "execution_count": 78
        }
      ]
    },
    {
      "cell_type": "code",
      "source": [
        "#hyper parameter\n",
        "batch_size=64\n",
        "epochs=20\n",
        "lr=0.01"
      ],
      "metadata": {
        "id": "6mix0XfMhpRc"
      },
      "execution_count": 79,
      "outputs": []
    },
    {
      "cell_type": "code",
      "source": [
        "transform=torchvision.transforms.Compose([\n",
        "                                torchvision.transforms.ToTensor(),\n",
        "                                torchvision.transforms.Normalize((0),(1)),\n",
        "])\n",
        "\n",
        "dataset=torchvision.datasets.FashionMNIST(\"./dataset\",train=True,transform=transform,download=True)\n",
        "train_data_loader=torch.utils.data.DataLoader(dataset,batch_size=batch_size,shuffle=True)"
      ],
      "metadata": {
        "id": "1L8AL7WIh9XQ"
      },
      "execution_count": 80,
      "outputs": []
    },
    {
      "cell_type": "code",
      "source": [
        "optimizer=torch.optim.Adam(model.parameters(),lr=lr)\n",
        "loss_function=torch.nn.CrossEntropyLoss()\n"
      ],
      "metadata": {
        "id": "xUW_HnGQjNHG"
      },
      "execution_count": 81,
      "outputs": []
    },
    {
      "cell_type": "code",
      "source": [
        "for epoch in range(epochs):\n",
        "  train_loss=0.0\n",
        "  train_acc=0.0\n",
        "  for images,labels in train_data_loader:\n",
        "    images=images.to(device)\n",
        "    labels=labels.to(device)\n",
        "\n",
        "    optimizer.zero_grad()\n",
        "    pred=model(images)\n",
        "    loss=loss_function(pred,labels)\n",
        "    loss.backward()\n",
        "    optimizer.step()\n",
        "    train_loss+=loss\n",
        "    train_acc+=calc_acc(pred,labels)\n",
        "  \n",
        "  total_loss=train_loss/len(train_data_loader)\n",
        "  total_acc=train_acc/len(train_data_loader)\n",
        "  print(f\"epochs: {epoch} , loss: {total_loss}, acc: {total_acc}\")\n",
        "  wandb.log({'epochs': epoch+1,\n",
        "        'loss': total_loss,\n",
        "        'accuracy':total_acc\n",
        "        })"
      ],
      "metadata": {
        "colab": {
          "base_uri": "https://localhost:8080/"
        },
        "id": "vZBVbojurQob",
        "outputId": "be34b5db-b2ee-44e0-d370-bea8533b39a3"
      },
      "execution_count": 82,
      "outputs": [
        {
          "output_type": "stream",
          "name": "stdout",
          "text": [
            "epochs: 0 , loss: 1.0473616123199463, acc: 0.626915644989339\n",
            "epochs: 1 , loss: 0.8642200827598572, acc: 0.6863839285714286\n",
            "epochs: 2 , loss: 0.8327764868736267, acc: 0.697378065031983\n",
            "epochs: 3 , loss: 0.8131236433982849, acc: 0.7018590085287847\n",
            "epochs: 4 , loss: 0.807710587978363, acc: 0.7027085554371002\n",
            "epochs: 5 , loss: 0.7989712953567505, acc: 0.7060900852878464\n",
            "epochs: 6 , loss: 0.8011348843574524, acc: 0.7048074360341151\n",
            "epochs: 7 , loss: 0.7919422388076782, acc: 0.7073061034115139\n",
            "epochs: 8 , loss: 0.7825784683227539, acc: 0.7091384594882729\n",
            "epochs: 9 , loss: 0.7856165170669556, acc: 0.7083388859275053\n",
            "epochs: 10 , loss: 0.7799783945083618, acc: 0.7084055170575693\n",
            "epochs: 11 , loss: 0.7738140821456909, acc: 0.7119536247334755\n",
            "epochs: 12 , loss: 0.7673687934875488, acc: 0.7125699626865671\n",
            "epochs: 13 , loss: 0.7728363871574402, acc: 0.710954157782516\n",
            "epochs: 14 , loss: 0.7715227007865906, acc: 0.711054104477612\n",
            "epochs: 15 , loss: 0.7727746963500977, acc: 0.7096715085287847\n",
            "epochs: 16 , loss: 0.7923382520675659, acc: 0.7063232942430704\n",
            "epochs: 17 , loss: 0.7792372703552246, acc: 0.705140591684435\n",
            "epochs: 18 , loss: 0.7751701474189758, acc: 0.7060900852878464\n",
            "epochs: 19 , loss: 0.7727444171905518, acc: 0.7140858208955224\n"
          ]
        }
      ]
    },
    {
      "cell_type": "code",
      "source": [
        "torch.save(model.state_dict(),\"fashion.pth\")"
      ],
      "metadata": {
        "id": "ihU5Hxik_O3N"
      },
      "execution_count": 83,
      "outputs": []
    },
    {
      "cell_type": "code",
      "source": [
        "#infrence\n",
        "import cv2\n",
        "import numpy as np"
      ],
      "metadata": {
        "id": "gOplK3UFBTpE"
      },
      "execution_count": 84,
      "outputs": []
    },
    {
      "cell_type": "code",
      "source": [
        "model.eval()\n",
        "img=cv2.imread('test1.png')\n",
        "img=cv2.cvtColor(img,cv2.COLOR_BGR2GRAY)\n",
        "img=cv2.resize(img,(28,28))\n",
        "tensor=transform(img).unsqueeze(0)\n",
        "tensor=tensor.to(device)\n",
        "pred=model(tensor)\n",
        "# pred=pred.argmax()\n",
        "\n",
        "pred=pred.cpu().detach().numpy()\n",
        "out=np.argmax(pred)\n",
        "out"
      ],
      "metadata": {
        "colab": {
          "base_uri": "https://localhost:8080/"
        },
        "id": "HUj0GziaATYV",
        "outputId": "3d7c10a0-8816-4116-faa2-72d0223b6078"
      },
      "execution_count": 85,
      "outputs": [
        {
          "output_type": "execute_result",
          "data": {
            "text/plain": [
              "2"
            ]
          },
          "metadata": {},
          "execution_count": 85
        }
      ]
    }
  ]
}