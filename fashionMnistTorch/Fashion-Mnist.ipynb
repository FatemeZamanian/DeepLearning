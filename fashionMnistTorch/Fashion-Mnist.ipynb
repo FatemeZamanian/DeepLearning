{
  "nbformat": 4,
  "nbformat_minor": 0,
  "metadata": {
    "colab": {
      "name": "Untitled0.ipynb",
      "provenance": []
    },
    "kernelspec": {
      "name": "python3",
      "display_name": "Python 3"
    },
    "language_info": {
      "name": "python"
    },
    "accelerator": "GPU"
  },
  "cells": [
    {
      "cell_type": "code",
      "execution_count": 1,
      "metadata": {
        "id": "28l8R-OXPApk"
      },
      "outputs": [],
      "source": [
        "import torch\n",
        "import torchvision"
      ]
    },
    {
      "cell_type": "code",
      "source": [
        "def calc_acc(preds,labels):\n",
        "  _,pred_max=torch.max(preds,1)\n",
        "  acc=torch.sum(pred_max==labels.data,dtype=torch.float64)/len(preds)\n",
        "  return acc"
      ],
      "metadata": {
        "id": "Rc1qoUW454JT"
      },
      "execution_count": 2,
      "outputs": []
    },
    {
      "cell_type": "code",
      "source": [
        "class MyModel(torch.nn.Module):\n",
        "  def __init__(self):\n",
        "    super().__init__()\n",
        "    self.fc1=torch.nn.Linear(784,128)\n",
        "    self.fc2=torch.nn.Linear(128,32)\n",
        "    self.fc3=torch.nn.Linear(32,16)\n",
        "    self.fc4=torch.nn.Linear(16,10)\n",
        "    # self.fc5=torch.nn.Linear(64,32)\n",
        "    # self.fc6=torch.nn.Linear(32,16)\n",
        "    # self.fc7=torch.nn.Linear(16,10)\n",
        "  def forward(self,x):\n",
        "    x=x.reshape((x.shape[0],784))\n",
        "    x=self.fc1(x)\n",
        "    x=torch.relu(x)\n",
        "    x=self.fc2(x)\n",
        "    x=torch.relu(x)\n",
        "    x=self.fc3(x)\n",
        "    x=torch.relu(x)\n",
        "    x=self.fc4(x)\n",
        "    x=torch.relu(x)\n",
        "    # x=self.fc5(x)\n",
        "    # x=torch.relu(x)\n",
        "    # x=self.fc6(x)\n",
        "    # x=torch.relu(x)\n",
        "    # x=self.fc7(x)\n",
        "    # x=torch.relu(x)\n",
        "    return x\n"
      ],
      "metadata": {
        "id": "RaCdFgyfTV5Y"
      },
      "execution_count": 12,
      "outputs": []
    },
    {
      "cell_type": "code",
      "source": [
        "device=torch.device(\"cuda\")\n",
        "model=MyModel()\n",
        "model=model.to(device)\n",
        "model.train(True)"
      ],
      "metadata": {
        "colab": {
          "base_uri": "https://localhost:8080/"
        },
        "id": "BHhQhXrPgPFj",
        "outputId": "ac6ced8d-2ae8-4383-c888-d5e1d77bdbe9"
      },
      "execution_count": 13,
      "outputs": [
        {
          "output_type": "execute_result",
          "data": {
            "text/plain": [
              "MyModel(\n",
              "  (fc1): Linear(in_features=784, out_features=128, bias=True)\n",
              "  (fc2): Linear(in_features=128, out_features=32, bias=True)\n",
              "  (fc3): Linear(in_features=32, out_features=16, bias=True)\n",
              "  (fc4): Linear(in_features=16, out_features=10, bias=True)\n",
              ")"
            ]
          },
          "metadata": {},
          "execution_count": 13
        }
      ]
    },
    {
      "cell_type": "code",
      "source": [
        "#hyper parameter\n",
        "batch_size=64\n",
        "epochs=10\n",
        "lr=0.01"
      ],
      "metadata": {
        "id": "6mix0XfMhpRc"
      },
      "execution_count": 14,
      "outputs": []
    },
    {
      "cell_type": "code",
      "source": [
        "transform=torchvision.transforms.Compose([\n",
        "                                torchvision.transforms.ToTensor(),\n",
        "                                torchvision.transforms.Normalize((0),(1)),\n",
        "])\n",
        "\n",
        "dataset=torchvision.datasets.FashionMNIST(\"./dataset\",train=True,transform=transform,download=True)\n",
        "train_data_loader=torch.utils.data.DataLoader(dataset,batch_size=batch_size,shuffle=True)"
      ],
      "metadata": {
        "id": "1L8AL7WIh9XQ"
      },
      "execution_count": 15,
      "outputs": []
    },
    {
      "cell_type": "code",
      "source": [
        "optimizer=torch.optim.Adam(model.parameters(),lr=lr)\n",
        "loss_function=torch.nn.CrossEntropyLoss()\n"
      ],
      "metadata": {
        "id": "xUW_HnGQjNHG"
      },
      "execution_count": 16,
      "outputs": []
    },
    {
      "cell_type": "code",
      "source": [
        "for epoch in range(epochs):\n",
        "  train_loss=0.0\n",
        "  train_acc=0.0\n",
        "  for images,labels in train_data_loader:\n",
        "    images=images.to(device)\n",
        "    labels=labels.to(device)\n",
        "\n",
        "    optimizer.zero_grad()\n",
        "    pred=model(images)\n",
        "    loss=loss_function(pred,labels)\n",
        "    loss.backward()\n",
        "    optimizer.step()\n",
        "    train_loss+=loss\n",
        "    train_acc+=calc_acc(pred,labels)\n",
        "  \n",
        "  total_loss=train_loss/len(train_data_loader)\n",
        "  total_acc=train_acc/len(train_data_loader)\n",
        "  print(f\"epochs: {epoch} , loss: {total_loss}, acc: {total_acc}\")"
      ],
      "metadata": {
        "colab": {
          "base_uri": "https://localhost:8080/"
        },
        "id": "vZBVbojurQob",
        "outputId": "b7521393-2cca-478d-d0c1-e42324cce353"
      },
      "execution_count": 17,
      "outputs": [
        {
          "output_type": "stream",
          "name": "stdout",
          "text": [
            "epochs: 0 , loss: 1.0861618518829346, acc: 0.634878065031983\n",
            "epochs: 1 , loss: 0.8871561288833618, acc: 0.6902985074626865\n",
            "epochs: 2 , loss: 0.8304057717323303, acc: 0.6997434701492538\n",
            "epochs: 3 , loss: 0.8103877902030945, acc: 0.7041078091684435\n",
            "epochs: 4 , loss: 0.7961141467094421, acc: 0.7075892857142857\n",
            "epochs: 5 , loss: 0.793221652507782, acc: 0.7085054637526652\n",
            "epochs: 6 , loss: 0.7805495262145996, acc: 0.7123034381663113\n",
            "epochs: 7 , loss: 0.7799817323684692, acc: 0.7112206823027718\n",
            "epochs: 8 , loss: 0.7779161334037781, acc: 0.7104710820895522\n",
            "epochs: 9 , loss: 0.769792377948761, acc: 0.7141191364605544\n"
          ]
        }
      ]
    },
    {
      "cell_type": "code",
      "source": [
        "torch.save(model.state_dict(),\"fashion.pth\")"
      ],
      "metadata": {
        "id": "ihU5Hxik_O3N"
      },
      "execution_count": 18,
      "outputs": []
    },
    {
      "cell_type": "code",
      "source": [
        "#infrence\n",
        "import cv2\n",
        "import numpy as np"
      ],
      "metadata": {
        "id": "gOplK3UFBTpE"
      },
      "execution_count": 19,
      "outputs": []
    },
    {
      "cell_type": "code",
      "source": [
        "model.eval()\n",
        "img=cv2.imread('test1.png')\n",
        "img=cv2.cvtColor(img,cv2.COLOR_BGR2GRAY)\n",
        "img=cv2.resize(img,(28,28))\n",
        "tensor=transform(img).unsqueeze(0)\n",
        "tensor=tensor.to(device)\n",
        "pred=model(tensor)\n",
        "# pred=pred.argmax()\n",
        "\n",
        "pred=pred.cpu().detach().numpy()\n",
        "out=np.argmax(pred)\n",
        "out"
      ],
      "metadata": {
        "id": "HUj0GziaATYV"
      },
      "execution_count": null,
      "outputs": []
    }
  ]
}